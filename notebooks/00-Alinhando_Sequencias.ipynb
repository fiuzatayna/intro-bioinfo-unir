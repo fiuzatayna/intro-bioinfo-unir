{
 "cells": [
  {
   "cell_type": "markdown",
   "id": "91cf2470-ce0f-4575-a5b8-e352ee159635",
   "metadata": {},
   "source": [
    "# Alinhamento de sequências\n",
    "\n",
    "## Como determinar quão similares duas sequências são?\n",
    "\n",
    "Vimos na apresentação que em 1970 foi criado o algoritmo de Needleman-Wunsch, capaz de realizar um alinhamento global, isto é, de sequência inteira, entre um par de proteínas. Mas como ele faz isso?\n",
    "\n",
    "### Distância de Hamming\n",
    "\n",
    "Para começar, vamos olhar para a distância de hamming entre duas sequências de proteína. Em bioinformática, tais sequências podem ser representadas por uma *string* contendo as letras que representam cada aminoácido. Sendo assim, tomemos as sequências `seqA`, `seqB` e `seqC`."
   ]
  },
  {
   "cell_type": "code",
   "execution_count": 1,
   "id": "9ae680eb-6b66-4812-9090-3a287a688e2f",
   "metadata": {},
   "outputs": [
    {
     "name": "stdout",
     "output_type": "stream",
     "text": [
      "MVLSPADKTNVKAAWGKVGAHAGEYGAEALERMFLSFPTTKTYFPHFDLSHGSAQVKGHGKKVADALTNAVAHVDDMPNALSALSDLHAHKLRVDPVNFKLLSHCLLVTLAAHLPAEFTPAVHASLDKFLASVSTVLTSKYR\n",
      "MVLSAADKNNVKGIFTKIAGHAEEYGAETLERMFTTYPPTKTYFPHFDLSHGSAQIKGHGKKVVAALIEAANHIDDIAGTLSKLSDLHAHKLRVDPVNFKLLGQCFLVVVAIHHPAALTPEVHASLDKFLCAVGTVLTAKYR\n",
      "MVLFPADKSNVKATWAKIGNHGAEYGAEALERMFMNFPSTKTYFPHFDLGHDSAQVKGHGKKVADALTKAAGHMDNLLDALSDLSDLHAHKLRVDPVNFKLLSHCLLVTLALHLPAEFTPSVHASLDKFLASVSTVLTSKYR\n"
     ]
    }
   ],
   "source": [
    "from scipy.spatial.distance import hamming\n",
    "import skbio\n",
    "\n",
    "# NCBI Reference Sequence: NP_000508.1 (human hemoglobin subunit A)\n",
    "seqA = skbio.Protein(\"MVLSPADKTNVKAAWGKVGAHAGEYGAEALERMFLSFPTTKTYFPHFDLSHGSAQVKGHGKKVADALTNAVAHVDDMPNALSALSDLHAHKLRVDPVNFKLLSHCLLVTLAAHLPAEFTPAVHASLDKFLASVSTVLTSKYR\")\n",
    "\n",
    "# NCBI Reference Sequence: NP_001004376.1 (chicken hemoglobin subunit A)\n",
    "seqB = skbio.Protein(\"MVLSAADKNNVKGIFTKIAGHAEEYGAETLERMFTTYPPTKTYFPHFDLSHGSAQIKGHGKKVVAALIEAANHIDDIAGTLSKLSDLHAHKLRVDPVNFKLLGQCFLVVVAIHHPAALTPEVHASLDKFLCAVGTVLTAKYR\")\n",
    "\n",
    "# GenBank: QFF91579.1 (sei whale hemoglobin subunit A)\n",
    "seqC = skbio.Protein(\"MVLFPADKSNVKATWAKIGNHGAEYGAEALERMFMNFPSTKTYFPHFDLGHDSAQVKGHGKKVADALTKAAGHMDNLLDALSDLSDLHAHKLRVDPVNFKLLSHCLLVTLALHLPAEFTPSVHASLDKFLASVSTVLTSKYR\")\n",
    "\n",
    "print(seqA)\n",
    "print(seqB)\n",
    "print(seqC)"
   ]
  },
  {
   "cell_type": "code",
   "execution_count": 2,
   "id": "b0a3248c-daf7-4048-9d6d-61746200c7f2",
   "metadata": {},
   "outputs": [
    {
     "name": "stdout",
     "output_type": "stream",
     "text": [
      "0.16901408450704225\n",
      "0.31690140845070425\n"
     ]
    }
   ],
   "source": [
    "print(hamming(seqA, seqC))\n",
    "print(hamming(seqB, seqC))"
   ]
  },
  {
   "cell_type": "markdown",
   "id": "b3233e16-3b14-4f0a-81c4-f40051acab57",
   "metadata": {},
   "source": [
    "Aqui vemos que, para a cadeia A da hemoglobina, a distância de hamming entre a sequência humana (`seqA`) e a sequência de baleia (`seqC`) é menor do que aquela entre a sequência de galinha (`seqB`) e a sequência de baleia (`seqC`). \n",
    "\n",
    "- O que isso pode significar, em termos evolutivos?\n",
    "\n",
    "![galinha ciscando](https://media.giphy.com/media/l3vR9IEU6nYAmZyoM/giphy.gif)"
   ]
  },
  {
   "cell_type": "markdown",
   "id": "d15a68ed-48a6-4f8f-95a5-76a396c8350b",
   "metadata": {},
   "source": [
    "Essa comparação utilizando a distância de Hamming pode ser interessante quando falamos de mudanças causadas apenas por substituições de aminoácidos. Porém, no DNA podem acontecer:\n",
    "- substituições\n",
    "- inserções\n",
    "- deleções\n",
    "\n",
    "E há ainda outras formas de categorizar as mutações possíveis e existentes. O que aconteceria com essa métrica caso ocorresse uma deleção no último aminoácido da sequência?"
   ]
  },
  {
   "cell_type": "code",
   "execution_count": 3,
   "id": "1eefeb31-af5c-4f32-983e-b8018147944b",
   "metadata": {},
   "outputs": [
    {
     "name": "stdout",
     "output_type": "stream",
     "text": [
      "0.9084507042253521\n",
      "0.9225352112676056\n"
     ]
    }
   ],
   "source": [
    "# NCBI Reference Sequence: XP_028905054.1 (platypus hemoglobin subunit A); \n",
    "# Cadeia A da Hemoglobina de Ornitorrinco\n",
    "# Possui um aminoácido a menos, então vamos adicionar um hífen '-'\n",
    "# assim poderemos calculara distância de Hamming\n",
    "\n",
    "seqD = skbio.Protein(\"MLTDAEKKEVTALWGKAAGHGEEYGAEALERLFQAFPTTKTYFSHFDLSHGSAQIKAHGKKVADALSTAAGHFDDMDSALSALSDLHAHKLRVDPVNFKLLAHCILVVLARHCPGEFTPSAHAAMDKFLSKVATVLTSKYR-\")\n",
    "\n",
    "print(hamming(seqA, seqD))\n",
    "print(hamming(seqB, seqD))"
   ]
  },
  {
   "cell_type": "markdown",
   "id": "11929a02-ce36-4df1-b1a5-fd256508072c",
   "metadata": {},
   "source": [
    "Aqui, apesar de uma relação de **homologia** conhecida entre esses genes, a distância de Hamming saltou em relação os valores anteriores. Aqui os valores sugerem que a proteína em questão é mais similar entre humanos e ornitorrincos, ambos mamíferos, o que faz sentido. Mas os valores são muito mais altos. \n",
    "\n",
    "Vamos olhar um pouco para as sequências..."
   ]
  },
  {
   "cell_type": "code",
   "execution_count": 4,
   "id": "4c24d010-3733-46aa-8a65-6d71616c56a4",
   "metadata": {},
   "outputs": [
    {
     "name": "stdout",
     "output_type": "stream",
     "text": [
      "MVLSPADKTN ... VSTVLTSKYR\n",
      "MVLSAADKNN ... VGTVLTAKYR\n",
      "MVLFPADKSN ... VSTVLTSKYR\n",
      "MLTDAEKKEV ... ATVLTSKYR-\n"
     ]
    }
   ],
   "source": [
    "print(seqA[0:10],'...',seqA[-10:]) # humano\n",
    "print(seqB[0:10],'...',seqB[-10:]) # galinha\n",
    "print(seqC[0:10],'...',seqC[-10:]) # baleia\n",
    "print(seqD[0:10],'...',seqD[-10:]) # ornitorrinco"
   ]
  },
  {
   "cell_type": "markdown",
   "id": "a243d737-36a5-4ece-9083-a2b687929401",
   "metadata": {},
   "source": [
    "O que se pode notar é que o fim das sequências se parece, todas terminando em `TVLTAKYR`, enquanto que no início das sequências, uma valina (`V`) parece ter *deletada* da sequência de ornitorrinco. O que acontece com a distância de hamming se mudarmos o hífen de lugar?"
   ]
  },
  {
   "cell_type": "code",
   "execution_count": 5,
   "id": "3f64cccd-dd71-4984-9d71-42c023fbfbbf",
   "metadata": {},
   "outputs": [
    {
     "name": "stdout",
     "output_type": "stream",
     "text": [
      "0.2746478873239437\n",
      "0.34507042253521125\n"
     ]
    }
   ],
   "source": [
    "# NCBI Reference Sequence: XP_028905054.1 (platypus hemoglobin subunit A); \n",
    "# Cadeia A da Hemoglobina de Ornitorrinco\n",
    "# Possui um aminoácido a menos, então vamos adicionar um hífen '-'\n",
    "# Esse hífen será adicionado na segunda posição para alinhar manualmente as seq\n",
    "\n",
    "seqD_alinhada = skbio.Protein(\"M-LTDAEKKEVTALWGKAAGHGEEYGAEALERLFQAFPTTKTYFSHFDLSHGSAQIKAHGKKVADALSTAAGHFDDMDSALSALSDLHAHKLRVDPVNFKLLAHCILVVLARHCPGEFTPSAHAAMDKFLSKVATVLTSKYR\")\n",
    "\n",
    "print(hamming(seqA, seqD_alinhada)) # humano x ornitorrinco\n",
    "print(hamming(seqB, seqD_alinhada)) # galinha x ornitorrinco"
   ]
  },
  {
   "cell_type": "code",
   "execution_count": 6,
   "id": "aae10828-a274-4a12-aa15-f57d30042c7b",
   "metadata": {},
   "outputs": [
    {
     "name": "stdout",
     "output_type": "stream",
     "text": [
      "0.2746478873239437\n",
      "0.16901408450704225\n"
     ]
    }
   ],
   "source": [
    "print(hamming(seqA, seqD_alinhada)) # humano x ornitorrinco\n",
    "print(hamming(seqA, seqC)) # humano x baleia"
   ]
  },
  {
   "cell_type": "markdown",
   "id": "8c2ee28e-5cf1-4ff8-91ea-b471d1523077",
   "metadata": {},
   "source": [
    "Esses valores agora são muito mais condizentes com os valores esperados para sequências próximas. Além disso, vemos que a distância entre as sequências de humanos e ornitorrincos é maior que aquela entre as humanos e baleia. Esse resultado se apoia ao que conhecemos sobre a história evolutiva dos mamíferos: ornitorrincos surgiram como espécie antes de baleias, e estas antes de humanos.\n",
    "\n",
    "> Comparar sequências do DNA, do RNA e das proteínas de várias espécies pode ser usado para construir um *relógio molecular* que aponta as distâncias relativas entre essas espécies."
   ]
  },
  {
   "cell_type": "markdown",
   "id": "6959dfd6-d334-4e84-b0f1-797ea079dbf7",
   "metadata": {},
   "source": [
    "Para fins de visualização, observe agora as sequências humana e de ornitorrinco, com o alinhamento manual."
   ]
  },
  {
   "cell_type": "markdown",
   "id": "8d70619f-0111-4772-9539-4120f0d96d70",
   "metadata": {},
   "source": [
    "## Um algoritmo para o alinhamento global de duas sequências\n",
    "\n",
    "Agora que entendemos a necessidade de um alinhamento de sequências que leve em conta os possíveis eventos de mutação das sequências ao longo da evolução das espécies, vamos entender como funciona um algorimo de alinhamento de pares de sequências.\n"
   ]
  },
  {
   "cell_type": "code",
   "execution_count": 7,
   "id": "76e38eb1-dbc0-4660-a3f8-7e0913925969",
   "metadata": {},
   "outputs": [
    {
     "name": "stdout",
     "output_type": "stream",
     "text": [
      "MVLSPADKTNVKAAWGKVGAHAGEYGAEALERMFLSFPTTKTYFPHFDLSHGSAQVKGHGKKVADALTNAVAHVDDMPNALSALSDLHAHKLRVDPVNFKLLSHCLLVTLAAHLPAEFTPAVHASLDKFLASVSTVLTSKYR\n",
      "M-LTDAEKKEVTALWGKAAGHGEEYGAEALERLFQAFPTTKTYFSHFDLSHGSAQIKAHGKKVADALSTAAGHFDDMDSALSALSDLHAHKLRVDPVNFKLLAHCILVVLARHCPGEFTPSAHAAMDKFLSKVATVLTSKYR\n"
     ]
    }
   ],
   "source": [
    "print(seqA)\n",
    "print(seqD_alinhada)"
   ]
  },
  {
   "cell_type": "code",
   "execution_count": 8,
   "id": "2dd5879c-ff15-49a1-bca2-bf88f83a8a30",
   "metadata": {},
   "outputs": [],
   "source": [
    "from skbio import DNA\n",
    "\n",
    "seqA = DNA(\"ACCGGTGGAACCGGTAACACCCAC\")\n",
    "seqB = DNA(\"ACCGGTAACCGGTTAACACCCAC\")"
   ]
  },
  {
   "cell_type": "markdown",
   "id": "0e27d35c-e189-4373-a438-99328d09cc7a",
   "metadata": {},
   "source": [
    "Com nossas sequências fictícias podemos criar então uma matriz para os alinhamentos. O número de colunas e linhas depende do comprimento das sequências. Esta matriz será inicializada com zeros."
   ]
  },
  {
   "cell_type": "code",
   "execution_count": 9,
   "id": "0997e8b6-790f-498e-8b2b-1402ac72064b",
   "metadata": {
    "tags": []
   },
   "outputs": [],
   "source": [
    "import numpy as np\n",
    "\n",
    "num_linhas = len(seqB)\n",
    "num_colunas = len(seqA)\n",
    "matriz = np.zeros(shape=(num_linhas, num_colunas), dtype=int)"
   ]
  },
  {
   "cell_type": "code",
   "execution_count": 10,
   "id": "f1dde2ed-830b-4b54-a184-9687d5967d94",
   "metadata": {},
   "outputs": [
    {
     "data": {
      "text/html": [
       "<table>\n",
       "<thead>\n",
       "<tr><th>  </th><th style=\"text-align: right;\">  A</th><th style=\"text-align: right;\">  C</th><th style=\"text-align: right;\">  C</th><th style=\"text-align: right;\">  G</th><th style=\"text-align: right;\">  G</th><th style=\"text-align: right;\">  T</th><th style=\"text-align: right;\">  G</th><th style=\"text-align: right;\">  G</th><th style=\"text-align: right;\">  A</th><th style=\"text-align: right;\">  A</th><th style=\"text-align: right;\">  C</th><th style=\"text-align: right;\">  C</th><th style=\"text-align: right;\">  G</th><th style=\"text-align: right;\">  G</th><th style=\"text-align: right;\">  T</th><th style=\"text-align: right;\">  A</th><th style=\"text-align: right;\">  A</th><th style=\"text-align: right;\">  C</th><th style=\"text-align: right;\">  A</th><th style=\"text-align: right;\">  C</th><th style=\"text-align: right;\">  C</th><th style=\"text-align: right;\">  C</th><th style=\"text-align: right;\">  A</th><th style=\"text-align: right;\">  C</th></tr>\n",
       "</thead>\n",
       "<tbody>\n",
       "<tr><td>A </td><td style=\"text-align: right;\">  0</td><td style=\"text-align: right;\">  0</td><td style=\"text-align: right;\">  0</td><td style=\"text-align: right;\">  0</td><td style=\"text-align: right;\">  0</td><td style=\"text-align: right;\">  0</td><td style=\"text-align: right;\">  0</td><td style=\"text-align: right;\">  0</td><td style=\"text-align: right;\">  0</td><td style=\"text-align: right;\">  0</td><td style=\"text-align: right;\">  0</td><td style=\"text-align: right;\">  0</td><td style=\"text-align: right;\">  0</td><td style=\"text-align: right;\">  0</td><td style=\"text-align: right;\">  0</td><td style=\"text-align: right;\">  0</td><td style=\"text-align: right;\">  0</td><td style=\"text-align: right;\">  0</td><td style=\"text-align: right;\">  0</td><td style=\"text-align: right;\">  0</td><td style=\"text-align: right;\">  0</td><td style=\"text-align: right;\">  0</td><td style=\"text-align: right;\">  0</td><td style=\"text-align: right;\">  0</td></tr>\n",
       "<tr><td>C </td><td style=\"text-align: right;\">  0</td><td style=\"text-align: right;\">  0</td><td style=\"text-align: right;\">  0</td><td style=\"text-align: right;\">  0</td><td style=\"text-align: right;\">  0</td><td style=\"text-align: right;\">  0</td><td style=\"text-align: right;\">  0</td><td style=\"text-align: right;\">  0</td><td style=\"text-align: right;\">  0</td><td style=\"text-align: right;\">  0</td><td style=\"text-align: right;\">  0</td><td style=\"text-align: right;\">  0</td><td style=\"text-align: right;\">  0</td><td style=\"text-align: right;\">  0</td><td style=\"text-align: right;\">  0</td><td style=\"text-align: right;\">  0</td><td style=\"text-align: right;\">  0</td><td style=\"text-align: right;\">  0</td><td style=\"text-align: right;\">  0</td><td style=\"text-align: right;\">  0</td><td style=\"text-align: right;\">  0</td><td style=\"text-align: right;\">  0</td><td style=\"text-align: right;\">  0</td><td style=\"text-align: right;\">  0</td></tr>\n",
       "<tr><td>C </td><td style=\"text-align: right;\">  0</td><td style=\"text-align: right;\">  0</td><td style=\"text-align: right;\">  0</td><td style=\"text-align: right;\">  0</td><td style=\"text-align: right;\">  0</td><td style=\"text-align: right;\">  0</td><td style=\"text-align: right;\">  0</td><td style=\"text-align: right;\">  0</td><td style=\"text-align: right;\">  0</td><td style=\"text-align: right;\">  0</td><td style=\"text-align: right;\">  0</td><td style=\"text-align: right;\">  0</td><td style=\"text-align: right;\">  0</td><td style=\"text-align: right;\">  0</td><td style=\"text-align: right;\">  0</td><td style=\"text-align: right;\">  0</td><td style=\"text-align: right;\">  0</td><td style=\"text-align: right;\">  0</td><td style=\"text-align: right;\">  0</td><td style=\"text-align: right;\">  0</td><td style=\"text-align: right;\">  0</td><td style=\"text-align: right;\">  0</td><td style=\"text-align: right;\">  0</td><td style=\"text-align: right;\">  0</td></tr>\n",
       "<tr><td>G </td><td style=\"text-align: right;\">  0</td><td style=\"text-align: right;\">  0</td><td style=\"text-align: right;\">  0</td><td style=\"text-align: right;\">  0</td><td style=\"text-align: right;\">  0</td><td style=\"text-align: right;\">  0</td><td style=\"text-align: right;\">  0</td><td style=\"text-align: right;\">  0</td><td style=\"text-align: right;\">  0</td><td style=\"text-align: right;\">  0</td><td style=\"text-align: right;\">  0</td><td style=\"text-align: right;\">  0</td><td style=\"text-align: right;\">  0</td><td style=\"text-align: right;\">  0</td><td style=\"text-align: right;\">  0</td><td style=\"text-align: right;\">  0</td><td style=\"text-align: right;\">  0</td><td style=\"text-align: right;\">  0</td><td style=\"text-align: right;\">  0</td><td style=\"text-align: right;\">  0</td><td style=\"text-align: right;\">  0</td><td style=\"text-align: right;\">  0</td><td style=\"text-align: right;\">  0</td><td style=\"text-align: right;\">  0</td></tr>\n",
       "<tr><td>G </td><td style=\"text-align: right;\">  0</td><td style=\"text-align: right;\">  0</td><td style=\"text-align: right;\">  0</td><td style=\"text-align: right;\">  0</td><td style=\"text-align: right;\">  0</td><td style=\"text-align: right;\">  0</td><td style=\"text-align: right;\">  0</td><td style=\"text-align: right;\">  0</td><td style=\"text-align: right;\">  0</td><td style=\"text-align: right;\">  0</td><td style=\"text-align: right;\">  0</td><td style=\"text-align: right;\">  0</td><td style=\"text-align: right;\">  0</td><td style=\"text-align: right;\">  0</td><td style=\"text-align: right;\">  0</td><td style=\"text-align: right;\">  0</td><td style=\"text-align: right;\">  0</td><td style=\"text-align: right;\">  0</td><td style=\"text-align: right;\">  0</td><td style=\"text-align: right;\">  0</td><td style=\"text-align: right;\">  0</td><td style=\"text-align: right;\">  0</td><td style=\"text-align: right;\">  0</td><td style=\"text-align: right;\">  0</td></tr>\n",
       "<tr><td>T </td><td style=\"text-align: right;\">  0</td><td style=\"text-align: right;\">  0</td><td style=\"text-align: right;\">  0</td><td style=\"text-align: right;\">  0</td><td style=\"text-align: right;\">  0</td><td style=\"text-align: right;\">  0</td><td style=\"text-align: right;\">  0</td><td style=\"text-align: right;\">  0</td><td style=\"text-align: right;\">  0</td><td style=\"text-align: right;\">  0</td><td style=\"text-align: right;\">  0</td><td style=\"text-align: right;\">  0</td><td style=\"text-align: right;\">  0</td><td style=\"text-align: right;\">  0</td><td style=\"text-align: right;\">  0</td><td style=\"text-align: right;\">  0</td><td style=\"text-align: right;\">  0</td><td style=\"text-align: right;\">  0</td><td style=\"text-align: right;\">  0</td><td style=\"text-align: right;\">  0</td><td style=\"text-align: right;\">  0</td><td style=\"text-align: right;\">  0</td><td style=\"text-align: right;\">  0</td><td style=\"text-align: right;\">  0</td></tr>\n",
       "<tr><td>A </td><td style=\"text-align: right;\">  0</td><td style=\"text-align: right;\">  0</td><td style=\"text-align: right;\">  0</td><td style=\"text-align: right;\">  0</td><td style=\"text-align: right;\">  0</td><td style=\"text-align: right;\">  0</td><td style=\"text-align: right;\">  0</td><td style=\"text-align: right;\">  0</td><td style=\"text-align: right;\">  0</td><td style=\"text-align: right;\">  0</td><td style=\"text-align: right;\">  0</td><td style=\"text-align: right;\">  0</td><td style=\"text-align: right;\">  0</td><td style=\"text-align: right;\">  0</td><td style=\"text-align: right;\">  0</td><td style=\"text-align: right;\">  0</td><td style=\"text-align: right;\">  0</td><td style=\"text-align: right;\">  0</td><td style=\"text-align: right;\">  0</td><td style=\"text-align: right;\">  0</td><td style=\"text-align: right;\">  0</td><td style=\"text-align: right;\">  0</td><td style=\"text-align: right;\">  0</td><td style=\"text-align: right;\">  0</td></tr>\n",
       "<tr><td>A </td><td style=\"text-align: right;\">  0</td><td style=\"text-align: right;\">  0</td><td style=\"text-align: right;\">  0</td><td style=\"text-align: right;\">  0</td><td style=\"text-align: right;\">  0</td><td style=\"text-align: right;\">  0</td><td style=\"text-align: right;\">  0</td><td style=\"text-align: right;\">  0</td><td style=\"text-align: right;\">  0</td><td style=\"text-align: right;\">  0</td><td style=\"text-align: right;\">  0</td><td style=\"text-align: right;\">  0</td><td style=\"text-align: right;\">  0</td><td style=\"text-align: right;\">  0</td><td style=\"text-align: right;\">  0</td><td style=\"text-align: right;\">  0</td><td style=\"text-align: right;\">  0</td><td style=\"text-align: right;\">  0</td><td style=\"text-align: right;\">  0</td><td style=\"text-align: right;\">  0</td><td style=\"text-align: right;\">  0</td><td style=\"text-align: right;\">  0</td><td style=\"text-align: right;\">  0</td><td style=\"text-align: right;\">  0</td></tr>\n",
       "<tr><td>C </td><td style=\"text-align: right;\">  0</td><td style=\"text-align: right;\">  0</td><td style=\"text-align: right;\">  0</td><td style=\"text-align: right;\">  0</td><td style=\"text-align: right;\">  0</td><td style=\"text-align: right;\">  0</td><td style=\"text-align: right;\">  0</td><td style=\"text-align: right;\">  0</td><td style=\"text-align: right;\">  0</td><td style=\"text-align: right;\">  0</td><td style=\"text-align: right;\">  0</td><td style=\"text-align: right;\">  0</td><td style=\"text-align: right;\">  0</td><td style=\"text-align: right;\">  0</td><td style=\"text-align: right;\">  0</td><td style=\"text-align: right;\">  0</td><td style=\"text-align: right;\">  0</td><td style=\"text-align: right;\">  0</td><td style=\"text-align: right;\">  0</td><td style=\"text-align: right;\">  0</td><td style=\"text-align: right;\">  0</td><td style=\"text-align: right;\">  0</td><td style=\"text-align: right;\">  0</td><td style=\"text-align: right;\">  0</td></tr>\n",
       "<tr><td>C </td><td style=\"text-align: right;\">  0</td><td style=\"text-align: right;\">  0</td><td style=\"text-align: right;\">  0</td><td style=\"text-align: right;\">  0</td><td style=\"text-align: right;\">  0</td><td style=\"text-align: right;\">  0</td><td style=\"text-align: right;\">  0</td><td style=\"text-align: right;\">  0</td><td style=\"text-align: right;\">  0</td><td style=\"text-align: right;\">  0</td><td style=\"text-align: right;\">  0</td><td style=\"text-align: right;\">  0</td><td style=\"text-align: right;\">  0</td><td style=\"text-align: right;\">  0</td><td style=\"text-align: right;\">  0</td><td style=\"text-align: right;\">  0</td><td style=\"text-align: right;\">  0</td><td style=\"text-align: right;\">  0</td><td style=\"text-align: right;\">  0</td><td style=\"text-align: right;\">  0</td><td style=\"text-align: right;\">  0</td><td style=\"text-align: right;\">  0</td><td style=\"text-align: right;\">  0</td><td style=\"text-align: right;\">  0</td></tr>\n",
       "<tr><td>G </td><td style=\"text-align: right;\">  0</td><td style=\"text-align: right;\">  0</td><td style=\"text-align: right;\">  0</td><td style=\"text-align: right;\">  0</td><td style=\"text-align: right;\">  0</td><td style=\"text-align: right;\">  0</td><td style=\"text-align: right;\">  0</td><td style=\"text-align: right;\">  0</td><td style=\"text-align: right;\">  0</td><td style=\"text-align: right;\">  0</td><td style=\"text-align: right;\">  0</td><td style=\"text-align: right;\">  0</td><td style=\"text-align: right;\">  0</td><td style=\"text-align: right;\">  0</td><td style=\"text-align: right;\">  0</td><td style=\"text-align: right;\">  0</td><td style=\"text-align: right;\">  0</td><td style=\"text-align: right;\">  0</td><td style=\"text-align: right;\">  0</td><td style=\"text-align: right;\">  0</td><td style=\"text-align: right;\">  0</td><td style=\"text-align: right;\">  0</td><td style=\"text-align: right;\">  0</td><td style=\"text-align: right;\">  0</td></tr>\n",
       "<tr><td>G </td><td style=\"text-align: right;\">  0</td><td style=\"text-align: right;\">  0</td><td style=\"text-align: right;\">  0</td><td style=\"text-align: right;\">  0</td><td style=\"text-align: right;\">  0</td><td style=\"text-align: right;\">  0</td><td style=\"text-align: right;\">  0</td><td style=\"text-align: right;\">  0</td><td style=\"text-align: right;\">  0</td><td style=\"text-align: right;\">  0</td><td style=\"text-align: right;\">  0</td><td style=\"text-align: right;\">  0</td><td style=\"text-align: right;\">  0</td><td style=\"text-align: right;\">  0</td><td style=\"text-align: right;\">  0</td><td style=\"text-align: right;\">  0</td><td style=\"text-align: right;\">  0</td><td style=\"text-align: right;\">  0</td><td style=\"text-align: right;\">  0</td><td style=\"text-align: right;\">  0</td><td style=\"text-align: right;\">  0</td><td style=\"text-align: right;\">  0</td><td style=\"text-align: right;\">  0</td><td style=\"text-align: right;\">  0</td></tr>\n",
       "<tr><td>T </td><td style=\"text-align: right;\">  0</td><td style=\"text-align: right;\">  0</td><td style=\"text-align: right;\">  0</td><td style=\"text-align: right;\">  0</td><td style=\"text-align: right;\">  0</td><td style=\"text-align: right;\">  0</td><td style=\"text-align: right;\">  0</td><td style=\"text-align: right;\">  0</td><td style=\"text-align: right;\">  0</td><td style=\"text-align: right;\">  0</td><td style=\"text-align: right;\">  0</td><td style=\"text-align: right;\">  0</td><td style=\"text-align: right;\">  0</td><td style=\"text-align: right;\">  0</td><td style=\"text-align: right;\">  0</td><td style=\"text-align: right;\">  0</td><td style=\"text-align: right;\">  0</td><td style=\"text-align: right;\">  0</td><td style=\"text-align: right;\">  0</td><td style=\"text-align: right;\">  0</td><td style=\"text-align: right;\">  0</td><td style=\"text-align: right;\">  0</td><td style=\"text-align: right;\">  0</td><td style=\"text-align: right;\">  0</td></tr>\n",
       "<tr><td>T </td><td style=\"text-align: right;\">  0</td><td style=\"text-align: right;\">  0</td><td style=\"text-align: right;\">  0</td><td style=\"text-align: right;\">  0</td><td style=\"text-align: right;\">  0</td><td style=\"text-align: right;\">  0</td><td style=\"text-align: right;\">  0</td><td style=\"text-align: right;\">  0</td><td style=\"text-align: right;\">  0</td><td style=\"text-align: right;\">  0</td><td style=\"text-align: right;\">  0</td><td style=\"text-align: right;\">  0</td><td style=\"text-align: right;\">  0</td><td style=\"text-align: right;\">  0</td><td style=\"text-align: right;\">  0</td><td style=\"text-align: right;\">  0</td><td style=\"text-align: right;\">  0</td><td style=\"text-align: right;\">  0</td><td style=\"text-align: right;\">  0</td><td style=\"text-align: right;\">  0</td><td style=\"text-align: right;\">  0</td><td style=\"text-align: right;\">  0</td><td style=\"text-align: right;\">  0</td><td style=\"text-align: right;\">  0</td></tr>\n",
       "<tr><td>A </td><td style=\"text-align: right;\">  0</td><td style=\"text-align: right;\">  0</td><td style=\"text-align: right;\">  0</td><td style=\"text-align: right;\">  0</td><td style=\"text-align: right;\">  0</td><td style=\"text-align: right;\">  0</td><td style=\"text-align: right;\">  0</td><td style=\"text-align: right;\">  0</td><td style=\"text-align: right;\">  0</td><td style=\"text-align: right;\">  0</td><td style=\"text-align: right;\">  0</td><td style=\"text-align: right;\">  0</td><td style=\"text-align: right;\">  0</td><td style=\"text-align: right;\">  0</td><td style=\"text-align: right;\">  0</td><td style=\"text-align: right;\">  0</td><td style=\"text-align: right;\">  0</td><td style=\"text-align: right;\">  0</td><td style=\"text-align: right;\">  0</td><td style=\"text-align: right;\">  0</td><td style=\"text-align: right;\">  0</td><td style=\"text-align: right;\">  0</td><td style=\"text-align: right;\">  0</td><td style=\"text-align: right;\">  0</td></tr>\n",
       "<tr><td>A </td><td style=\"text-align: right;\">  0</td><td style=\"text-align: right;\">  0</td><td style=\"text-align: right;\">  0</td><td style=\"text-align: right;\">  0</td><td style=\"text-align: right;\">  0</td><td style=\"text-align: right;\">  0</td><td style=\"text-align: right;\">  0</td><td style=\"text-align: right;\">  0</td><td style=\"text-align: right;\">  0</td><td style=\"text-align: right;\">  0</td><td style=\"text-align: right;\">  0</td><td style=\"text-align: right;\">  0</td><td style=\"text-align: right;\">  0</td><td style=\"text-align: right;\">  0</td><td style=\"text-align: right;\">  0</td><td style=\"text-align: right;\">  0</td><td style=\"text-align: right;\">  0</td><td style=\"text-align: right;\">  0</td><td style=\"text-align: right;\">  0</td><td style=\"text-align: right;\">  0</td><td style=\"text-align: right;\">  0</td><td style=\"text-align: right;\">  0</td><td style=\"text-align: right;\">  0</td><td style=\"text-align: right;\">  0</td></tr>\n",
       "<tr><td>C </td><td style=\"text-align: right;\">  0</td><td style=\"text-align: right;\">  0</td><td style=\"text-align: right;\">  0</td><td style=\"text-align: right;\">  0</td><td style=\"text-align: right;\">  0</td><td style=\"text-align: right;\">  0</td><td style=\"text-align: right;\">  0</td><td style=\"text-align: right;\">  0</td><td style=\"text-align: right;\">  0</td><td style=\"text-align: right;\">  0</td><td style=\"text-align: right;\">  0</td><td style=\"text-align: right;\">  0</td><td style=\"text-align: right;\">  0</td><td style=\"text-align: right;\">  0</td><td style=\"text-align: right;\">  0</td><td style=\"text-align: right;\">  0</td><td style=\"text-align: right;\">  0</td><td style=\"text-align: right;\">  0</td><td style=\"text-align: right;\">  0</td><td style=\"text-align: right;\">  0</td><td style=\"text-align: right;\">  0</td><td style=\"text-align: right;\">  0</td><td style=\"text-align: right;\">  0</td><td style=\"text-align: right;\">  0</td></tr>\n",
       "<tr><td>A </td><td style=\"text-align: right;\">  0</td><td style=\"text-align: right;\">  0</td><td style=\"text-align: right;\">  0</td><td style=\"text-align: right;\">  0</td><td style=\"text-align: right;\">  0</td><td style=\"text-align: right;\">  0</td><td style=\"text-align: right;\">  0</td><td style=\"text-align: right;\">  0</td><td style=\"text-align: right;\">  0</td><td style=\"text-align: right;\">  0</td><td style=\"text-align: right;\">  0</td><td style=\"text-align: right;\">  0</td><td style=\"text-align: right;\">  0</td><td style=\"text-align: right;\">  0</td><td style=\"text-align: right;\">  0</td><td style=\"text-align: right;\">  0</td><td style=\"text-align: right;\">  0</td><td style=\"text-align: right;\">  0</td><td style=\"text-align: right;\">  0</td><td style=\"text-align: right;\">  0</td><td style=\"text-align: right;\">  0</td><td style=\"text-align: right;\">  0</td><td style=\"text-align: right;\">  0</td><td style=\"text-align: right;\">  0</td></tr>\n",
       "<tr><td>C </td><td style=\"text-align: right;\">  0</td><td style=\"text-align: right;\">  0</td><td style=\"text-align: right;\">  0</td><td style=\"text-align: right;\">  0</td><td style=\"text-align: right;\">  0</td><td style=\"text-align: right;\">  0</td><td style=\"text-align: right;\">  0</td><td style=\"text-align: right;\">  0</td><td style=\"text-align: right;\">  0</td><td style=\"text-align: right;\">  0</td><td style=\"text-align: right;\">  0</td><td style=\"text-align: right;\">  0</td><td style=\"text-align: right;\">  0</td><td style=\"text-align: right;\">  0</td><td style=\"text-align: right;\">  0</td><td style=\"text-align: right;\">  0</td><td style=\"text-align: right;\">  0</td><td style=\"text-align: right;\">  0</td><td style=\"text-align: right;\">  0</td><td style=\"text-align: right;\">  0</td><td style=\"text-align: right;\">  0</td><td style=\"text-align: right;\">  0</td><td style=\"text-align: right;\">  0</td><td style=\"text-align: right;\">  0</td></tr>\n",
       "<tr><td>C </td><td style=\"text-align: right;\">  0</td><td style=\"text-align: right;\">  0</td><td style=\"text-align: right;\">  0</td><td style=\"text-align: right;\">  0</td><td style=\"text-align: right;\">  0</td><td style=\"text-align: right;\">  0</td><td style=\"text-align: right;\">  0</td><td style=\"text-align: right;\">  0</td><td style=\"text-align: right;\">  0</td><td style=\"text-align: right;\">  0</td><td style=\"text-align: right;\">  0</td><td style=\"text-align: right;\">  0</td><td style=\"text-align: right;\">  0</td><td style=\"text-align: right;\">  0</td><td style=\"text-align: right;\">  0</td><td style=\"text-align: right;\">  0</td><td style=\"text-align: right;\">  0</td><td style=\"text-align: right;\">  0</td><td style=\"text-align: right;\">  0</td><td style=\"text-align: right;\">  0</td><td style=\"text-align: right;\">  0</td><td style=\"text-align: right;\">  0</td><td style=\"text-align: right;\">  0</td><td style=\"text-align: right;\">  0</td></tr>\n",
       "<tr><td>C </td><td style=\"text-align: right;\">  0</td><td style=\"text-align: right;\">  0</td><td style=\"text-align: right;\">  0</td><td style=\"text-align: right;\">  0</td><td style=\"text-align: right;\">  0</td><td style=\"text-align: right;\">  0</td><td style=\"text-align: right;\">  0</td><td style=\"text-align: right;\">  0</td><td style=\"text-align: right;\">  0</td><td style=\"text-align: right;\">  0</td><td style=\"text-align: right;\">  0</td><td style=\"text-align: right;\">  0</td><td style=\"text-align: right;\">  0</td><td style=\"text-align: right;\">  0</td><td style=\"text-align: right;\">  0</td><td style=\"text-align: right;\">  0</td><td style=\"text-align: right;\">  0</td><td style=\"text-align: right;\">  0</td><td style=\"text-align: right;\">  0</td><td style=\"text-align: right;\">  0</td><td style=\"text-align: right;\">  0</td><td style=\"text-align: right;\">  0</td><td style=\"text-align: right;\">  0</td><td style=\"text-align: right;\">  0</td></tr>\n",
       "<tr><td>A </td><td style=\"text-align: right;\">  0</td><td style=\"text-align: right;\">  0</td><td style=\"text-align: right;\">  0</td><td style=\"text-align: right;\">  0</td><td style=\"text-align: right;\">  0</td><td style=\"text-align: right;\">  0</td><td style=\"text-align: right;\">  0</td><td style=\"text-align: right;\">  0</td><td style=\"text-align: right;\">  0</td><td style=\"text-align: right;\">  0</td><td style=\"text-align: right;\">  0</td><td style=\"text-align: right;\">  0</td><td style=\"text-align: right;\">  0</td><td style=\"text-align: right;\">  0</td><td style=\"text-align: right;\">  0</td><td style=\"text-align: right;\">  0</td><td style=\"text-align: right;\">  0</td><td style=\"text-align: right;\">  0</td><td style=\"text-align: right;\">  0</td><td style=\"text-align: right;\">  0</td><td style=\"text-align: right;\">  0</td><td style=\"text-align: right;\">  0</td><td style=\"text-align: right;\">  0</td><td style=\"text-align: right;\">  0</td></tr>\n",
       "<tr><td>C </td><td style=\"text-align: right;\">  0</td><td style=\"text-align: right;\">  0</td><td style=\"text-align: right;\">  0</td><td style=\"text-align: right;\">  0</td><td style=\"text-align: right;\">  0</td><td style=\"text-align: right;\">  0</td><td style=\"text-align: right;\">  0</td><td style=\"text-align: right;\">  0</td><td style=\"text-align: right;\">  0</td><td style=\"text-align: right;\">  0</td><td style=\"text-align: right;\">  0</td><td style=\"text-align: right;\">  0</td><td style=\"text-align: right;\">  0</td><td style=\"text-align: right;\">  0</td><td style=\"text-align: right;\">  0</td><td style=\"text-align: right;\">  0</td><td style=\"text-align: right;\">  0</td><td style=\"text-align: right;\">  0</td><td style=\"text-align: right;\">  0</td><td style=\"text-align: right;\">  0</td><td style=\"text-align: right;\">  0</td><td style=\"text-align: right;\">  0</td><td style=\"text-align: right;\">  0</td><td style=\"text-align: right;\">  0</td></tr>\n",
       "</tbody>\n",
       "</table>"
      ],
      "text/plain": [
       "'<table>\\n<thead>\\n<tr><th>  </th><th style=\"text-align: right;\">  A</th><th style=\"text-align: right;\">  C</th><th style=\"text-align: right;\">  C</th><th style=\"text-align: right;\">  G</th><th style=\"text-align: right;\">  G</th><th style=\"text-align: right;\">  T</th><th style=\"text-align: right;\">  G</th><th style=\"text-align: right;\">  G</th><th style=\"text-align: right;\">  A</th><th style=\"text-align: right;\">  A</th><th style=\"text-align: right;\">  C</th><th style=\"text-align: right;\">  C</th><th style=\"text-align: right;\">  G</th><th style=\"text-align: right;\">  G</th><th style=\"text-align: right;\">  T</th><th style=\"text-align: right;\">  A</th><th style=\"text-align: right;\">  A</th><th style=\"text-align: right;\">  C</th><th style=\"text-align: right;\">  A</th><th style=\"text-align: right;\">  C</th><th style=\"text-align: right;\">  C</th><th style=\"text-align: right;\">  C</th><th style=\"text-align: right;\">  A</th><th style=\"text-align: right;\">  C</th></tr>\\n</thead>\\n<tbody>\\n<tr><td>A </td><td style=\"text-align: right;\">  0</td><td style=\"text-align: right;\">  0</td><td style=\"text-align: right;\">  0</td><td style=\"text-align: right;\">  0</td><td style=\"text-align: right;\">  0</td><td style=\"text-align: right;\">  0</td><td style=\"text-align: right;\">  0</td><td style=\"text-align: right;\">  0</td><td style=\"text-align: right;\">  0</td><td style=\"text-align: right;\">  0</td><td style=\"text-align: right;\">  0</td><td style=\"text-align: right;\">  0</td><td style=\"text-align: right;\">  0</td><td style=\"text-align: right;\">  0</td><td style=\"text-align: right;\">  0</td><td style=\"text-align: right;\">  0</td><td style=\"text-align: right;\">  0</td><td style=\"text-align: right;\">  0</td><td style=\"text-align: right;\">  0</td><td style=\"text-align: right;\">  0</td><td style=\"text-align: right;\">  0</td><td style=\"text-align: right;\">  0</td><td style=\"text-align: right;\">  0</td><td style=\"text-align: right;\">  0</td></tr>\\n<tr><td>C </td><td style=\"text-align: right;\">  0</td><td style=\"text-align: right;\">  0</td><td style=\"text-align: right;\">  0</td><td style=\"text-align: right;\">  0</td><td style=\"text-align: right;\">  0</td><td style=\"text-align: right;\">  0</td><td style=\"text-align: right;\">  0</td><td style=\"text-align: right;\">  0</td><td style=\"text-align: right;\">  0</td><td style=\"text-align: right;\">  0</td><td style=\"text-align: right;\">  0</td><td style=\"text-align: right;\">  0</td><td style=\"text-align: right;\">  0</td><td style=\"text-align: right;\">  0</td><td style=\"text-align: right;\">  0</td><td style=\"text-align: right;\">  0</td><td style=\"text-align: right;\">  0</td><td style=\"text-align: right;\">  0</td><td style=\"text-align: right;\">  0</td><td style=\"text-align: right;\">  0</td><td style=\"text-align: right;\">  0</td><td style=\"text-align: right;\">  0</td><td style=\"text-align: right;\">  0</td><td style=\"text-align: right;\">  0</td></tr>\\n<tr><td>C </td><td style=\"text-align: right;\">  0</td><td style=\"text-align: right;\">  0</td><td style=\"text-align: right;\">  0</td><td style=\"text-align: right;\">  0</td><td style=\"text-align: right;\">  0</td><td style=\"text-align: right;\">  0</td><td style=\"text-align: right;\">  0</td><td style=\"text-align: right;\">  0</td><td style=\"text-align: right;\">  0</td><td style=\"text-align: right;\">  0</td><td style=\"text-align: right;\">  0</td><td style=\"text-align: right;\">  0</td><td style=\"text-align: right;\">  0</td><td style=\"text-align: right;\">  0</td><td style=\"text-align: right;\">  0</td><td style=\"text-align: right;\">  0</td><td style=\"text-align: right;\">  0</td><td style=\"text-align: right;\">  0</td><td style=\"text-align: right;\">  0</td><td style=\"text-align: right;\">  0</td><td style=\"text-align: right;\">  0</td><td style=\"text-align: right;\">  0</td><td style=\"text-align: right;\">  0</td><td style=\"text-align: right;\">  0</td></tr>\\n<tr><td>G </td><td style=\"text-align: right;\">  0</td><td style=\"text-align: right;\">  0</td><td style=\"text-align: right;\">  0</td><td style=\"text-align: right;\">  0</td><td style=\"text-align: right;\">  0</td><td style=\"text-align: right;\">  0</td><td style=\"text-align: right;\">  0</td><td style=\"text-align: right;\">  0</td><td style=\"text-align: right;\">  0</td><td style=\"text-align: right;\">  0</td><td style=\"text-align: right;\">  0</td><td style=\"text-align: right;\">  0</td><td style=\"text-align: right;\">  0</td><td style=\"text-align: right;\">  0</td><td style=\"text-align: right;\">  0</td><td style=\"text-align: right;\">  0</td><td style=\"text-align: right;\">  0</td><td style=\"text-align: right;\">  0</td><td style=\"text-align: right;\">  0</td><td style=\"text-align: right;\">  0</td><td style=\"text-align: right;\">  0</td><td style=\"text-align: right;\">  0</td><td style=\"text-align: right;\">  0</td><td style=\"text-align: right;\">  0</td></tr>\\n<tr><td>G </td><td style=\"text-align: right;\">  0</td><td style=\"text-align: right;\">  0</td><td style=\"text-align: right;\">  0</td><td style=\"text-align: right;\">  0</td><td style=\"text-align: right;\">  0</td><td style=\"text-align: right;\">  0</td><td style=\"text-align: right;\">  0</td><td style=\"text-align: right;\">  0</td><td style=\"text-align: right;\">  0</td><td style=\"text-align: right;\">  0</td><td style=\"text-align: right;\">  0</td><td style=\"text-align: right;\">  0</td><td style=\"text-align: right;\">  0</td><td style=\"text-align: right;\">  0</td><td style=\"text-align: right;\">  0</td><td style=\"text-align: right;\">  0</td><td style=\"text-align: right;\">  0</td><td style=\"text-align: right;\">  0</td><td style=\"text-align: right;\">  0</td><td style=\"text-align: right;\">  0</td><td style=\"text-align: right;\">  0</td><td style=\"text-align: right;\">  0</td><td style=\"text-align: right;\">  0</td><td style=\"text-align: right;\">  0</td></tr>\\n<tr><td>T </td><td style=\"text-align: right;\">  0</td><td style=\"text-align: right;\">  0</td><td style=\"text-align: right;\">  0</td><td style=\"text-align: right;\">  0</td><td style=\"text-align: right;\">  0</td><td style=\"text-align: right;\">  0</td><td style=\"text-align: right;\">  0</td><td style=\"text-align: right;\">  0</td><td style=\"text-align: right;\">  0</td><td style=\"text-align: right;\">  0</td><td style=\"text-align: right;\">  0</td><td style=\"text-align: right;\">  0</td><td style=\"text-align: right;\">  0</td><td style=\"text-align: right;\">  0</td><td style=\"text-align: right;\">  0</td><td style=\"text-align: right;\">  0</td><td style=\"text-align: right;\">  0</td><td style=\"text-align: right;\">  0</td><td style=\"text-align: right;\">  0</td><td style=\"text-align: right;\">  0</td><td style=\"text-align: right;\">  0</td><td style=\"text-align: right;\">  0</td><td style=\"text-align: right;\">  0</td><td style=\"text-align: right;\">  0</td></tr>\\n<tr><td>A </td><td style=\"text-align: right;\">  0</td><td style=\"text-align: right;\">  0</td><td style=\"text-align: right;\">  0</td><td style=\"text-align: right;\">  0</td><td style=\"text-align: right;\">  0</td><td style=\"text-align: right;\">  0</td><td style=\"text-align: right;\">  0</td><td style=\"text-align: right;\">  0</td><td style=\"text-align: right;\">  0</td><td style=\"text-align: right;\">  0</td><td style=\"text-align: right;\">  0</td><td style=\"text-align: right;\">  0</td><td style=\"text-align: right;\">  0</td><td style=\"text-align: right;\">  0</td><td style=\"text-align: right;\">  0</td><td style=\"text-align: right;\">  0</td><td style=\"text-align: right;\">  0</td><td style=\"text-align: right;\">  0</td><td style=\"text-align: right;\">  0</td><td style=\"text-align: right;\">  0</td><td style=\"text-align: right;\">  0</td><td style=\"text-align: right;\">  0</td><td style=\"text-align: right;\">  0</td><td style=\"text-align: right;\">  0</td></tr>\\n<tr><td>A </td><td style=\"text-align: right;\">  0</td><td style=\"text-align: right;\">  0</td><td style=\"text-align: right;\">  0</td><td style=\"text-align: right;\">  0</td><td style=\"text-align: right;\">  0</td><td style=\"text-align: right;\">  0</td><td style=\"text-align: right;\">  0</td><td style=\"text-align: right;\">  0</td><td style=\"text-align: right;\">  0</td><td style=\"text-align: right;\">  0</td><td style=\"text-align: right;\">  0</td><td style=\"text-align: right;\">  0</td><td style=\"text-align: right;\">  0</td><td style=\"text-align: right;\">  0</td><td style=\"text-align: right;\">  0</td><td style=\"text-align: right;\">  0</td><td style=\"text-align: right;\">  0</td><td style=\"text-align: right;\">  0</td><td style=\"text-align: right;\">  0</td><td style=\"text-align: right;\">  0</td><td style=\"text-align: right;\">  0</td><td style=\"text-align: right;\">  0</td><td style=\"text-align: right;\">  0</td><td style=\"text-align: right;\">  0</td></tr>\\n<tr><td>C </td><td style=\"text-align: right;\">  0</td><td style=\"text-align: right;\">  0</td><td style=\"text-align: right;\">  0</td><td style=\"text-align: right;\">  0</td><td style=\"text-align: right;\">  0</td><td style=\"text-align: right;\">  0</td><td style=\"text-align: right;\">  0</td><td style=\"text-align: right;\">  0</td><td style=\"text-align: right;\">  0</td><td style=\"text-align: right;\">  0</td><td style=\"text-align: right;\">  0</td><td style=\"text-align: right;\">  0</td><td style=\"text-align: right;\">  0</td><td style=\"text-align: right;\">  0</td><td style=\"text-align: right;\">  0</td><td style=\"text-align: right;\">  0</td><td style=\"text-align: right;\">  0</td><td style=\"text-align: right;\">  0</td><td style=\"text-align: right;\">  0</td><td style=\"text-align: right;\">  0</td><td style=\"text-align: right;\">  0</td><td style=\"text-align: right;\">  0</td><td style=\"text-align: right;\">  0</td><td style=\"text-align: right;\">  0</td></tr>\\n<tr><td>C </td><td style=\"text-align: right;\">  0</td><td style=\"text-align: right;\">  0</td><td style=\"text-align: right;\">  0</td><td style=\"text-align: right;\">  0</td><td style=\"text-align: right;\">  0</td><td style=\"text-align: right;\">  0</td><td style=\"text-align: right;\">  0</td><td style=\"text-align: right;\">  0</td><td style=\"text-align: right;\">  0</td><td style=\"text-align: right;\">  0</td><td style=\"text-align: right;\">  0</td><td style=\"text-align: right;\">  0</td><td style=\"text-align: right;\">  0</td><td style=\"text-align: right;\">  0</td><td style=\"text-align: right;\">  0</td><td style=\"text-align: right;\">  0</td><td style=\"text-align: right;\">  0</td><td style=\"text-align: right;\">  0</td><td style=\"text-align: right;\">  0</td><td style=\"text-align: right;\">  0</td><td style=\"text-align: right;\">  0</td><td style=\"text-align: right;\">  0</td><td style=\"text-align: right;\">  0</td><td style=\"text-align: right;\">  0</td></tr>\\n<tr><td>G </td><td style=\"text-align: right;\">  0</td><td style=\"text-align: right;\">  0</td><td style=\"text-align: right;\">  0</td><td style=\"text-align: right;\">  0</td><td style=\"text-align: right;\">  0</td><td style=\"text-align: right;\">  0</td><td style=\"text-align: right;\">  0</td><td style=\"text-align: right;\">  0</td><td style=\"text-align: right;\">  0</td><td style=\"text-align: right;\">  0</td><td style=\"text-align: right;\">  0</td><td style=\"text-align: right;\">  0</td><td style=\"text-align: right;\">  0</td><td style=\"text-align: right;\">  0</td><td style=\"text-align: right;\">  0</td><td style=\"text-align: right;\">  0</td><td style=\"text-align: right;\">  0</td><td style=\"text-align: right;\">  0</td><td style=\"text-align: right;\">  0</td><td style=\"text-align: right;\">  0</td><td style=\"text-align: right;\">  0</td><td style=\"text-align: right;\">  0</td><td style=\"text-align: right;\">  0</td><td style=\"text-align: right;\">  0</td></tr>\\n<tr><td>G </td><td style=\"text-align: right;\">  0</td><td style=\"text-align: right;\">  0</td><td style=\"text-align: right;\">  0</td><td style=\"text-align: right;\">  0</td><td style=\"text-align: right;\">  0</td><td style=\"text-align: right;\">  0</td><td style=\"text-align: right;\">  0</td><td style=\"text-align: right;\">  0</td><td style=\"text-align: right;\">  0</td><td style=\"text-align: right;\">  0</td><td style=\"text-align: right;\">  0</td><td style=\"text-align: right;\">  0</td><td style=\"text-align: right;\">  0</td><td style=\"text-align: right;\">  0</td><td style=\"text-align: right;\">  0</td><td style=\"text-align: right;\">  0</td><td style=\"text-align: right;\">  0</td><td style=\"text-align: right;\">  0</td><td style=\"text-align: right;\">  0</td><td style=\"text-align: right;\">  0</td><td style=\"text-align: right;\">  0</td><td style=\"text-align: right;\">  0</td><td style=\"text-align: right;\">  0</td><td style=\"text-align: right;\">  0</td></tr>\\n<tr><td>T </td><td style=\"text-align: right;\">  0</td><td style=\"text-align: right;\">  0</td><td style=\"text-align: right;\">  0</td><td style=\"text-align: right;\">  0</td><td style=\"text-align: right;\">  0</td><td style=\"text-align: right;\">  0</td><td style=\"text-align: right;\">  0</td><td style=\"text-align: right;\">  0</td><td style=\"text-align: right;\">  0</td><td style=\"text-align: right;\">  0</td><td style=\"text-align: right;\">  0</td><td style=\"text-align: right;\">  0</td><td style=\"text-align: right;\">  0</td><td style=\"text-align: right;\">  0</td><td style=\"text-align: right;\">  0</td><td style=\"text-align: right;\">  0</td><td style=\"text-align: right;\">  0</td><td style=\"text-align: right;\">  0</td><td style=\"text-align: right;\">  0</td><td style=\"text-align: right;\">  0</td><td style=\"text-align: right;\">  0</td><td style=\"text-align: right;\">  0</td><td style=\"text-align: right;\">  0</td><td style=\"text-align: right;\">  0</td></tr>\\n<tr><td>T </td><td style=\"text-align: right;\">  0</td><td style=\"text-align: right;\">  0</td><td style=\"text-align: right;\">  0</td><td style=\"text-align: right;\">  0</td><td style=\"text-align: right;\">  0</td><td style=\"text-align: right;\">  0</td><td style=\"text-align: right;\">  0</td><td style=\"text-align: right;\">  0</td><td style=\"text-align: right;\">  0</td><td style=\"text-align: right;\">  0</td><td style=\"text-align: right;\">  0</td><td style=\"text-align: right;\">  0</td><td style=\"text-align: right;\">  0</td><td style=\"text-align: right;\">  0</td><td style=\"text-align: right;\">  0</td><td style=\"text-align: right;\">  0</td><td style=\"text-align: right;\">  0</td><td style=\"text-align: right;\">  0</td><td style=\"text-align: right;\">  0</td><td style=\"text-align: right;\">  0</td><td style=\"text-align: right;\">  0</td><td style=\"text-align: right;\">  0</td><td style=\"text-align: right;\">  0</td><td style=\"text-align: right;\">  0</td></tr>\\n<tr><td>A </td><td style=\"text-align: right;\">  0</td><td style=\"text-align: right;\">  0</td><td style=\"text-align: right;\">  0</td><td style=\"text-align: right;\">  0</td><td style=\"text-align: right;\">  0</td><td style=\"text-align: right;\">  0</td><td style=\"text-align: right;\">  0</td><td style=\"text-align: right;\">  0</td><td style=\"text-align: right;\">  0</td><td style=\"text-align: right;\">  0</td><td style=\"text-align: right;\">  0</td><td style=\"text-align: right;\">  0</td><td style=\"text-align: right;\">  0</td><td style=\"text-align: right;\">  0</td><td style=\"text-align: right;\">  0</td><td style=\"text-align: right;\">  0</td><td style=\"text-align: right;\">  0</td><td style=\"text-align: right;\">  0</td><td style=\"text-align: right;\">  0</td><td style=\"text-align: right;\">  0</td><td style=\"text-align: right;\">  0</td><td style=\"text-align: right;\">  0</td><td style=\"text-align: right;\">  0</td><td style=\"text-align: right;\">  0</td></tr>\\n<tr><td>A </td><td style=\"text-align: right;\">  0</td><td style=\"text-align: right;\">  0</td><td style=\"text-align: right;\">  0</td><td style=\"text-align: right;\">  0</td><td style=\"text-align: right;\">  0</td><td style=\"text-align: right;\">  0</td><td style=\"text-align: right;\">  0</td><td style=\"text-align: right;\">  0</td><td style=\"text-align: right;\">  0</td><td style=\"text-align: right;\">  0</td><td style=\"text-align: right;\">  0</td><td style=\"text-align: right;\">  0</td><td style=\"text-align: right;\">  0</td><td style=\"text-align: right;\">  0</td><td style=\"text-align: right;\">  0</td><td style=\"text-align: right;\">  0</td><td style=\"text-align: right;\">  0</td><td style=\"text-align: right;\">  0</td><td style=\"text-align: right;\">  0</td><td style=\"text-align: right;\">  0</td><td style=\"text-align: right;\">  0</td><td style=\"text-align: right;\">  0</td><td style=\"text-align: right;\">  0</td><td style=\"text-align: right;\">  0</td></tr>\\n<tr><td>C </td><td style=\"text-align: right;\">  0</td><td style=\"text-align: right;\">  0</td><td style=\"text-align: right;\">  0</td><td style=\"text-align: right;\">  0</td><td style=\"text-align: right;\">  0</td><td style=\"text-align: right;\">  0</td><td style=\"text-align: right;\">  0</td><td style=\"text-align: right;\">  0</td><td style=\"text-align: right;\">  0</td><td style=\"text-align: right;\">  0</td><td style=\"text-align: right;\">  0</td><td style=\"text-align: right;\">  0</td><td style=\"text-align: right;\">  0</td><td style=\"text-align: right;\">  0</td><td style=\"text-align: right;\">  0</td><td style=\"text-align: right;\">  0</td><td style=\"text-align: right;\">  0</td><td style=\"text-align: right;\">  0</td><td style=\"text-align: right;\">  0</td><td style=\"text-align: right;\">  0</td><td style=\"text-align: right;\">  0</td><td style=\"text-align: right;\">  0</td><td style=\"text-align: right;\">  0</td><td style=\"text-align: right;\">  0</td></tr>\\n<tr><td>A </td><td style=\"text-align: right;\">  0</td><td style=\"text-align: right;\">  0</td><td style=\"text-align: right;\">  0</td><td style=\"text-align: right;\">  0</td><td style=\"text-align: right;\">  0</td><td style=\"text-align: right;\">  0</td><td style=\"text-align: right;\">  0</td><td style=\"text-align: right;\">  0</td><td style=\"text-align: right;\">  0</td><td style=\"text-align: right;\">  0</td><td style=\"text-align: right;\">  0</td><td style=\"text-align: right;\">  0</td><td style=\"text-align: right;\">  0</td><td style=\"text-align: right;\">  0</td><td style=\"text-align: right;\">  0</td><td style=\"text-align: right;\">  0</td><td style=\"text-align: right;\">  0</td><td style=\"text-align: right;\">  0</td><td style=\"text-align: right;\">  0</td><td style=\"text-align: right;\">  0</td><td style=\"text-align: right;\">  0</td><td style=\"text-align: right;\">  0</td><td style=\"text-align: right;\">  0</td><td style=\"text-align: right;\">  0</td></tr>\\n<tr><td>C </td><td style=\"text-align: right;\">  0</td><td style=\"text-align: right;\">  0</td><td style=\"text-align: right;\">  0</td><td style=\"text-align: right;\">  0</td><td style=\"text-align: right;\">  0</td><td style=\"text-align: right;\">  0</td><td style=\"text-align: right;\">  0</td><td style=\"text-align: right;\">  0</td><td style=\"text-align: right;\">  0</td><td style=\"text-align: right;\">  0</td><td style=\"text-align: right;\">  0</td><td style=\"text-align: right;\">  0</td><td style=\"text-align: right;\">  0</td><td style=\"text-align: right;\">  0</td><td style=\"text-align: right;\">  0</td><td style=\"text-align: right;\">  0</td><td style=\"text-align: right;\">  0</td><td style=\"text-align: right;\">  0</td><td style=\"text-align: right;\">  0</td><td style=\"text-align: right;\">  0</td><td style=\"text-align: right;\">  0</td><td style=\"text-align: right;\">  0</td><td style=\"text-align: right;\">  0</td><td style=\"text-align: right;\">  0</td></tr>\\n<tr><td>C </td><td style=\"text-align: right;\">  0</td><td style=\"text-align: right;\">  0</td><td style=\"text-align: right;\">  0</td><td style=\"text-align: right;\">  0</td><td style=\"text-align: right;\">  0</td><td style=\"text-align: right;\">  0</td><td style=\"text-align: right;\">  0</td><td style=\"text-align: right;\">  0</td><td style=\"text-align: right;\">  0</td><td style=\"text-align: right;\">  0</td><td style=\"text-align: right;\">  0</td><td style=\"text-align: right;\">  0</td><td style=\"text-align: right;\">  0</td><td style=\"text-align: right;\">  0</td><td style=\"text-align: right;\">  0</td><td style=\"text-align: right;\">  0</td><td style=\"text-align: right;\">  0</td><td style=\"text-align: right;\">  0</td><td style=\"text-align: right;\">  0</td><td style=\"text-align: right;\">  0</td><td style=\"text-align: right;\">  0</td><td style=\"text-align: right;\">  0</td><td style=\"text-align: right;\">  0</td><td style=\"text-align: right;\">  0</td></tr>\\n<tr><td>C </td><td style=\"text-align: right;\">  0</td><td style=\"text-align: right;\">  0</td><td style=\"text-align: right;\">  0</td><td style=\"text-align: right;\">  0</td><td style=\"text-align: right;\">  0</td><td style=\"text-align: right;\">  0</td><td style=\"text-align: right;\">  0</td><td style=\"text-align: right;\">  0</td><td style=\"text-align: right;\">  0</td><td style=\"text-align: right;\">  0</td><td style=\"text-align: right;\">  0</td><td style=\"text-align: right;\">  0</td><td style=\"text-align: right;\">  0</td><td style=\"text-align: right;\">  0</td><td style=\"text-align: right;\">  0</td><td style=\"text-align: right;\">  0</td><td style=\"text-align: right;\">  0</td><td style=\"text-align: right;\">  0</td><td style=\"text-align: right;\">  0</td><td style=\"text-align: right;\">  0</td><td style=\"text-align: right;\">  0</td><td style=\"text-align: right;\">  0</td><td style=\"text-align: right;\">  0</td><td style=\"text-align: right;\">  0</td></tr>\\n<tr><td>A </td><td style=\"text-align: right;\">  0</td><td style=\"text-align: right;\">  0</td><td style=\"text-align: right;\">  0</td><td style=\"text-align: right;\">  0</td><td style=\"text-align: right;\">  0</td><td style=\"text-align: right;\">  0</td><td style=\"text-align: right;\">  0</td><td style=\"text-align: right;\">  0</td><td style=\"text-align: right;\">  0</td><td style=\"text-align: right;\">  0</td><td style=\"text-align: right;\">  0</td><td style=\"text-align: right;\">  0</td><td style=\"text-align: right;\">  0</td><td style=\"text-align: right;\">  0</td><td style=\"text-align: right;\">  0</td><td style=\"text-align: right;\">  0</td><td style=\"text-align: right;\">  0</td><td style=\"text-align: right;\">  0</td><td style=\"text-align: right;\">  0</td><td style=\"text-align: right;\">  0</td><td style=\"text-align: right;\">  0</td><td style=\"text-align: right;\">  0</td><td style=\"text-align: right;\">  0</td><td style=\"text-align: right;\">  0</td></tr>\\n<tr><td>C </td><td style=\"text-align: right;\">  0</td><td style=\"text-align: right;\">  0</td><td style=\"text-align: right;\">  0</td><td style=\"text-align: right;\">  0</td><td style=\"text-align: right;\">  0</td><td style=\"text-align: right;\">  0</td><td style=\"text-align: right;\">  0</td><td style=\"text-align: right;\">  0</td><td style=\"text-align: right;\">  0</td><td style=\"text-align: right;\">  0</td><td style=\"text-align: right;\">  0</td><td style=\"text-align: right;\">  0</td><td style=\"text-align: right;\">  0</td><td style=\"text-align: right;\">  0</td><td style=\"text-align: right;\">  0</td><td style=\"text-align: right;\">  0</td><td style=\"text-align: right;\">  0</td><td style=\"text-align: right;\">  0</td><td style=\"text-align: right;\">  0</td><td style=\"text-align: right;\">  0</td><td style=\"text-align: right;\">  0</td><td style=\"text-align: right;\">  0</td><td style=\"text-align: right;\">  0</td><td style=\"text-align: right;\">  0</td></tr>\\n</tbody>\\n</table>'"
      ]
     },
     "execution_count": 10,
     "metadata": {},
     "output_type": "execute_result"
    }
   ],
   "source": [
    "from intro_bioinfo_unir.iab import show_F\n",
    "\n",
    "show_F(seqA, seqB, matriz) #exibe a matriz "
   ]
  },
  {
   "cell_type": "markdown",
   "id": "e9ae50e4-e556-4291-badf-73d0871b84c5",
   "metadata": {},
   "source": [
    "One há correspondências idênticas entre as duas sequências (linhas e colunas), substituir zero por 1."
   ]
  },
  {
   "cell_type": "code",
   "execution_count": 11,
   "id": "b51dec4d-4f97-4c84-bcd3-dea642a98d9b",
   "metadata": {},
   "outputs": [
    {
     "data": {
      "text/html": [
       "<table>\n",
       "<thead>\n",
       "<tr><th>  </th><th>A  </th><th>C  </th><th>C  </th><th>G  </th><th>G  </th><th>T  </th><th>G  </th><th>G  </th><th>A  </th><th>A  </th><th>C  </th><th>C  </th><th>G  </th><th>G  </th><th>T  </th><th>A  </th><th>A  </th><th>C  </th><th>A  </th><th>C  </th><th>C  </th><th>C  </th><th>A  </th><th>C  </th></tr>\n",
       "</thead>\n",
       "<tbody>\n",
       "<tr><td>A </td><td>1  </td><td>   </td><td>   </td><td>   </td><td>   </td><td>   </td><td>   </td><td>   </td><td>1  </td><td>1  </td><td>   </td><td>   </td><td>   </td><td>   </td><td>   </td><td>1  </td><td>1  </td><td>   </td><td>1  </td><td>   </td><td>   </td><td>   </td><td>1  </td><td>   </td></tr>\n",
       "<tr><td>C </td><td>   </td><td>1  </td><td>1  </td><td>   </td><td>   </td><td>   </td><td>   </td><td>   </td><td>   </td><td>   </td><td>1  </td><td>1  </td><td>   </td><td>   </td><td>   </td><td>   </td><td>   </td><td>1  </td><td>   </td><td>1  </td><td>1  </td><td>1  </td><td>   </td><td>1  </td></tr>\n",
       "<tr><td>C </td><td>   </td><td>1  </td><td>1  </td><td>   </td><td>   </td><td>   </td><td>   </td><td>   </td><td>   </td><td>   </td><td>1  </td><td>1  </td><td>   </td><td>   </td><td>   </td><td>   </td><td>   </td><td>1  </td><td>   </td><td>1  </td><td>1  </td><td>1  </td><td>   </td><td>1  </td></tr>\n",
       "<tr><td>G </td><td>   </td><td>   </td><td>   </td><td>1  </td><td>1  </td><td>   </td><td>1  </td><td>1  </td><td>   </td><td>   </td><td>   </td><td>   </td><td>1  </td><td>1  </td><td>   </td><td>   </td><td>   </td><td>   </td><td>   </td><td>   </td><td>   </td><td>   </td><td>   </td><td>   </td></tr>\n",
       "<tr><td>G </td><td>   </td><td>   </td><td>   </td><td>1  </td><td>1  </td><td>   </td><td>1  </td><td>1  </td><td>   </td><td>   </td><td>   </td><td>   </td><td>1  </td><td>1  </td><td>   </td><td>   </td><td>   </td><td>   </td><td>   </td><td>   </td><td>   </td><td>   </td><td>   </td><td>   </td></tr>\n",
       "<tr><td>T </td><td>   </td><td>   </td><td>   </td><td>   </td><td>   </td><td>1  </td><td>   </td><td>   </td><td>   </td><td>   </td><td>   </td><td>   </td><td>   </td><td>   </td><td>1  </td><td>   </td><td>   </td><td>   </td><td>   </td><td>   </td><td>   </td><td>   </td><td>   </td><td>   </td></tr>\n",
       "<tr><td>A </td><td>1  </td><td>   </td><td>   </td><td>   </td><td>   </td><td>   </td><td>   </td><td>   </td><td>1  </td><td>1  </td><td>   </td><td>   </td><td>   </td><td>   </td><td>   </td><td>1  </td><td>1  </td><td>   </td><td>1  </td><td>   </td><td>   </td><td>   </td><td>1  </td><td>   </td></tr>\n",
       "<tr><td>A </td><td>1  </td><td>   </td><td>   </td><td>   </td><td>   </td><td>   </td><td>   </td><td>   </td><td>1  </td><td>1  </td><td>   </td><td>   </td><td>   </td><td>   </td><td>   </td><td>1  </td><td>1  </td><td>   </td><td>1  </td><td>   </td><td>   </td><td>   </td><td>1  </td><td>   </td></tr>\n",
       "<tr><td>C </td><td>   </td><td>1  </td><td>1  </td><td>   </td><td>   </td><td>   </td><td>   </td><td>   </td><td>   </td><td>   </td><td>1  </td><td>1  </td><td>   </td><td>   </td><td>   </td><td>   </td><td>   </td><td>1  </td><td>   </td><td>1  </td><td>1  </td><td>1  </td><td>   </td><td>1  </td></tr>\n",
       "<tr><td>C </td><td>   </td><td>1  </td><td>1  </td><td>   </td><td>   </td><td>   </td><td>   </td><td>   </td><td>   </td><td>   </td><td>1  </td><td>1  </td><td>   </td><td>   </td><td>   </td><td>   </td><td>   </td><td>1  </td><td>   </td><td>1  </td><td>1  </td><td>1  </td><td>   </td><td>1  </td></tr>\n",
       "<tr><td>G </td><td>   </td><td>   </td><td>   </td><td>1  </td><td>1  </td><td>   </td><td>1  </td><td>1  </td><td>   </td><td>   </td><td>   </td><td>   </td><td>1  </td><td>1  </td><td>   </td><td>   </td><td>   </td><td>   </td><td>   </td><td>   </td><td>   </td><td>   </td><td>   </td><td>   </td></tr>\n",
       "<tr><td>G </td><td>   </td><td>   </td><td>   </td><td>1  </td><td>1  </td><td>   </td><td>1  </td><td>1  </td><td>   </td><td>   </td><td>   </td><td>   </td><td>1  </td><td>1  </td><td>   </td><td>   </td><td>   </td><td>   </td><td>   </td><td>   </td><td>   </td><td>   </td><td>   </td><td>   </td></tr>\n",
       "<tr><td>T </td><td>   </td><td>   </td><td>   </td><td>   </td><td>   </td><td>1  </td><td>   </td><td>   </td><td>   </td><td>   </td><td>   </td><td>   </td><td>   </td><td>   </td><td>1  </td><td>   </td><td>   </td><td>   </td><td>   </td><td>   </td><td>   </td><td>   </td><td>   </td><td>   </td></tr>\n",
       "<tr><td>T </td><td>   </td><td>   </td><td>   </td><td>   </td><td>   </td><td>1  </td><td>   </td><td>   </td><td>   </td><td>   </td><td>   </td><td>   </td><td>   </td><td>   </td><td>1  </td><td>   </td><td>   </td><td>   </td><td>   </td><td>   </td><td>   </td><td>   </td><td>   </td><td>   </td></tr>\n",
       "<tr><td>A </td><td>1  </td><td>   </td><td>   </td><td>   </td><td>   </td><td>   </td><td>   </td><td>   </td><td>1  </td><td>1  </td><td>   </td><td>   </td><td>   </td><td>   </td><td>   </td><td>1  </td><td>1  </td><td>   </td><td>1  </td><td>   </td><td>   </td><td>   </td><td>1  </td><td>   </td></tr>\n",
       "<tr><td>A </td><td>1  </td><td>   </td><td>   </td><td>   </td><td>   </td><td>   </td><td>   </td><td>   </td><td>1  </td><td>1  </td><td>   </td><td>   </td><td>   </td><td>   </td><td>   </td><td>1  </td><td>1  </td><td>   </td><td>1  </td><td>   </td><td>   </td><td>   </td><td>1  </td><td>   </td></tr>\n",
       "<tr><td>C </td><td>   </td><td>1  </td><td>1  </td><td>   </td><td>   </td><td>   </td><td>   </td><td>   </td><td>   </td><td>   </td><td>1  </td><td>1  </td><td>   </td><td>   </td><td>   </td><td>   </td><td>   </td><td>1  </td><td>   </td><td>1  </td><td>1  </td><td>1  </td><td>   </td><td>1  </td></tr>\n",
       "<tr><td>A </td><td>1  </td><td>   </td><td>   </td><td>   </td><td>   </td><td>   </td><td>   </td><td>   </td><td>1  </td><td>1  </td><td>   </td><td>   </td><td>   </td><td>   </td><td>   </td><td>1  </td><td>1  </td><td>   </td><td>1  </td><td>   </td><td>   </td><td>   </td><td>1  </td><td>   </td></tr>\n",
       "<tr><td>C </td><td>   </td><td>1  </td><td>1  </td><td>   </td><td>   </td><td>   </td><td>   </td><td>   </td><td>   </td><td>   </td><td>1  </td><td>1  </td><td>   </td><td>   </td><td>   </td><td>   </td><td>   </td><td>1  </td><td>   </td><td>1  </td><td>1  </td><td>1  </td><td>   </td><td>1  </td></tr>\n",
       "<tr><td>C </td><td>   </td><td>1  </td><td>1  </td><td>   </td><td>   </td><td>   </td><td>   </td><td>   </td><td>   </td><td>   </td><td>1  </td><td>1  </td><td>   </td><td>   </td><td>   </td><td>   </td><td>   </td><td>1  </td><td>   </td><td>1  </td><td>1  </td><td>1  </td><td>   </td><td>1  </td></tr>\n",
       "<tr><td>C </td><td>   </td><td>1  </td><td>1  </td><td>   </td><td>   </td><td>   </td><td>   </td><td>   </td><td>   </td><td>   </td><td>1  </td><td>1  </td><td>   </td><td>   </td><td>   </td><td>   </td><td>   </td><td>1  </td><td>   </td><td>1  </td><td>1  </td><td>1  </td><td>   </td><td>1  </td></tr>\n",
       "<tr><td>A </td><td>1  </td><td>   </td><td>   </td><td>   </td><td>   </td><td>   </td><td>   </td><td>   </td><td>1  </td><td>1  </td><td>   </td><td>   </td><td>   </td><td>   </td><td>   </td><td>1  </td><td>1  </td><td>   </td><td>1  </td><td>   </td><td>   </td><td>   </td><td>1  </td><td>   </td></tr>\n",
       "<tr><td>C </td><td>   </td><td>1  </td><td>1  </td><td>   </td><td>   </td><td>   </td><td>   </td><td>   </td><td>   </td><td>   </td><td>1  </td><td>1  </td><td>   </td><td>   </td><td>   </td><td>   </td><td>   </td><td>1  </td><td>   </td><td>1  </td><td>1  </td><td>1  </td><td>   </td><td>1  </td></tr>\n",
       "</tbody>\n",
       "</table>"
      ],
      "text/plain": [
       "'<table>\\n<thead>\\n<tr><th>  </th><th>A  </th><th>C  </th><th>C  </th><th>G  </th><th>G  </th><th>T  </th><th>G  </th><th>G  </th><th>A  </th><th>A  </th><th>C  </th><th>C  </th><th>G  </th><th>G  </th><th>T  </th><th>A  </th><th>A  </th><th>C  </th><th>A  </th><th>C  </th><th>C  </th><th>C  </th><th>A  </th><th>C  </th></tr>\\n</thead>\\n<tbody>\\n<tr><td>A </td><td>1  </td><td>   </td><td>   </td><td>   </td><td>   </td><td>   </td><td>   </td><td>   </td><td>1  </td><td>1  </td><td>   </td><td>   </td><td>   </td><td>   </td><td>   </td><td>1  </td><td>1  </td><td>   </td><td>1  </td><td>   </td><td>   </td><td>   </td><td>1  </td><td>   </td></tr>\\n<tr><td>C </td><td>   </td><td>1  </td><td>1  </td><td>   </td><td>   </td><td>   </td><td>   </td><td>   </td><td>   </td><td>   </td><td>1  </td><td>1  </td><td>   </td><td>   </td><td>   </td><td>   </td><td>   </td><td>1  </td><td>   </td><td>1  </td><td>1  </td><td>1  </td><td>   </td><td>1  </td></tr>\\n<tr><td>C </td><td>   </td><td>1  </td><td>1  </td><td>   </td><td>   </td><td>   </td><td>   </td><td>   </td><td>   </td><td>   </td><td>1  </td><td>1  </td><td>   </td><td>   </td><td>   </td><td>   </td><td>   </td><td>1  </td><td>   </td><td>1  </td><td>1  </td><td>1  </td><td>   </td><td>1  </td></tr>\\n<tr><td>G </td><td>   </td><td>   </td><td>   </td><td>1  </td><td>1  </td><td>   </td><td>1  </td><td>1  </td><td>   </td><td>   </td><td>   </td><td>   </td><td>1  </td><td>1  </td><td>   </td><td>   </td><td>   </td><td>   </td><td>   </td><td>   </td><td>   </td><td>   </td><td>   </td><td>   </td></tr>\\n<tr><td>G </td><td>   </td><td>   </td><td>   </td><td>1  </td><td>1  </td><td>   </td><td>1  </td><td>1  </td><td>   </td><td>   </td><td>   </td><td>   </td><td>1  </td><td>1  </td><td>   </td><td>   </td><td>   </td><td>   </td><td>   </td><td>   </td><td>   </td><td>   </td><td>   </td><td>   </td></tr>\\n<tr><td>T </td><td>   </td><td>   </td><td>   </td><td>   </td><td>   </td><td>1  </td><td>   </td><td>   </td><td>   </td><td>   </td><td>   </td><td>   </td><td>   </td><td>   </td><td>1  </td><td>   </td><td>   </td><td>   </td><td>   </td><td>   </td><td>   </td><td>   </td><td>   </td><td>   </td></tr>\\n<tr><td>A </td><td>1  </td><td>   </td><td>   </td><td>   </td><td>   </td><td>   </td><td>   </td><td>   </td><td>1  </td><td>1  </td><td>   </td><td>   </td><td>   </td><td>   </td><td>   </td><td>1  </td><td>1  </td><td>   </td><td>1  </td><td>   </td><td>   </td><td>   </td><td>1  </td><td>   </td></tr>\\n<tr><td>A </td><td>1  </td><td>   </td><td>   </td><td>   </td><td>   </td><td>   </td><td>   </td><td>   </td><td>1  </td><td>1  </td><td>   </td><td>   </td><td>   </td><td>   </td><td>   </td><td>1  </td><td>1  </td><td>   </td><td>1  </td><td>   </td><td>   </td><td>   </td><td>1  </td><td>   </td></tr>\\n<tr><td>C </td><td>   </td><td>1  </td><td>1  </td><td>   </td><td>   </td><td>   </td><td>   </td><td>   </td><td>   </td><td>   </td><td>1  </td><td>1  </td><td>   </td><td>   </td><td>   </td><td>   </td><td>   </td><td>1  </td><td>   </td><td>1  </td><td>1  </td><td>1  </td><td>   </td><td>1  </td></tr>\\n<tr><td>C </td><td>   </td><td>1  </td><td>1  </td><td>   </td><td>   </td><td>   </td><td>   </td><td>   </td><td>   </td><td>   </td><td>1  </td><td>1  </td><td>   </td><td>   </td><td>   </td><td>   </td><td>   </td><td>1  </td><td>   </td><td>1  </td><td>1  </td><td>1  </td><td>   </td><td>1  </td></tr>\\n<tr><td>G </td><td>   </td><td>   </td><td>   </td><td>1  </td><td>1  </td><td>   </td><td>1  </td><td>1  </td><td>   </td><td>   </td><td>   </td><td>   </td><td>1  </td><td>1  </td><td>   </td><td>   </td><td>   </td><td>   </td><td>   </td><td>   </td><td>   </td><td>   </td><td>   </td><td>   </td></tr>\\n<tr><td>G </td><td>   </td><td>   </td><td>   </td><td>1  </td><td>1  </td><td>   </td><td>1  </td><td>1  </td><td>   </td><td>   </td><td>   </td><td>   </td><td>1  </td><td>1  </td><td>   </td><td>   </td><td>   </td><td>   </td><td>   </td><td>   </td><td>   </td><td>   </td><td>   </td><td>   </td></tr>\\n<tr><td>T </td><td>   </td><td>   </td><td>   </td><td>   </td><td>   </td><td>1  </td><td>   </td><td>   </td><td>   </td><td>   </td><td>   </td><td>   </td><td>   </td><td>   </td><td>1  </td><td>   </td><td>   </td><td>   </td><td>   </td><td>   </td><td>   </td><td>   </td><td>   </td><td>   </td></tr>\\n<tr><td>T </td><td>   </td><td>   </td><td>   </td><td>   </td><td>   </td><td>1  </td><td>   </td><td>   </td><td>   </td><td>   </td><td>   </td><td>   </td><td>   </td><td>   </td><td>1  </td><td>   </td><td>   </td><td>   </td><td>   </td><td>   </td><td>   </td><td>   </td><td>   </td><td>   </td></tr>\\n<tr><td>A </td><td>1  </td><td>   </td><td>   </td><td>   </td><td>   </td><td>   </td><td>   </td><td>   </td><td>1  </td><td>1  </td><td>   </td><td>   </td><td>   </td><td>   </td><td>   </td><td>1  </td><td>1  </td><td>   </td><td>1  </td><td>   </td><td>   </td><td>   </td><td>1  </td><td>   </td></tr>\\n<tr><td>A </td><td>1  </td><td>   </td><td>   </td><td>   </td><td>   </td><td>   </td><td>   </td><td>   </td><td>1  </td><td>1  </td><td>   </td><td>   </td><td>   </td><td>   </td><td>   </td><td>1  </td><td>1  </td><td>   </td><td>1  </td><td>   </td><td>   </td><td>   </td><td>1  </td><td>   </td></tr>\\n<tr><td>C </td><td>   </td><td>1  </td><td>1  </td><td>   </td><td>   </td><td>   </td><td>   </td><td>   </td><td>   </td><td>   </td><td>1  </td><td>1  </td><td>   </td><td>   </td><td>   </td><td>   </td><td>   </td><td>1  </td><td>   </td><td>1  </td><td>1  </td><td>1  </td><td>   </td><td>1  </td></tr>\\n<tr><td>A </td><td>1  </td><td>   </td><td>   </td><td>   </td><td>   </td><td>   </td><td>   </td><td>   </td><td>1  </td><td>1  </td><td>   </td><td>   </td><td>   </td><td>   </td><td>   </td><td>1  </td><td>1  </td><td>   </td><td>1  </td><td>   </td><td>   </td><td>   </td><td>1  </td><td>   </td></tr>\\n<tr><td>C </td><td>   </td><td>1  </td><td>1  </td><td>   </td><td>   </td><td>   </td><td>   </td><td>   </td><td>   </td><td>   </td><td>1  </td><td>1  </td><td>   </td><td>   </td><td>   </td><td>   </td><td>   </td><td>1  </td><td>   </td><td>1  </td><td>1  </td><td>1  </td><td>   </td><td>1  </td></tr>\\n<tr><td>C </td><td>   </td><td>1  </td><td>1  </td><td>   </td><td>   </td><td>   </td><td>   </td><td>   </td><td>   </td><td>   </td><td>1  </td><td>1  </td><td>   </td><td>   </td><td>   </td><td>   </td><td>   </td><td>1  </td><td>   </td><td>1  </td><td>1  </td><td>1  </td><td>   </td><td>1  </td></tr>\\n<tr><td>C </td><td>   </td><td>1  </td><td>1  </td><td>   </td><td>   </td><td>   </td><td>   </td><td>   </td><td>   </td><td>   </td><td>1  </td><td>1  </td><td>   </td><td>   </td><td>   </td><td>   </td><td>   </td><td>1  </td><td>   </td><td>1  </td><td>1  </td><td>1  </td><td>   </td><td>1  </td></tr>\\n<tr><td>A </td><td>1  </td><td>   </td><td>   </td><td>   </td><td>   </td><td>   </td><td>   </td><td>   </td><td>1  </td><td>1  </td><td>   </td><td>   </td><td>   </td><td>   </td><td>   </td><td>1  </td><td>1  </td><td>   </td><td>1  </td><td>   </td><td>   </td><td>   </td><td>1  </td><td>   </td></tr>\\n<tr><td>C </td><td>   </td><td>1  </td><td>1  </td><td>   </td><td>   </td><td>   </td><td>   </td><td>   </td><td>   </td><td>   </td><td>1  </td><td>1  </td><td>   </td><td>   </td><td>   </td><td>   </td><td>   </td><td>1  </td><td>   </td><td>1  </td><td>1  </td><td>1  </td><td>   </td><td>1  </td></tr>\\n</tbody>\\n</table>'"
      ]
     },
     "execution_count": 11,
     "metadata": {},
     "output_type": "execute_result"
    }
   ],
   "source": [
    "for row_number, row_character in enumerate(seqB):\n",
    "    for col_number, col_character in enumerate(seqA):\n",
    "        if row_character == col_character:\n",
    "            matriz[row_number, col_number] = 1\n",
    "\n",
    "show_F(seqA, seqB, matriz, hide_zeros=True)"
   ]
  },
  {
   "cell_type": "markdown",
   "id": "81763beb-fa91-4911-aefc-a9417af23859",
   "metadata": {},
   "source": [
    "Agora vamos buscar onde esta a maior sequência de células com valores diferentes de zero, aqui chamadas diagonais. Biologicamente, essas são as porções em que as duas sequências seguem idênticas, sem substituições ou deleções (ou inserções)."
   ]
  },
  {
   "cell_type": "code",
   "execution_count": 12,
   "id": "7a3809b6-fa96-4c78-bfbd-da864c85229c",
   "metadata": {},
   "outputs": [
    {
     "data": {
      "text/html": [
       "<table>\n",
       "<thead>\n",
       "<tr><th>  </th><th>A  </th><th>C  </th><th>C  </th><th>G  </th><th>G  </th><th>T  </th><th>G  </th><th>G  </th><th>A  </th><th>A  </th><th>C  </th><th>C  </th><th>G  </th><th>G  </th><th>T  </th><th>A  </th><th>A  </th><th>C  </th><th>A  </th><th>C  </th><th>C  </th><th>C  </th><th>A  </th><th>C  </th></tr>\n",
       "</thead>\n",
       "<tbody>\n",
       "<tr><td>A </td><td>1  </td><td>   </td><td>   </td><td>   </td><td>   </td><td>   </td><td>   </td><td>   </td><td>1  </td><td>1  </td><td>   </td><td>   </td><td>   </td><td>   </td><td>   </td><td>1  </td><td>1  </td><td>   </td><td>1  </td><td>   </td><td>   </td><td>   </td><td>1  </td><td>   </td></tr>\n",
       "<tr><td>C </td><td>   </td><td>2  </td><td>1  </td><td>   </td><td>   </td><td>   </td><td>   </td><td>   </td><td>   </td><td>   </td><td>2  </td><td>1  </td><td>   </td><td>   </td><td>   </td><td>   </td><td>   </td><td>2  </td><td>   </td><td>2  </td><td>1  </td><td>1  </td><td>   </td><td>2  </td></tr>\n",
       "<tr><td>C </td><td>   </td><td>1  </td><td>3  </td><td>   </td><td>   </td><td>   </td><td>   </td><td>   </td><td>   </td><td>   </td><td>1  </td><td>3  </td><td>   </td><td>   </td><td>   </td><td>   </td><td>   </td><td>1  </td><td>   </td><td>1  </td><td>3  </td><td>2  </td><td>   </td><td>1  </td></tr>\n",
       "<tr><td>G </td><td>   </td><td>   </td><td>   </td><td>4  </td><td>1  </td><td>   </td><td>1  </td><td>1  </td><td>   </td><td>   </td><td>   </td><td>   </td><td>4  </td><td>1  </td><td>   </td><td>   </td><td>   </td><td>   </td><td>   </td><td>   </td><td>   </td><td>   </td><td>   </td><td>   </td></tr>\n",
       "<tr><td>G </td><td>   </td><td>   </td><td>   </td><td>1  </td><td>5  </td><td>   </td><td>1  </td><td>2  </td><td>   </td><td>   </td><td>   </td><td>   </td><td>1  </td><td>5  </td><td>   </td><td>   </td><td>   </td><td>   </td><td>   </td><td>   </td><td>   </td><td>   </td><td>   </td><td>   </td></tr>\n",
       "<tr><td>T </td><td>   </td><td>   </td><td>   </td><td>   </td><td>   </td><td>6  </td><td>   </td><td>   </td><td>   </td><td>   </td><td>   </td><td>   </td><td>   </td><td>   </td><td>6  </td><td>   </td><td>   </td><td>   </td><td>   </td><td>   </td><td>   </td><td>   </td><td>   </td><td>   </td></tr>\n",
       "<tr><td>A </td><td>1  </td><td>   </td><td>   </td><td>   </td><td>   </td><td>   </td><td>   </td><td>   </td><td>1  </td><td>1  </td><td>   </td><td>   </td><td>   </td><td>   </td><td>   </td><td>7  </td><td>1  </td><td>   </td><td>1  </td><td>   </td><td>   </td><td>   </td><td>1  </td><td>   </td></tr>\n",
       "<tr><td>A </td><td>1  </td><td>   </td><td>   </td><td>   </td><td>   </td><td>   </td><td>   </td><td>   </td><td>1  </td><td>2  </td><td>   </td><td>   </td><td>   </td><td>   </td><td>   </td><td>1  </td><td>8  </td><td>   </td><td>1  </td><td>   </td><td>   </td><td>   </td><td>1  </td><td>   </td></tr>\n",
       "<tr><td>C </td><td>   </td><td>2  </td><td>1  </td><td>   </td><td>   </td><td>   </td><td>   </td><td>   </td><td>   </td><td>   </td><td>3  </td><td>1  </td><td>   </td><td>   </td><td>   </td><td>   </td><td>   </td><td>9  </td><td>   </td><td>2  </td><td>1  </td><td>1  </td><td>   </td><td>2  </td></tr>\n",
       "<tr><td>C </td><td>   </td><td>1  </td><td>3  </td><td>   </td><td>   </td><td>   </td><td>   </td><td>   </td><td>   </td><td>   </td><td>1  </td><td>4  </td><td>   </td><td>   </td><td>   </td><td>   </td><td>   </td><td>1  </td><td>   </td><td>1  </td><td>3  </td><td>2  </td><td>   </td><td>1  </td></tr>\n",
       "<tr><td>G </td><td>   </td><td>   </td><td>   </td><td>4  </td><td>1  </td><td>   </td><td>1  </td><td>1  </td><td>   </td><td>   </td><td>   </td><td>   </td><td>5  </td><td>1  </td><td>   </td><td>   </td><td>   </td><td>   </td><td>   </td><td>   </td><td>   </td><td>   </td><td>   </td><td>   </td></tr>\n",
       "<tr><td>G </td><td>   </td><td>   </td><td>   </td><td>1  </td><td>5  </td><td>   </td><td>1  </td><td>2  </td><td>   </td><td>   </td><td>   </td><td>   </td><td>1  </td><td>6  </td><td>   </td><td>   </td><td>   </td><td>   </td><td>   </td><td>   </td><td>   </td><td>   </td><td>   </td><td>   </td></tr>\n",
       "<tr><td>T </td><td>   </td><td>   </td><td>   </td><td>   </td><td>   </td><td>6  </td><td>   </td><td>   </td><td>   </td><td>   </td><td>   </td><td>   </td><td>   </td><td>   </td><td>7  </td><td>   </td><td>   </td><td>   </td><td>   </td><td>   </td><td>   </td><td>   </td><td>   </td><td>   </td></tr>\n",
       "<tr><td>T </td><td>   </td><td>   </td><td>   </td><td>   </td><td>   </td><td>1  </td><td>   </td><td>   </td><td>   </td><td>   </td><td>   </td><td>   </td><td>   </td><td>   </td><td>1  </td><td>   </td><td>   </td><td>   </td><td>   </td><td>   </td><td>   </td><td>   </td><td>   </td><td>   </td></tr>\n",
       "<tr><td>A </td><td>1  </td><td>   </td><td>   </td><td>   </td><td>   </td><td>   </td><td>   </td><td>   </td><td>1  </td><td>1  </td><td>   </td><td>   </td><td>   </td><td>   </td><td>   </td><td>2  </td><td>1  </td><td>   </td><td>1  </td><td>   </td><td>   </td><td>   </td><td>1  </td><td>   </td></tr>\n",
       "<tr><td>A </td><td>1  </td><td>   </td><td>   </td><td>   </td><td>   </td><td>   </td><td>   </td><td>   </td><td>1  </td><td>2  </td><td>   </td><td>   </td><td>   </td><td>   </td><td>   </td><td>1  </td><td>3  </td><td>   </td><td>1  </td><td>   </td><td>   </td><td>   </td><td>1  </td><td>   </td></tr>\n",
       "<tr><td>C </td><td>   </td><td>2  </td><td>1  </td><td>   </td><td>   </td><td>   </td><td>   </td><td>   </td><td>   </td><td>   </td><td>3  </td><td>1  </td><td>   </td><td>   </td><td>   </td><td>   </td><td>   </td><td>4  </td><td>   </td><td>2  </td><td>1  </td><td>1  </td><td>   </td><td>2  </td></tr>\n",
       "<tr><td>A </td><td>1  </td><td>   </td><td>   </td><td>   </td><td>   </td><td>   </td><td>   </td><td>   </td><td>1  </td><td>1  </td><td>   </td><td>   </td><td>   </td><td>   </td><td>   </td><td>1  </td><td>1  </td><td>   </td><td>5  </td><td>   </td><td>   </td><td>   </td><td>2  </td><td>   </td></tr>\n",
       "<tr><td>C </td><td>   </td><td>2  </td><td>1  </td><td>   </td><td>   </td><td>   </td><td>   </td><td>   </td><td>   </td><td>   </td><td>2  </td><td>1  </td><td>   </td><td>   </td><td>   </td><td>   </td><td>   </td><td>2  </td><td>   </td><td>6  </td><td>1  </td><td>1  </td><td>   </td><td>3  </td></tr>\n",
       "<tr><td>C </td><td>   </td><td>1  </td><td>3  </td><td>   </td><td>   </td><td>   </td><td>   </td><td>   </td><td>   </td><td>   </td><td>1  </td><td>3  </td><td>   </td><td>   </td><td>   </td><td>   </td><td>   </td><td>1  </td><td>   </td><td>1  </td><td>7  </td><td>2  </td><td>   </td><td>1  </td></tr>\n",
       "<tr><td>C </td><td>   </td><td>1  </td><td>2  </td><td>   </td><td>   </td><td>   </td><td>   </td><td>   </td><td>   </td><td>   </td><td>1  </td><td>2  </td><td>   </td><td>   </td><td>   </td><td>   </td><td>   </td><td>1  </td><td>   </td><td>1  </td><td>2  </td><td>8  </td><td>   </td><td>1  </td></tr>\n",
       "<tr><td>A </td><td>1  </td><td>   </td><td>   </td><td>   </td><td>   </td><td>   </td><td>   </td><td>   </td><td>1  </td><td>1  </td><td>   </td><td>   </td><td>   </td><td>   </td><td>   </td><td>1  </td><td>1  </td><td>   </td><td>2  </td><td>   </td><td>   </td><td>   </td><td>9  </td><td>   </td></tr>\n",
       "<tr><td>C </td><td>   </td><td>2  </td><td>1  </td><td>   </td><td>   </td><td>   </td><td>   </td><td>   </td><td>   </td><td>   </td><td>2  </td><td>1  </td><td>   </td><td>   </td><td>   </td><td>   </td><td>   </td><td>2  </td><td>   </td><td>3  </td><td>1  </td><td>1  </td><td>   </td><td>10 </td></tr>\n",
       "</tbody>\n",
       "</table>"
      ],
      "text/plain": [
       "'<table>\\n<thead>\\n<tr><th>  </th><th>A  </th><th>C  </th><th>C  </th><th>G  </th><th>G  </th><th>T  </th><th>G  </th><th>G  </th><th>A  </th><th>A  </th><th>C  </th><th>C  </th><th>G  </th><th>G  </th><th>T  </th><th>A  </th><th>A  </th><th>C  </th><th>A  </th><th>C  </th><th>C  </th><th>C  </th><th>A  </th><th>C  </th></tr>\\n</thead>\\n<tbody>\\n<tr><td>A </td><td>1  </td><td>   </td><td>   </td><td>   </td><td>   </td><td>   </td><td>   </td><td>   </td><td>1  </td><td>1  </td><td>   </td><td>   </td><td>   </td><td>   </td><td>   </td><td>1  </td><td>1  </td><td>   </td><td>1  </td><td>   </td><td>   </td><td>   </td><td>1  </td><td>   </td></tr>\\n<tr><td>C </td><td>   </td><td>2  </td><td>1  </td><td>   </td><td>   </td><td>   </td><td>   </td><td>   </td><td>   </td><td>   </td><td>2  </td><td>1  </td><td>   </td><td>   </td><td>   </td><td>   </td><td>   </td><td>2  </td><td>   </td><td>2  </td><td>1  </td><td>1  </td><td>   </td><td>2  </td></tr>\\n<tr><td>C </td><td>   </td><td>1  </td><td>3  </td><td>   </td><td>   </td><td>   </td><td>   </td><td>   </td><td>   </td><td>   </td><td>1  </td><td>3  </td><td>   </td><td>   </td><td>   </td><td>   </td><td>   </td><td>1  </td><td>   </td><td>1  </td><td>3  </td><td>2  </td><td>   </td><td>1  </td></tr>\\n<tr><td>G </td><td>   </td><td>   </td><td>   </td><td>4  </td><td>1  </td><td>   </td><td>1  </td><td>1  </td><td>   </td><td>   </td><td>   </td><td>   </td><td>4  </td><td>1  </td><td>   </td><td>   </td><td>   </td><td>   </td><td>   </td><td>   </td><td>   </td><td>   </td><td>   </td><td>   </td></tr>\\n<tr><td>G </td><td>   </td><td>   </td><td>   </td><td>1  </td><td>5  </td><td>   </td><td>1  </td><td>2  </td><td>   </td><td>   </td><td>   </td><td>   </td><td>1  </td><td>5  </td><td>   </td><td>   </td><td>   </td><td>   </td><td>   </td><td>   </td><td>   </td><td>   </td><td>   </td><td>   </td></tr>\\n<tr><td>T </td><td>   </td><td>   </td><td>   </td><td>   </td><td>   </td><td>6  </td><td>   </td><td>   </td><td>   </td><td>   </td><td>   </td><td>   </td><td>   </td><td>   </td><td>6  </td><td>   </td><td>   </td><td>   </td><td>   </td><td>   </td><td>   </td><td>   </td><td>   </td><td>   </td></tr>\\n<tr><td>A </td><td>1  </td><td>   </td><td>   </td><td>   </td><td>   </td><td>   </td><td>   </td><td>   </td><td>1  </td><td>1  </td><td>   </td><td>   </td><td>   </td><td>   </td><td>   </td><td>7  </td><td>1  </td><td>   </td><td>1  </td><td>   </td><td>   </td><td>   </td><td>1  </td><td>   </td></tr>\\n<tr><td>A </td><td>1  </td><td>   </td><td>   </td><td>   </td><td>   </td><td>   </td><td>   </td><td>   </td><td>1  </td><td>2  </td><td>   </td><td>   </td><td>   </td><td>   </td><td>   </td><td>1  </td><td>8  </td><td>   </td><td>1  </td><td>   </td><td>   </td><td>   </td><td>1  </td><td>   </td></tr>\\n<tr><td>C </td><td>   </td><td>2  </td><td>1  </td><td>   </td><td>   </td><td>   </td><td>   </td><td>   </td><td>   </td><td>   </td><td>3  </td><td>1  </td><td>   </td><td>   </td><td>   </td><td>   </td><td>   </td><td>9  </td><td>   </td><td>2  </td><td>1  </td><td>1  </td><td>   </td><td>2  </td></tr>\\n<tr><td>C </td><td>   </td><td>1  </td><td>3  </td><td>   </td><td>   </td><td>   </td><td>   </td><td>   </td><td>   </td><td>   </td><td>1  </td><td>4  </td><td>   </td><td>   </td><td>   </td><td>   </td><td>   </td><td>1  </td><td>   </td><td>1  </td><td>3  </td><td>2  </td><td>   </td><td>1  </td></tr>\\n<tr><td>G </td><td>   </td><td>   </td><td>   </td><td>4  </td><td>1  </td><td>   </td><td>1  </td><td>1  </td><td>   </td><td>   </td><td>   </td><td>   </td><td>5  </td><td>1  </td><td>   </td><td>   </td><td>   </td><td>   </td><td>   </td><td>   </td><td>   </td><td>   </td><td>   </td><td>   </td></tr>\\n<tr><td>G </td><td>   </td><td>   </td><td>   </td><td>1  </td><td>5  </td><td>   </td><td>1  </td><td>2  </td><td>   </td><td>   </td><td>   </td><td>   </td><td>1  </td><td>6  </td><td>   </td><td>   </td><td>   </td><td>   </td><td>   </td><td>   </td><td>   </td><td>   </td><td>   </td><td>   </td></tr>\\n<tr><td>T </td><td>   </td><td>   </td><td>   </td><td>   </td><td>   </td><td>6  </td><td>   </td><td>   </td><td>   </td><td>   </td><td>   </td><td>   </td><td>   </td><td>   </td><td>7  </td><td>   </td><td>   </td><td>   </td><td>   </td><td>   </td><td>   </td><td>   </td><td>   </td><td>   </td></tr>\\n<tr><td>T </td><td>   </td><td>   </td><td>   </td><td>   </td><td>   </td><td>1  </td><td>   </td><td>   </td><td>   </td><td>   </td><td>   </td><td>   </td><td>   </td><td>   </td><td>1  </td><td>   </td><td>   </td><td>   </td><td>   </td><td>   </td><td>   </td><td>   </td><td>   </td><td>   </td></tr>\\n<tr><td>A </td><td>1  </td><td>   </td><td>   </td><td>   </td><td>   </td><td>   </td><td>   </td><td>   </td><td>1  </td><td>1  </td><td>   </td><td>   </td><td>   </td><td>   </td><td>   </td><td>2  </td><td>1  </td><td>   </td><td>1  </td><td>   </td><td>   </td><td>   </td><td>1  </td><td>   </td></tr>\\n<tr><td>A </td><td>1  </td><td>   </td><td>   </td><td>   </td><td>   </td><td>   </td><td>   </td><td>   </td><td>1  </td><td>2  </td><td>   </td><td>   </td><td>   </td><td>   </td><td>   </td><td>1  </td><td>3  </td><td>   </td><td>1  </td><td>   </td><td>   </td><td>   </td><td>1  </td><td>   </td></tr>\\n<tr><td>C </td><td>   </td><td>2  </td><td>1  </td><td>   </td><td>   </td><td>   </td><td>   </td><td>   </td><td>   </td><td>   </td><td>3  </td><td>1  </td><td>   </td><td>   </td><td>   </td><td>   </td><td>   </td><td>4  </td><td>   </td><td>2  </td><td>1  </td><td>1  </td><td>   </td><td>2  </td></tr>\\n<tr><td>A </td><td>1  </td><td>   </td><td>   </td><td>   </td><td>   </td><td>   </td><td>   </td><td>   </td><td>1  </td><td>1  </td><td>   </td><td>   </td><td>   </td><td>   </td><td>   </td><td>1  </td><td>1  </td><td>   </td><td>5  </td><td>   </td><td>   </td><td>   </td><td>2  </td><td>   </td></tr>\\n<tr><td>C </td><td>   </td><td>2  </td><td>1  </td><td>   </td><td>   </td><td>   </td><td>   </td><td>   </td><td>   </td><td>   </td><td>2  </td><td>1  </td><td>   </td><td>   </td><td>   </td><td>   </td><td>   </td><td>2  </td><td>   </td><td>6  </td><td>1  </td><td>1  </td><td>   </td><td>3  </td></tr>\\n<tr><td>C </td><td>   </td><td>1  </td><td>3  </td><td>   </td><td>   </td><td>   </td><td>   </td><td>   </td><td>   </td><td>   </td><td>1  </td><td>3  </td><td>   </td><td>   </td><td>   </td><td>   </td><td>   </td><td>1  </td><td>   </td><td>1  </td><td>7  </td><td>2  </td><td>   </td><td>1  </td></tr>\\n<tr><td>C </td><td>   </td><td>1  </td><td>2  </td><td>   </td><td>   </td><td>   </td><td>   </td><td>   </td><td>   </td><td>   </td><td>1  </td><td>2  </td><td>   </td><td>   </td><td>   </td><td>   </td><td>   </td><td>1  </td><td>   </td><td>1  </td><td>2  </td><td>8  </td><td>   </td><td>1  </td></tr>\\n<tr><td>A </td><td>1  </td><td>   </td><td>   </td><td>   </td><td>   </td><td>   </td><td>   </td><td>   </td><td>1  </td><td>1  </td><td>   </td><td>   </td><td>   </td><td>   </td><td>   </td><td>1  </td><td>1  </td><td>   </td><td>2  </td><td>   </td><td>   </td><td>   </td><td>9  </td><td>   </td></tr>\\n<tr><td>C </td><td>   </td><td>2  </td><td>1  </td><td>   </td><td>   </td><td>   </td><td>   </td><td>   </td><td>   </td><td>   </td><td>2  </td><td>1  </td><td>   </td><td>   </td><td>   </td><td>   </td><td>   </td><td>2  </td><td>   </td><td>3  </td><td>1  </td><td>1  </td><td>   </td><td>10 </td></tr>\\n</tbody>\\n</table>'"
      ]
     },
     "execution_count": 12,
     "metadata": {},
     "output_type": "execute_result"
    }
   ],
   "source": [
    "# copia-se a matriz original para ter um backup\n",
    "matriz_somada = matriz.copy()\n",
    "# iteração por todas as células a partir da\n",
    "# segunda linha e segunda coluna\n",
    "for i in range(1, matriz_somada.shape[0]):\n",
    "    for j in range(1, matriz_somada.shape[1]):\n",
    "        # se o valor na célula for maior que zero\n",
    "        # adicionar o valor da célula que estiver acima\n",
    "        # e o valor da célula que estiver à esquerda\n",
    "        if matriz_somada[i, j] > 0:\n",
    "            matriz_somada[i, j] += matriz_somada[i-1][j-1]\n",
    "\n",
    "show_F(seqA, seqB, matriz_somada, hide_zeros=True)"
   ]
  },
  {
   "cell_type": "markdown",
   "id": "0a6d358f-8da6-4fa6-8628-aba41ee2599f",
   "metadata": {},
   "source": [
    "Onde está a maior diagonal somada?\n",
    "\n",
    "![patolino rocurando](https://c.tenor.com/z8r_8_sMbOMAAAAC/searching-investigation.gif)"
   ]
  },
  {
   "cell_type": "code",
   "execution_count": 13,
   "id": "3b744aaa-c03f-433e-825d-f4d82ff3a150",
   "metadata": {},
   "outputs": [
    {
     "name": "stdout",
     "output_type": "stream",
     "text": [
      "A maior diagonal tem 10 nucleotídeos de comprimento.\n"
     ]
    }
   ],
   "source": [
    "maior_diagonal = matriz_somada.max()\n",
    "print(\"A maior diagonal tem %d nucleotídeos de comprimento.\" % maior_diagonal)"
   ]
  },
  {
   "cell_type": "markdown",
   "id": "9aa1f72a-81d7-45f3-9ae3-8a7a2bde055e",
   "metadata": {},
   "source": [
    "O que isso significa em termos de alinhamento? Fizemos um alinhamento manual anteriormente, mas e agora, com essa tabela, onde adicionar os hífens?\n",
    "\n",
    "De maneira resumida, o algoritmo vai \n",
    "> 1. buscar a maior diagonal \n",
    "> 2. escrever a sequência a partir do último nucleotídeo correspondente para as duas sequências;\n",
    "> 3. seguir voltando na sequência (subindo a diagonal) até o fim da maior diagonal\n",
    "\n",
    "Quando a diagonal quebrar, as ações seguintes incluem...\n",
    "\n",
    "> 4. buscar a segunda maior diagonal acima ou à esquerda\n",
    "> 5. adicionar hífens/gaps/intervalos para cada célula que se teve que pular até essa diagonal: se foi para cima, o gap vai para a sequência correspondente às colunas da matriz, se foi para a esquerda, o gap vai para a sequência correspondente às linhas da matriz.\n",
    "> 6. calcula-se um escore para o alinhamento\n",
    "\n",
    "Para essa visualização, vamos simplesmente adicionar 1 para cada correspondência e -1 para cada substituição, sem valor específico para os gaps.\n",
    "\n",
    "Esses são dois alinhamentos possíveis:"
   ]
  },
  {
   "cell_type": "markdown",
   "id": "e30f70ea-55a9-47ea-bcba-bf6a56af2ed4",
   "metadata": {},
   "source": [
    "```bash\n",
    "Alinhamento 1 (score: 19)\n",
    "\n",
    "ACCGGTGGAACCGG-TAACACCCAC\n",
    "ACCGGT--AACCGGTTAACACCCAC\n",
    "\n",
    "Alinhamento 2 (score: 8)\n",
    "\n",
    "ACCGGTGGAACCGGTAACACCCAC\n",
    "ACCGGT--------TAACACCCAC\n",
    "```"
   ]
  },
  {
   "cell_type": "markdown",
   "id": "4056d224-2216-4853-b9a4-c103925796fd",
   "metadata": {},
   "source": [
    "> Discutam \n",
    "- Como os dois alinhamentos apresentados podem ser relevantes biologicamente?\n",
    "- Quais são as limitações do escore calculado?\n",
    "\n",
    "![Conversem](https://media0.giphy.com/media/26FPJGjhefSJuaRhu/giphy.gif?cid=ecf05e47rf63k20r0c6lu1y1uwwcsk2vx123og5vqqu1u19n&rid=giphy.gif&ct=g)"
   ]
  },
  {
   "cell_type": "markdown",
   "id": "fd8df4cb-c1eb-4a02-9ec1-106fab6dc63a",
   "metadata": {},
   "source": [
    "### *\"Todos os modelos estão errados, mas alguns são úteis.\"* **George Box**"
   ]
  },
  {
   "cell_type": "markdown",
   "id": "f456d137-51a9-470e-be0e-8de7e50fe07f",
   "metadata": {},
   "source": [
    "Existe toda uma maquinaria celular para a manutenção da fidelidade da replicação (síntese de DNA), existem ainda mecanismos para garantir essa fidelidade na síntese de RNA e proteína. Muitas mutações prejudicam a regulação de um gene, dificultando sua expressão ou ainda impedem ou reduzem a eficiência de uma proteína que possa ser traduzida. Por isso, mutações não ocorrem em todas as posições e a todo momento.\n",
    "\n",
    "![Atividade de Correção da DNA Polimerase](https://cdn.kastatic.org/ka-perseus-images/fd025fc7b765b7df394990fa014b93b70c94eba6.png)\n",
    "\n",
    "O pequeno número de mutações que ocorre, é passado adiante e que confere vantagem (ou que não prejudica) os indivíduos vai se espalhando ou simplesmente permanece na população ao longo de gerações.\n",
    "\n",
    "De modo geral não se atribui a mesma pontuação, apenas com sinais invertidos, para correspondências (matches) e substituições (mismatches). Além disso, a presença de intervalos nas sequências, indicando inserções ou deleções em dois ou mais nucleotídeos (ou aminoácidos) também pode ter um impacto severo nos seres vivos, devendo possuir uma \"punição\" (valor negativo) próprio.\n",
    "\n",
    "> Assim, ao fazer alinhamentos você deve lembrar que cada resultado é gerado por um algoritmo (ou vários) que tem parâmetros específicos (e modificáveis) e que cada análise parte de pressupostos que devem ser conhecidos por você. Além disso, alguns algoritmos são mais adequados quando se tem muitos alinhamentos (e menos tempo para cada um)."
   ]
  },
  {
   "cell_type": "markdown",
   "id": "1d37845c-7520-4104-8bc1-fcbb2da1d667",
   "metadata": {},
   "source": [
    "## As matrizes de substituição\n",
    "\n",
    "Para proteínas, utilizar um único valor para correspondências e um outro para substituições é ainda pior. Como vimos, aminoácidos são moléculas com cadeias laterais que lhes conferem características físico-químicas próprias, e podem ser agrupados de acordo com elas.\n",
    "\n",
    "Você deve se lembrar da matriz de substituição\n",
    "PAM1 calculada por Margaret Dayhoff e colaboradores. Outras matrizes foram produzidas com o mesmo propósito; há matrizes PAM obtida por operações com a primeira matriz PAM, e matrizes obtidas por outras vias, como a BLOSUM. \n",
    "\n",
    "Enquanto a PAM é uma matriz de substituição gerada pelo alinhamento de proteínas homólogas, pertencentes a um número de famílias, a matriz BLOSUM foi gerada olhando para substituições que ocorrem em regiões muito conservadas identificadas para vários alinhamentos. Diferentes matrizes podem ser utilizadas, a depender do objetivo da análise:\n",
    "\n",
    "![Variações nas divergências das sequências usadas](https://resources.qiagenbioinformatics.com/manuals/clcgenomicsworkbench/650/pam-blosum.png)\n",
    "\n",
    "Neste tutorial vamos usar uma BLOSUM50."
   ]
  },
  {
   "cell_type": "code",
   "execution_count": 14,
   "id": "5630a871-0991-43ff-b4f6-c08283bd994c",
   "metadata": {},
   "outputs": [],
   "source": [
    "blosum50 = {'A': {'A': 5, 'C': -1, 'D': -2, 'E': -1, 'F': -3, 'G': 0, 'H': -2, 'I': -1, 'K': -1, 'L': -2, 'M': -1, 'N': -1, 'P': -1, 'Q': -1, 'R': -2, 'S': 1, 'T': 0, 'V': 0, 'W': -3, 'Y': -2},\n",
    "'C': {'A': -1, 'C': 13, 'D': -4, 'E': -3, 'F': -2, 'G': -3, 'H': -3, 'I': -2, 'K': -3, 'L': -2, 'M': -2, 'N': -2, 'P': -4, 'Q': -3, 'R': -4, 'S': -1, 'T': -1, 'V': -1, 'W': -5, 'Y': -3},\n",
    "'D': {'A': -2, 'C': -4, 'D': 8, 'E': 2, 'F': -5, 'G': -1, 'H': -1, 'I': -4, 'K': -1, 'L': -4, 'M': -4, 'N': 2, 'P': -1, 'Q': 0, 'R': -2, 'S': 0, 'T': -1, 'V': -4, 'W': -5, 'Y': -3},\n",
    "'E': {'A': -1, 'C': -3, 'D': 2, 'E': 6, 'F': -3, 'G': -3, 'H': 0, 'I': -4, 'K': 1, 'L': -3, 'M': -2, 'N': 0, 'P': -1, 'Q': 2, 'R': 0, 'S': -1, 'T': -1, 'V': -3, 'W': -3, 'Y': -2},\n",
    "'F': {'A': -3, 'C': -2, 'D': -5, 'E': -3, 'F': 8, 'G': -4, 'H': -1, 'I': 0, 'K': -4, 'L': 1, 'M': 0, 'N': -4, 'P': -4, 'Q': -4, 'R': -3, 'S': -3, 'T': -2, 'V': -1, 'W': 1, 'Y': 4},\n",
    "'G': {'A': 0, 'C': -3, 'D': -1, 'E': -3, 'F': -4, 'G': 8, 'H': -2, 'I': -4, 'K': -2, 'L': -4, 'M': -3, 'N': 0, 'P': -2, 'Q': -2, 'R': -3, 'S': 0, 'T': -2, 'V': -4, 'W': -3, 'Y': -3},\n",
    "'H': {'A': -2, 'C': -3, 'D': -1, 'E': 0, 'F': -1, 'G': -2, 'H': 10, 'I': -4, 'K': 0, 'L': -3, 'M': -1, 'N': 1, 'P': -2, 'Q': 1, 'R': 0, 'S': -1, 'T': -2, 'V': -4, 'W': -3, 'Y': 2},\n",
    "'I': {'A': -1, 'C': -2, 'D': -4, 'E': -4, 'F': 0, 'G': -4, 'H': -4, 'I': 5, 'K': -3, 'L': 2, 'M': 2, 'N': -3, 'P': -3, 'Q': -3, 'R': -4, 'S': -3, 'T': -1, 'V': 4, 'W': -3, 'Y': -1},\n",
    "'K': {'A': -1, 'C': -3, 'D': -1, 'E': 1, 'F': -4, 'G': -2, 'H': 0, 'I': -3, 'K': 6, 'L': -3, 'M': -2, 'N': 0, 'P': -1, 'Q': 2, 'R': 3, 'S': 0, 'T': -1, 'V': -3, 'W': -3, 'Y': -2},\n",
    "'L': {'A': -2, 'C': -2, 'D': -4, 'E': -3, 'F': 1, 'G': -4, 'H': -3, 'I': 2, 'K': -3, 'L': 5, 'M': 3, 'N': -4, 'P': -4, 'Q': -2, 'R': -3, 'S': -3, 'T': -1, 'V': 1, 'W': -2, 'Y': -1},\n",
    "'M': {'A': -1, 'C': -2, 'D': -4, 'E': -2, 'F': 0, 'G': -3, 'H': -1, 'I': 2, 'K': -2, 'L': 3, 'M': 7, 'N': -2, 'P': -3, 'Q': 0, 'R': -2, 'S': -2, 'T': -1, 'V': 1, 'W': -1, 'Y': 0},\n",
    "'N': {'A': -1, 'C': -2, 'D': 2, 'E': 0, 'F': -4, 'G': 0, 'H': 1, 'I': -3, 'K': 0, 'L': -4, 'M': -2, 'N': 7, 'P': -2, 'Q': 0, 'R': -1, 'S': 1, 'T': 0, 'V': -3, 'W': -4, 'Y': -2},\n",
    "'P': {'A': -1, 'C': -4, 'D': -1, 'E': -1, 'F': -4, 'G': -2, 'H': -2, 'I': -3, 'K': -1, 'L': -4, 'M': -3, 'N': -2, 'P': 10, 'Q': -1, 'R': -3, 'S': -1, 'T': -1, 'V': -3, 'W': -4, 'Y': -3},\n",
    "'Q': {'A': -1, 'C': -3, 'D': 0, 'E': 2, 'F': -4, 'G': -2, 'H': 1, 'I': -3, 'K': 2, 'L': -2, 'M': 0, 'N': 0, 'P': -1, 'Q': 7, 'R': 1, 'S': 0, 'T': -1, 'V': -3, 'W': -1, 'Y': -1},\n",
    "'R': {'A': -2, 'C': -4, 'D': -2, 'E': 0, 'F': -3, 'G': -3, 'H': 0, 'I': -4, 'K': 3, 'L': -3, 'M': -2, 'N': -1, 'P': -3, 'Q': 1, 'R': 7, 'S': -1, 'T': -1, 'V': -3, 'W': -3, 'Y': -1},\n",
    "'S': {'A': 1, 'C': -1, 'D': 0, 'E': -1, 'F': -3, 'G': 0, 'H': -1, 'I': -3, 'K': 0, 'L': -3, 'M': -2, 'N': 1, 'P': -1, 'Q': 0, 'R': -1, 'S': 5, 'T': 2, 'V': -2, 'W': -4, 'Y': -2},\n",
    "'T': {'A': 0, 'C': -1, 'D': -1, 'E': -1, 'F': -2, 'G': -2, 'H': -2, 'I': -1, 'K': -1, 'L': -1, 'M': -1, 'N': 0, 'P': -1, 'Q': -1, 'R': -1, 'S': 2, 'T': 5, 'V': 0, 'W': -3, 'Y': -2},\n",
    "'V': {'A': 0, 'C': -1, 'D': -4, 'E': -3, 'F': -1, 'G': -4, 'H': -4, 'I': 4, 'K': -3, 'L': 1, 'M': 1, 'N': -3, 'P': -3, 'Q': -3, 'R': -3, 'S': -2, 'T': 0, 'V': 5, 'W': -3, 'Y': -1},\n",
    "'W': {'A': -3, 'C': -5, 'D': -5, 'E': -3, 'F': 1, 'G': -3, 'H': -3, 'I': -3, 'K': -3, 'L': -2, 'M': -1, 'N': -4, 'P': -4, 'Q': -1, 'R': -3, 'S': -4, 'T': -3, 'V': -3, 'W': 15, 'Y': 2},\n",
    "'Y': {'A': -2, 'C': -3, 'D': -3, 'E': -2, 'F': 4, 'G': -3, 'H': 2, 'I': -1, 'K': -2, 'L': -1, 'M': 0, 'N': -2, 'P': -3, 'Q': -1, 'R': -1, 'S': -2, 'T': -2, 'V': -1, 'W': 2, 'Y': 8}}\n",
    "\n",
    "aas = list(blosum50.keys())\n",
    "aas.sort()\n",
    "data = []\n",
    "for aa1 in aas:\n",
    "    row = []\n",
    "    for aa2 in aas:\n",
    "        row.append(blosum50[aa1][aa2])\n",
    "    data.append(row)\n",
    "\n",
    "aa_labels = ''.join(aas)"
   ]
  },
  {
   "cell_type": "code",
   "execution_count": 15,
   "id": "754b316e-1ee2-4701-96df-4cc5025fadae",
   "metadata": {},
   "outputs": [
    {
     "data": {
      "text/html": [
       "<table>\n",
       "<thead>\n",
       "<tr><th>  </th><th style=\"text-align: right;\">  A</th><th style=\"text-align: right;\">  C</th><th style=\"text-align: right;\">  D</th><th style=\"text-align: right;\">  E</th><th style=\"text-align: right;\">  F</th><th style=\"text-align: right;\">  G</th><th style=\"text-align: right;\">  H</th><th style=\"text-align: right;\">  I</th><th style=\"text-align: right;\">  K</th><th style=\"text-align: right;\">  L</th><th style=\"text-align: right;\">  M</th><th style=\"text-align: right;\">  N</th><th style=\"text-align: right;\">  P</th><th style=\"text-align: right;\">  Q</th><th style=\"text-align: right;\">  R</th><th style=\"text-align: right;\">  S</th><th style=\"text-align: right;\">  T</th><th style=\"text-align: right;\">  V</th><th style=\"text-align: right;\">  W</th><th style=\"text-align: right;\">  Y</th></tr>\n",
       "</thead>\n",
       "<tbody>\n",
       "<tr><td>A </td><td style=\"text-align: right;\">  5</td><td style=\"text-align: right;\"> -1</td><td style=\"text-align: right;\"> -2</td><td style=\"text-align: right;\"> -1</td><td style=\"text-align: right;\"> -3</td><td style=\"text-align: right;\">  0</td><td style=\"text-align: right;\"> -2</td><td style=\"text-align: right;\"> -1</td><td style=\"text-align: right;\"> -1</td><td style=\"text-align: right;\"> -2</td><td style=\"text-align: right;\"> -1</td><td style=\"text-align: right;\"> -1</td><td style=\"text-align: right;\"> -1</td><td style=\"text-align: right;\"> -1</td><td style=\"text-align: right;\"> -2</td><td style=\"text-align: right;\">  1</td><td style=\"text-align: right;\">  0</td><td style=\"text-align: right;\">  0</td><td style=\"text-align: right;\"> -3</td><td style=\"text-align: right;\"> -2</td></tr>\n",
       "<tr><td>C </td><td style=\"text-align: right;\"> -1</td><td style=\"text-align: right;\"> 13</td><td style=\"text-align: right;\"> -4</td><td style=\"text-align: right;\"> -3</td><td style=\"text-align: right;\"> -2</td><td style=\"text-align: right;\"> -3</td><td style=\"text-align: right;\"> -3</td><td style=\"text-align: right;\"> -2</td><td style=\"text-align: right;\"> -3</td><td style=\"text-align: right;\"> -2</td><td style=\"text-align: right;\"> -2</td><td style=\"text-align: right;\"> -2</td><td style=\"text-align: right;\"> -4</td><td style=\"text-align: right;\"> -3</td><td style=\"text-align: right;\"> -4</td><td style=\"text-align: right;\"> -1</td><td style=\"text-align: right;\"> -1</td><td style=\"text-align: right;\"> -1</td><td style=\"text-align: right;\"> -5</td><td style=\"text-align: right;\"> -3</td></tr>\n",
       "<tr><td>D </td><td style=\"text-align: right;\"> -2</td><td style=\"text-align: right;\"> -4</td><td style=\"text-align: right;\">  8</td><td style=\"text-align: right;\">  2</td><td style=\"text-align: right;\"> -5</td><td style=\"text-align: right;\"> -1</td><td style=\"text-align: right;\"> -1</td><td style=\"text-align: right;\"> -4</td><td style=\"text-align: right;\"> -1</td><td style=\"text-align: right;\"> -4</td><td style=\"text-align: right;\"> -4</td><td style=\"text-align: right;\">  2</td><td style=\"text-align: right;\"> -1</td><td style=\"text-align: right;\">  0</td><td style=\"text-align: right;\"> -2</td><td style=\"text-align: right;\">  0</td><td style=\"text-align: right;\"> -1</td><td style=\"text-align: right;\"> -4</td><td style=\"text-align: right;\"> -5</td><td style=\"text-align: right;\"> -3</td></tr>\n",
       "<tr><td>E </td><td style=\"text-align: right;\"> -1</td><td style=\"text-align: right;\"> -3</td><td style=\"text-align: right;\">  2</td><td style=\"text-align: right;\">  6</td><td style=\"text-align: right;\"> -3</td><td style=\"text-align: right;\"> -3</td><td style=\"text-align: right;\">  0</td><td style=\"text-align: right;\"> -4</td><td style=\"text-align: right;\">  1</td><td style=\"text-align: right;\"> -3</td><td style=\"text-align: right;\"> -2</td><td style=\"text-align: right;\">  0</td><td style=\"text-align: right;\"> -1</td><td style=\"text-align: right;\">  2</td><td style=\"text-align: right;\">  0</td><td style=\"text-align: right;\"> -1</td><td style=\"text-align: right;\"> -1</td><td style=\"text-align: right;\"> -3</td><td style=\"text-align: right;\"> -3</td><td style=\"text-align: right;\"> -2</td></tr>\n",
       "<tr><td>F </td><td style=\"text-align: right;\"> -3</td><td style=\"text-align: right;\"> -2</td><td style=\"text-align: right;\"> -5</td><td style=\"text-align: right;\"> -3</td><td style=\"text-align: right;\">  8</td><td style=\"text-align: right;\"> -4</td><td style=\"text-align: right;\"> -1</td><td style=\"text-align: right;\">  0</td><td style=\"text-align: right;\"> -4</td><td style=\"text-align: right;\">  1</td><td style=\"text-align: right;\">  0</td><td style=\"text-align: right;\"> -4</td><td style=\"text-align: right;\"> -4</td><td style=\"text-align: right;\"> -4</td><td style=\"text-align: right;\"> -3</td><td style=\"text-align: right;\"> -3</td><td style=\"text-align: right;\"> -2</td><td style=\"text-align: right;\"> -1</td><td style=\"text-align: right;\">  1</td><td style=\"text-align: right;\">  4</td></tr>\n",
       "<tr><td>G </td><td style=\"text-align: right;\">  0</td><td style=\"text-align: right;\"> -3</td><td style=\"text-align: right;\"> -1</td><td style=\"text-align: right;\"> -3</td><td style=\"text-align: right;\"> -4</td><td style=\"text-align: right;\">  8</td><td style=\"text-align: right;\"> -2</td><td style=\"text-align: right;\"> -4</td><td style=\"text-align: right;\"> -2</td><td style=\"text-align: right;\"> -4</td><td style=\"text-align: right;\"> -3</td><td style=\"text-align: right;\">  0</td><td style=\"text-align: right;\"> -2</td><td style=\"text-align: right;\"> -2</td><td style=\"text-align: right;\"> -3</td><td style=\"text-align: right;\">  0</td><td style=\"text-align: right;\"> -2</td><td style=\"text-align: right;\"> -4</td><td style=\"text-align: right;\"> -3</td><td style=\"text-align: right;\"> -3</td></tr>\n",
       "<tr><td>H </td><td style=\"text-align: right;\"> -2</td><td style=\"text-align: right;\"> -3</td><td style=\"text-align: right;\"> -1</td><td style=\"text-align: right;\">  0</td><td style=\"text-align: right;\"> -1</td><td style=\"text-align: right;\"> -2</td><td style=\"text-align: right;\"> 10</td><td style=\"text-align: right;\"> -4</td><td style=\"text-align: right;\">  0</td><td style=\"text-align: right;\"> -3</td><td style=\"text-align: right;\"> -1</td><td style=\"text-align: right;\">  1</td><td style=\"text-align: right;\"> -2</td><td style=\"text-align: right;\">  1</td><td style=\"text-align: right;\">  0</td><td style=\"text-align: right;\"> -1</td><td style=\"text-align: right;\"> -2</td><td style=\"text-align: right;\"> -4</td><td style=\"text-align: right;\"> -3</td><td style=\"text-align: right;\">  2</td></tr>\n",
       "<tr><td>I </td><td style=\"text-align: right;\"> -1</td><td style=\"text-align: right;\"> -2</td><td style=\"text-align: right;\"> -4</td><td style=\"text-align: right;\"> -4</td><td style=\"text-align: right;\">  0</td><td style=\"text-align: right;\"> -4</td><td style=\"text-align: right;\"> -4</td><td style=\"text-align: right;\">  5</td><td style=\"text-align: right;\"> -3</td><td style=\"text-align: right;\">  2</td><td style=\"text-align: right;\">  2</td><td style=\"text-align: right;\"> -3</td><td style=\"text-align: right;\"> -3</td><td style=\"text-align: right;\"> -3</td><td style=\"text-align: right;\"> -4</td><td style=\"text-align: right;\"> -3</td><td style=\"text-align: right;\"> -1</td><td style=\"text-align: right;\">  4</td><td style=\"text-align: right;\"> -3</td><td style=\"text-align: right;\"> -1</td></tr>\n",
       "<tr><td>K </td><td style=\"text-align: right;\"> -1</td><td style=\"text-align: right;\"> -3</td><td style=\"text-align: right;\"> -1</td><td style=\"text-align: right;\">  1</td><td style=\"text-align: right;\"> -4</td><td style=\"text-align: right;\"> -2</td><td style=\"text-align: right;\">  0</td><td style=\"text-align: right;\"> -3</td><td style=\"text-align: right;\">  6</td><td style=\"text-align: right;\"> -3</td><td style=\"text-align: right;\"> -2</td><td style=\"text-align: right;\">  0</td><td style=\"text-align: right;\"> -1</td><td style=\"text-align: right;\">  2</td><td style=\"text-align: right;\">  3</td><td style=\"text-align: right;\">  0</td><td style=\"text-align: right;\"> -1</td><td style=\"text-align: right;\"> -3</td><td style=\"text-align: right;\"> -3</td><td style=\"text-align: right;\"> -2</td></tr>\n",
       "<tr><td>L </td><td style=\"text-align: right;\"> -2</td><td style=\"text-align: right;\"> -2</td><td style=\"text-align: right;\"> -4</td><td style=\"text-align: right;\"> -3</td><td style=\"text-align: right;\">  1</td><td style=\"text-align: right;\"> -4</td><td style=\"text-align: right;\"> -3</td><td style=\"text-align: right;\">  2</td><td style=\"text-align: right;\"> -3</td><td style=\"text-align: right;\">  5</td><td style=\"text-align: right;\">  3</td><td style=\"text-align: right;\"> -4</td><td style=\"text-align: right;\"> -4</td><td style=\"text-align: right;\"> -2</td><td style=\"text-align: right;\"> -3</td><td style=\"text-align: right;\"> -3</td><td style=\"text-align: right;\"> -1</td><td style=\"text-align: right;\">  1</td><td style=\"text-align: right;\"> -2</td><td style=\"text-align: right;\"> -1</td></tr>\n",
       "<tr><td>M </td><td style=\"text-align: right;\"> -1</td><td style=\"text-align: right;\"> -2</td><td style=\"text-align: right;\"> -4</td><td style=\"text-align: right;\"> -2</td><td style=\"text-align: right;\">  0</td><td style=\"text-align: right;\"> -3</td><td style=\"text-align: right;\"> -1</td><td style=\"text-align: right;\">  2</td><td style=\"text-align: right;\"> -2</td><td style=\"text-align: right;\">  3</td><td style=\"text-align: right;\">  7</td><td style=\"text-align: right;\"> -2</td><td style=\"text-align: right;\"> -3</td><td style=\"text-align: right;\">  0</td><td style=\"text-align: right;\"> -2</td><td style=\"text-align: right;\"> -2</td><td style=\"text-align: right;\"> -1</td><td style=\"text-align: right;\">  1</td><td style=\"text-align: right;\"> -1</td><td style=\"text-align: right;\">  0</td></tr>\n",
       "<tr><td>N </td><td style=\"text-align: right;\"> -1</td><td style=\"text-align: right;\"> -2</td><td style=\"text-align: right;\">  2</td><td style=\"text-align: right;\">  0</td><td style=\"text-align: right;\"> -4</td><td style=\"text-align: right;\">  0</td><td style=\"text-align: right;\">  1</td><td style=\"text-align: right;\"> -3</td><td style=\"text-align: right;\">  0</td><td style=\"text-align: right;\"> -4</td><td style=\"text-align: right;\"> -2</td><td style=\"text-align: right;\">  7</td><td style=\"text-align: right;\"> -2</td><td style=\"text-align: right;\">  0</td><td style=\"text-align: right;\"> -1</td><td style=\"text-align: right;\">  1</td><td style=\"text-align: right;\">  0</td><td style=\"text-align: right;\"> -3</td><td style=\"text-align: right;\"> -4</td><td style=\"text-align: right;\"> -2</td></tr>\n",
       "<tr><td>P </td><td style=\"text-align: right;\"> -1</td><td style=\"text-align: right;\"> -4</td><td style=\"text-align: right;\"> -1</td><td style=\"text-align: right;\"> -1</td><td style=\"text-align: right;\"> -4</td><td style=\"text-align: right;\"> -2</td><td style=\"text-align: right;\"> -2</td><td style=\"text-align: right;\"> -3</td><td style=\"text-align: right;\"> -1</td><td style=\"text-align: right;\"> -4</td><td style=\"text-align: right;\"> -3</td><td style=\"text-align: right;\"> -2</td><td style=\"text-align: right;\"> 10</td><td style=\"text-align: right;\"> -1</td><td style=\"text-align: right;\"> -3</td><td style=\"text-align: right;\"> -1</td><td style=\"text-align: right;\"> -1</td><td style=\"text-align: right;\"> -3</td><td style=\"text-align: right;\"> -4</td><td style=\"text-align: right;\"> -3</td></tr>\n",
       "<tr><td>Q </td><td style=\"text-align: right;\"> -1</td><td style=\"text-align: right;\"> -3</td><td style=\"text-align: right;\">  0</td><td style=\"text-align: right;\">  2</td><td style=\"text-align: right;\"> -4</td><td style=\"text-align: right;\"> -2</td><td style=\"text-align: right;\">  1</td><td style=\"text-align: right;\"> -3</td><td style=\"text-align: right;\">  2</td><td style=\"text-align: right;\"> -2</td><td style=\"text-align: right;\">  0</td><td style=\"text-align: right;\">  0</td><td style=\"text-align: right;\"> -1</td><td style=\"text-align: right;\">  7</td><td style=\"text-align: right;\">  1</td><td style=\"text-align: right;\">  0</td><td style=\"text-align: right;\"> -1</td><td style=\"text-align: right;\"> -3</td><td style=\"text-align: right;\"> -1</td><td style=\"text-align: right;\"> -1</td></tr>\n",
       "<tr><td>R </td><td style=\"text-align: right;\"> -2</td><td style=\"text-align: right;\"> -4</td><td style=\"text-align: right;\"> -2</td><td style=\"text-align: right;\">  0</td><td style=\"text-align: right;\"> -3</td><td style=\"text-align: right;\"> -3</td><td style=\"text-align: right;\">  0</td><td style=\"text-align: right;\"> -4</td><td style=\"text-align: right;\">  3</td><td style=\"text-align: right;\"> -3</td><td style=\"text-align: right;\"> -2</td><td style=\"text-align: right;\"> -1</td><td style=\"text-align: right;\"> -3</td><td style=\"text-align: right;\">  1</td><td style=\"text-align: right;\">  7</td><td style=\"text-align: right;\"> -1</td><td style=\"text-align: right;\"> -1</td><td style=\"text-align: right;\"> -3</td><td style=\"text-align: right;\"> -3</td><td style=\"text-align: right;\"> -1</td></tr>\n",
       "<tr><td>S </td><td style=\"text-align: right;\">  1</td><td style=\"text-align: right;\"> -1</td><td style=\"text-align: right;\">  0</td><td style=\"text-align: right;\"> -1</td><td style=\"text-align: right;\"> -3</td><td style=\"text-align: right;\">  0</td><td style=\"text-align: right;\"> -1</td><td style=\"text-align: right;\"> -3</td><td style=\"text-align: right;\">  0</td><td style=\"text-align: right;\"> -3</td><td style=\"text-align: right;\"> -2</td><td style=\"text-align: right;\">  1</td><td style=\"text-align: right;\"> -1</td><td style=\"text-align: right;\">  0</td><td style=\"text-align: right;\"> -1</td><td style=\"text-align: right;\">  5</td><td style=\"text-align: right;\">  2</td><td style=\"text-align: right;\"> -2</td><td style=\"text-align: right;\"> -4</td><td style=\"text-align: right;\"> -2</td></tr>\n",
       "<tr><td>T </td><td style=\"text-align: right;\">  0</td><td style=\"text-align: right;\"> -1</td><td style=\"text-align: right;\"> -1</td><td style=\"text-align: right;\"> -1</td><td style=\"text-align: right;\"> -2</td><td style=\"text-align: right;\"> -2</td><td style=\"text-align: right;\"> -2</td><td style=\"text-align: right;\"> -1</td><td style=\"text-align: right;\"> -1</td><td style=\"text-align: right;\"> -1</td><td style=\"text-align: right;\"> -1</td><td style=\"text-align: right;\">  0</td><td style=\"text-align: right;\"> -1</td><td style=\"text-align: right;\"> -1</td><td style=\"text-align: right;\"> -1</td><td style=\"text-align: right;\">  2</td><td style=\"text-align: right;\">  5</td><td style=\"text-align: right;\">  0</td><td style=\"text-align: right;\"> -3</td><td style=\"text-align: right;\"> -2</td></tr>\n",
       "<tr><td>V </td><td style=\"text-align: right;\">  0</td><td style=\"text-align: right;\"> -1</td><td style=\"text-align: right;\"> -4</td><td style=\"text-align: right;\"> -3</td><td style=\"text-align: right;\"> -1</td><td style=\"text-align: right;\"> -4</td><td style=\"text-align: right;\"> -4</td><td style=\"text-align: right;\">  4</td><td style=\"text-align: right;\"> -3</td><td style=\"text-align: right;\">  1</td><td style=\"text-align: right;\">  1</td><td style=\"text-align: right;\"> -3</td><td style=\"text-align: right;\"> -3</td><td style=\"text-align: right;\"> -3</td><td style=\"text-align: right;\"> -3</td><td style=\"text-align: right;\"> -2</td><td style=\"text-align: right;\">  0</td><td style=\"text-align: right;\">  5</td><td style=\"text-align: right;\"> -3</td><td style=\"text-align: right;\"> -1</td></tr>\n",
       "<tr><td>W </td><td style=\"text-align: right;\"> -3</td><td style=\"text-align: right;\"> -5</td><td style=\"text-align: right;\"> -5</td><td style=\"text-align: right;\"> -3</td><td style=\"text-align: right;\">  1</td><td style=\"text-align: right;\"> -3</td><td style=\"text-align: right;\"> -3</td><td style=\"text-align: right;\"> -3</td><td style=\"text-align: right;\"> -3</td><td style=\"text-align: right;\"> -2</td><td style=\"text-align: right;\"> -1</td><td style=\"text-align: right;\"> -4</td><td style=\"text-align: right;\"> -4</td><td style=\"text-align: right;\"> -1</td><td style=\"text-align: right;\"> -3</td><td style=\"text-align: right;\"> -4</td><td style=\"text-align: right;\"> -3</td><td style=\"text-align: right;\"> -3</td><td style=\"text-align: right;\"> 15</td><td style=\"text-align: right;\">  2</td></tr>\n",
       "<tr><td>Y </td><td style=\"text-align: right;\"> -2</td><td style=\"text-align: right;\"> -3</td><td style=\"text-align: right;\"> -3</td><td style=\"text-align: right;\"> -2</td><td style=\"text-align: right;\">  4</td><td style=\"text-align: right;\"> -3</td><td style=\"text-align: right;\">  2</td><td style=\"text-align: right;\"> -1</td><td style=\"text-align: right;\"> -2</td><td style=\"text-align: right;\"> -1</td><td style=\"text-align: right;\">  0</td><td style=\"text-align: right;\"> -2</td><td style=\"text-align: right;\"> -3</td><td style=\"text-align: right;\"> -1</td><td style=\"text-align: right;\"> -1</td><td style=\"text-align: right;\"> -2</td><td style=\"text-align: right;\"> -2</td><td style=\"text-align: right;\"> -1</td><td style=\"text-align: right;\">  2</td><td style=\"text-align: right;\">  8</td></tr>\n",
       "</tbody>\n",
       "</table>"
      ],
      "text/plain": [
       "'<table>\\n<thead>\\n<tr><th>  </th><th style=\"text-align: right;\">  A</th><th style=\"text-align: right;\">  C</th><th style=\"text-align: right;\">  D</th><th style=\"text-align: right;\">  E</th><th style=\"text-align: right;\">  F</th><th style=\"text-align: right;\">  G</th><th style=\"text-align: right;\">  H</th><th style=\"text-align: right;\">  I</th><th style=\"text-align: right;\">  K</th><th style=\"text-align: right;\">  L</th><th style=\"text-align: right;\">  M</th><th style=\"text-align: right;\">  N</th><th style=\"text-align: right;\">  P</th><th style=\"text-align: right;\">  Q</th><th style=\"text-align: right;\">  R</th><th style=\"text-align: right;\">  S</th><th style=\"text-align: right;\">  T</th><th style=\"text-align: right;\">  V</th><th style=\"text-align: right;\">  W</th><th style=\"text-align: right;\">  Y</th></tr>\\n</thead>\\n<tbody>\\n<tr><td>A </td><td style=\"text-align: right;\">  5</td><td style=\"text-align: right;\"> -1</td><td style=\"text-align: right;\"> -2</td><td style=\"text-align: right;\"> -1</td><td style=\"text-align: right;\"> -3</td><td style=\"text-align: right;\">  0</td><td style=\"text-align: right;\"> -2</td><td style=\"text-align: right;\"> -1</td><td style=\"text-align: right;\"> -1</td><td style=\"text-align: right;\"> -2</td><td style=\"text-align: right;\"> -1</td><td style=\"text-align: right;\"> -1</td><td style=\"text-align: right;\"> -1</td><td style=\"text-align: right;\"> -1</td><td style=\"text-align: right;\"> -2</td><td style=\"text-align: right;\">  1</td><td style=\"text-align: right;\">  0</td><td style=\"text-align: right;\">  0</td><td style=\"text-align: right;\"> -3</td><td style=\"text-align: right;\"> -2</td></tr>\\n<tr><td>C </td><td style=\"text-align: right;\"> -1</td><td style=\"text-align: right;\"> 13</td><td style=\"text-align: right;\"> -4</td><td style=\"text-align: right;\"> -3</td><td style=\"text-align: right;\"> -2</td><td style=\"text-align: right;\"> -3</td><td style=\"text-align: right;\"> -3</td><td style=\"text-align: right;\"> -2</td><td style=\"text-align: right;\"> -3</td><td style=\"text-align: right;\"> -2</td><td style=\"text-align: right;\"> -2</td><td style=\"text-align: right;\"> -2</td><td style=\"text-align: right;\"> -4</td><td style=\"text-align: right;\"> -3</td><td style=\"text-align: right;\"> -4</td><td style=\"text-align: right;\"> -1</td><td style=\"text-align: right;\"> -1</td><td style=\"text-align: right;\"> -1</td><td style=\"text-align: right;\"> -5</td><td style=\"text-align: right;\"> -3</td></tr>\\n<tr><td>D </td><td style=\"text-align: right;\"> -2</td><td style=\"text-align: right;\"> -4</td><td style=\"text-align: right;\">  8</td><td style=\"text-align: right;\">  2</td><td style=\"text-align: right;\"> -5</td><td style=\"text-align: right;\"> -1</td><td style=\"text-align: right;\"> -1</td><td style=\"text-align: right;\"> -4</td><td style=\"text-align: right;\"> -1</td><td style=\"text-align: right;\"> -4</td><td style=\"text-align: right;\"> -4</td><td style=\"text-align: right;\">  2</td><td style=\"text-align: right;\"> -1</td><td style=\"text-align: right;\">  0</td><td style=\"text-align: right;\"> -2</td><td style=\"text-align: right;\">  0</td><td style=\"text-align: right;\"> -1</td><td style=\"text-align: right;\"> -4</td><td style=\"text-align: right;\"> -5</td><td style=\"text-align: right;\"> -3</td></tr>\\n<tr><td>E </td><td style=\"text-align: right;\"> -1</td><td style=\"text-align: right;\"> -3</td><td style=\"text-align: right;\">  2</td><td style=\"text-align: right;\">  6</td><td style=\"text-align: right;\"> -3</td><td style=\"text-align: right;\"> -3</td><td style=\"text-align: right;\">  0</td><td style=\"text-align: right;\"> -4</td><td style=\"text-align: right;\">  1</td><td style=\"text-align: right;\"> -3</td><td style=\"text-align: right;\"> -2</td><td style=\"text-align: right;\">  0</td><td style=\"text-align: right;\"> -1</td><td style=\"text-align: right;\">  2</td><td style=\"text-align: right;\">  0</td><td style=\"text-align: right;\"> -1</td><td style=\"text-align: right;\"> -1</td><td style=\"text-align: right;\"> -3</td><td style=\"text-align: right;\"> -3</td><td style=\"text-align: right;\"> -2</td></tr>\\n<tr><td>F </td><td style=\"text-align: right;\"> -3</td><td style=\"text-align: right;\"> -2</td><td style=\"text-align: right;\"> -5</td><td style=\"text-align: right;\"> -3</td><td style=\"text-align: right;\">  8</td><td style=\"text-align: right;\"> -4</td><td style=\"text-align: right;\"> -1</td><td style=\"text-align: right;\">  0</td><td style=\"text-align: right;\"> -4</td><td style=\"text-align: right;\">  1</td><td style=\"text-align: right;\">  0</td><td style=\"text-align: right;\"> -4</td><td style=\"text-align: right;\"> -4</td><td style=\"text-align: right;\"> -4</td><td style=\"text-align: right;\"> -3</td><td style=\"text-align: right;\"> -3</td><td style=\"text-align: right;\"> -2</td><td style=\"text-align: right;\"> -1</td><td style=\"text-align: right;\">  1</td><td style=\"text-align: right;\">  4</td></tr>\\n<tr><td>G </td><td style=\"text-align: right;\">  0</td><td style=\"text-align: right;\"> -3</td><td style=\"text-align: right;\"> -1</td><td style=\"text-align: right;\"> -3</td><td style=\"text-align: right;\"> -4</td><td style=\"text-align: right;\">  8</td><td style=\"text-align: right;\"> -2</td><td style=\"text-align: right;\"> -4</td><td style=\"text-align: right;\"> -2</td><td style=\"text-align: right;\"> -4</td><td style=\"text-align: right;\"> -3</td><td style=\"text-align: right;\">  0</td><td style=\"text-align: right;\"> -2</td><td style=\"text-align: right;\"> -2</td><td style=\"text-align: right;\"> -3</td><td style=\"text-align: right;\">  0</td><td style=\"text-align: right;\"> -2</td><td style=\"text-align: right;\"> -4</td><td style=\"text-align: right;\"> -3</td><td style=\"text-align: right;\"> -3</td></tr>\\n<tr><td>H </td><td style=\"text-align: right;\"> -2</td><td style=\"text-align: right;\"> -3</td><td style=\"text-align: right;\"> -1</td><td style=\"text-align: right;\">  0</td><td style=\"text-align: right;\"> -1</td><td style=\"text-align: right;\"> -2</td><td style=\"text-align: right;\"> 10</td><td style=\"text-align: right;\"> -4</td><td style=\"text-align: right;\">  0</td><td style=\"text-align: right;\"> -3</td><td style=\"text-align: right;\"> -1</td><td style=\"text-align: right;\">  1</td><td style=\"text-align: right;\"> -2</td><td style=\"text-align: right;\">  1</td><td style=\"text-align: right;\">  0</td><td style=\"text-align: right;\"> -1</td><td style=\"text-align: right;\"> -2</td><td style=\"text-align: right;\"> -4</td><td style=\"text-align: right;\"> -3</td><td style=\"text-align: right;\">  2</td></tr>\\n<tr><td>I </td><td style=\"text-align: right;\"> -1</td><td style=\"text-align: right;\"> -2</td><td style=\"text-align: right;\"> -4</td><td style=\"text-align: right;\"> -4</td><td style=\"text-align: right;\">  0</td><td style=\"text-align: right;\"> -4</td><td style=\"text-align: right;\"> -4</td><td style=\"text-align: right;\">  5</td><td style=\"text-align: right;\"> -3</td><td style=\"text-align: right;\">  2</td><td style=\"text-align: right;\">  2</td><td style=\"text-align: right;\"> -3</td><td style=\"text-align: right;\"> -3</td><td style=\"text-align: right;\"> -3</td><td style=\"text-align: right;\"> -4</td><td style=\"text-align: right;\"> -3</td><td style=\"text-align: right;\"> -1</td><td style=\"text-align: right;\">  4</td><td style=\"text-align: right;\"> -3</td><td style=\"text-align: right;\"> -1</td></tr>\\n<tr><td>K </td><td style=\"text-align: right;\"> -1</td><td style=\"text-align: right;\"> -3</td><td style=\"text-align: right;\"> -1</td><td style=\"text-align: right;\">  1</td><td style=\"text-align: right;\"> -4</td><td style=\"text-align: right;\"> -2</td><td style=\"text-align: right;\">  0</td><td style=\"text-align: right;\"> -3</td><td style=\"text-align: right;\">  6</td><td style=\"text-align: right;\"> -3</td><td style=\"text-align: right;\"> -2</td><td style=\"text-align: right;\">  0</td><td style=\"text-align: right;\"> -1</td><td style=\"text-align: right;\">  2</td><td style=\"text-align: right;\">  3</td><td style=\"text-align: right;\">  0</td><td style=\"text-align: right;\"> -1</td><td style=\"text-align: right;\"> -3</td><td style=\"text-align: right;\"> -3</td><td style=\"text-align: right;\"> -2</td></tr>\\n<tr><td>L </td><td style=\"text-align: right;\"> -2</td><td style=\"text-align: right;\"> -2</td><td style=\"text-align: right;\"> -4</td><td style=\"text-align: right;\"> -3</td><td style=\"text-align: right;\">  1</td><td style=\"text-align: right;\"> -4</td><td style=\"text-align: right;\"> -3</td><td style=\"text-align: right;\">  2</td><td style=\"text-align: right;\"> -3</td><td style=\"text-align: right;\">  5</td><td style=\"text-align: right;\">  3</td><td style=\"text-align: right;\"> -4</td><td style=\"text-align: right;\"> -4</td><td style=\"text-align: right;\"> -2</td><td style=\"text-align: right;\"> -3</td><td style=\"text-align: right;\"> -3</td><td style=\"text-align: right;\"> -1</td><td style=\"text-align: right;\">  1</td><td style=\"text-align: right;\"> -2</td><td style=\"text-align: right;\"> -1</td></tr>\\n<tr><td>M </td><td style=\"text-align: right;\"> -1</td><td style=\"text-align: right;\"> -2</td><td style=\"text-align: right;\"> -4</td><td style=\"text-align: right;\"> -2</td><td style=\"text-align: right;\">  0</td><td style=\"text-align: right;\"> -3</td><td style=\"text-align: right;\"> -1</td><td style=\"text-align: right;\">  2</td><td style=\"text-align: right;\"> -2</td><td style=\"text-align: right;\">  3</td><td style=\"text-align: right;\">  7</td><td style=\"text-align: right;\"> -2</td><td style=\"text-align: right;\"> -3</td><td style=\"text-align: right;\">  0</td><td style=\"text-align: right;\"> -2</td><td style=\"text-align: right;\"> -2</td><td style=\"text-align: right;\"> -1</td><td style=\"text-align: right;\">  1</td><td style=\"text-align: right;\"> -1</td><td style=\"text-align: right;\">  0</td></tr>\\n<tr><td>N </td><td style=\"text-align: right;\"> -1</td><td style=\"text-align: right;\"> -2</td><td style=\"text-align: right;\">  2</td><td style=\"text-align: right;\">  0</td><td style=\"text-align: right;\"> -4</td><td style=\"text-align: right;\">  0</td><td style=\"text-align: right;\">  1</td><td style=\"text-align: right;\"> -3</td><td style=\"text-align: right;\">  0</td><td style=\"text-align: right;\"> -4</td><td style=\"text-align: right;\"> -2</td><td style=\"text-align: right;\">  7</td><td style=\"text-align: right;\"> -2</td><td style=\"text-align: right;\">  0</td><td style=\"text-align: right;\"> -1</td><td style=\"text-align: right;\">  1</td><td style=\"text-align: right;\">  0</td><td style=\"text-align: right;\"> -3</td><td style=\"text-align: right;\"> -4</td><td style=\"text-align: right;\"> -2</td></tr>\\n<tr><td>P </td><td style=\"text-align: right;\"> -1</td><td style=\"text-align: right;\"> -4</td><td style=\"text-align: right;\"> -1</td><td style=\"text-align: right;\"> -1</td><td style=\"text-align: right;\"> -4</td><td style=\"text-align: right;\"> -2</td><td style=\"text-align: right;\"> -2</td><td style=\"text-align: right;\"> -3</td><td style=\"text-align: right;\"> -1</td><td style=\"text-align: right;\"> -4</td><td style=\"text-align: right;\"> -3</td><td style=\"text-align: right;\"> -2</td><td style=\"text-align: right;\"> 10</td><td style=\"text-align: right;\"> -1</td><td style=\"text-align: right;\"> -3</td><td style=\"text-align: right;\"> -1</td><td style=\"text-align: right;\"> -1</td><td style=\"text-align: right;\"> -3</td><td style=\"text-align: right;\"> -4</td><td style=\"text-align: right;\"> -3</td></tr>\\n<tr><td>Q </td><td style=\"text-align: right;\"> -1</td><td style=\"text-align: right;\"> -3</td><td style=\"text-align: right;\">  0</td><td style=\"text-align: right;\">  2</td><td style=\"text-align: right;\"> -4</td><td style=\"text-align: right;\"> -2</td><td style=\"text-align: right;\">  1</td><td style=\"text-align: right;\"> -3</td><td style=\"text-align: right;\">  2</td><td style=\"text-align: right;\"> -2</td><td style=\"text-align: right;\">  0</td><td style=\"text-align: right;\">  0</td><td style=\"text-align: right;\"> -1</td><td style=\"text-align: right;\">  7</td><td style=\"text-align: right;\">  1</td><td style=\"text-align: right;\">  0</td><td style=\"text-align: right;\"> -1</td><td style=\"text-align: right;\"> -3</td><td style=\"text-align: right;\"> -1</td><td style=\"text-align: right;\"> -1</td></tr>\\n<tr><td>R </td><td style=\"text-align: right;\"> -2</td><td style=\"text-align: right;\"> -4</td><td style=\"text-align: right;\"> -2</td><td style=\"text-align: right;\">  0</td><td style=\"text-align: right;\"> -3</td><td style=\"text-align: right;\"> -3</td><td style=\"text-align: right;\">  0</td><td style=\"text-align: right;\"> -4</td><td style=\"text-align: right;\">  3</td><td style=\"text-align: right;\"> -3</td><td style=\"text-align: right;\"> -2</td><td style=\"text-align: right;\"> -1</td><td style=\"text-align: right;\"> -3</td><td style=\"text-align: right;\">  1</td><td style=\"text-align: right;\">  7</td><td style=\"text-align: right;\"> -1</td><td style=\"text-align: right;\"> -1</td><td style=\"text-align: right;\"> -3</td><td style=\"text-align: right;\"> -3</td><td style=\"text-align: right;\"> -1</td></tr>\\n<tr><td>S </td><td style=\"text-align: right;\">  1</td><td style=\"text-align: right;\"> -1</td><td style=\"text-align: right;\">  0</td><td style=\"text-align: right;\"> -1</td><td style=\"text-align: right;\"> -3</td><td style=\"text-align: right;\">  0</td><td style=\"text-align: right;\"> -1</td><td style=\"text-align: right;\"> -3</td><td style=\"text-align: right;\">  0</td><td style=\"text-align: right;\"> -3</td><td style=\"text-align: right;\"> -2</td><td style=\"text-align: right;\">  1</td><td style=\"text-align: right;\"> -1</td><td style=\"text-align: right;\">  0</td><td style=\"text-align: right;\"> -1</td><td style=\"text-align: right;\">  5</td><td style=\"text-align: right;\">  2</td><td style=\"text-align: right;\"> -2</td><td style=\"text-align: right;\"> -4</td><td style=\"text-align: right;\"> -2</td></tr>\\n<tr><td>T </td><td style=\"text-align: right;\">  0</td><td style=\"text-align: right;\"> -1</td><td style=\"text-align: right;\"> -1</td><td style=\"text-align: right;\"> -1</td><td style=\"text-align: right;\"> -2</td><td style=\"text-align: right;\"> -2</td><td style=\"text-align: right;\"> -2</td><td style=\"text-align: right;\"> -1</td><td style=\"text-align: right;\"> -1</td><td style=\"text-align: right;\"> -1</td><td style=\"text-align: right;\"> -1</td><td style=\"text-align: right;\">  0</td><td style=\"text-align: right;\"> -1</td><td style=\"text-align: right;\"> -1</td><td style=\"text-align: right;\"> -1</td><td style=\"text-align: right;\">  2</td><td style=\"text-align: right;\">  5</td><td style=\"text-align: right;\">  0</td><td style=\"text-align: right;\"> -3</td><td style=\"text-align: right;\"> -2</td></tr>\\n<tr><td>V </td><td style=\"text-align: right;\">  0</td><td style=\"text-align: right;\"> -1</td><td style=\"text-align: right;\"> -4</td><td style=\"text-align: right;\"> -3</td><td style=\"text-align: right;\"> -1</td><td style=\"text-align: right;\"> -4</td><td style=\"text-align: right;\"> -4</td><td style=\"text-align: right;\">  4</td><td style=\"text-align: right;\"> -3</td><td style=\"text-align: right;\">  1</td><td style=\"text-align: right;\">  1</td><td style=\"text-align: right;\"> -3</td><td style=\"text-align: right;\"> -3</td><td style=\"text-align: right;\"> -3</td><td style=\"text-align: right;\"> -3</td><td style=\"text-align: right;\"> -2</td><td style=\"text-align: right;\">  0</td><td style=\"text-align: right;\">  5</td><td style=\"text-align: right;\"> -3</td><td style=\"text-align: right;\"> -1</td></tr>\\n<tr><td>W </td><td style=\"text-align: right;\"> -3</td><td style=\"text-align: right;\"> -5</td><td style=\"text-align: right;\"> -5</td><td style=\"text-align: right;\"> -3</td><td style=\"text-align: right;\">  1</td><td style=\"text-align: right;\"> -3</td><td style=\"text-align: right;\"> -3</td><td style=\"text-align: right;\"> -3</td><td style=\"text-align: right;\"> -3</td><td style=\"text-align: right;\"> -2</td><td style=\"text-align: right;\"> -1</td><td style=\"text-align: right;\"> -4</td><td style=\"text-align: right;\"> -4</td><td style=\"text-align: right;\"> -1</td><td style=\"text-align: right;\"> -3</td><td style=\"text-align: right;\"> -4</td><td style=\"text-align: right;\"> -3</td><td style=\"text-align: right;\"> -3</td><td style=\"text-align: right;\"> 15</td><td style=\"text-align: right;\">  2</td></tr>\\n<tr><td>Y </td><td style=\"text-align: right;\"> -2</td><td style=\"text-align: right;\"> -3</td><td style=\"text-align: right;\"> -3</td><td style=\"text-align: right;\"> -2</td><td style=\"text-align: right;\">  4</td><td style=\"text-align: right;\"> -3</td><td style=\"text-align: right;\">  2</td><td style=\"text-align: right;\"> -1</td><td style=\"text-align: right;\"> -2</td><td style=\"text-align: right;\"> -1</td><td style=\"text-align: right;\">  0</td><td style=\"text-align: right;\"> -2</td><td style=\"text-align: right;\"> -3</td><td style=\"text-align: right;\"> -1</td><td style=\"text-align: right;\"> -1</td><td style=\"text-align: right;\"> -2</td><td style=\"text-align: right;\"> -2</td><td style=\"text-align: right;\"> -1</td><td style=\"text-align: right;\">  2</td><td style=\"text-align: right;\">  8</td></tr>\\n</tbody>\\n</table>'"
      ]
     },
     "execution_count": 15,
     "metadata": {},
     "output_type": "execute_result"
    }
   ],
   "source": [
    "from intro_bioinfo_unir.iab import show_substitution_matrix\n",
    "\n",
    "show_substitution_matrix(aa_labels, data)"
   ]
  },
  {
   "cell_type": "markdown",
   "id": "181b83d6-9acb-4649-a28a-3c605d6606b7",
   "metadata": {},
   "source": [
    "Olhando para a matriz de substituição BLOSUM50, responda:\n",
    "- Quais valores, os positivos ou os negativos, indicam substituições mais favoráveis?"
   ]
  },
  {
   "cell_type": "code",
   "execution_count": 16,
   "id": "2b20433f-006a-431a-898a-9aa6211ff58e",
   "metadata": {},
   "outputs": [
    {
     "name": "stdout",
     "output_type": "stream",
     "text": [
      "0\n",
      "0\n",
      "-3\n",
      "5\n",
      "15\n"
     ]
    }
   ],
   "source": [
    "print(blosum50['A']['G'])\n",
    "print(blosum50['G']['A'])\n",
    "\n",
    "print(blosum50['W']['K'])\n",
    "\n",
    "print(blosum50['A']['A'])\n",
    "print(blosum50['W']['W'])\n"
   ]
  },
  {
   "cell_type": "markdown",
   "id": "2752c69c-3885-4a05-b1f7-ff2bd1d9d2bd",
   "metadata": {},
   "source": [
    "- Observando os valores a acima, o que mais você pode dizer sobre a matriz BLOSUM?"
   ]
  },
  {
   "cell_type": "markdown",
   "id": "fb644248-b899-4de6-835d-93b380150c2f",
   "metadata": {},
   "source": [
    "### Implementando o algoritmo Needleman-Wunsch\n",
    "\n",
    "Publicado em 1970, o algoritmo realizao alinhamento de um par de sequências biológicas de forma global - indo do primeiro ao último aminoácido ou base nucleotídica."
   ]
  },
  {
   "cell_type": "code",
   "execution_count": 17,
   "id": "dfcb6d56-d10e-42a8-97ca-032d63364a5a",
   "metadata": {},
   "outputs": [
    {
     "name": "stdout",
     "output_type": "stream",
     "text": [
      "HEAGAWGHEE\n",
      "PAWHEAE\n"
     ]
    }
   ],
   "source": [
    "from skbio import Protein\n",
    "\n",
    "seqA = Protein(\"HEAGAWGHEE\")\n",
    "seqB = Protein(\"PAWHEAE\")\n",
    "\n",
    "print(seqA)\n",
    "print(seqB)"
   ]
  },
  {
   "cell_type": "code",
   "execution_count": 18,
   "id": "90b30aa9-21e1-4186-9874-026e905f2000",
   "metadata": {},
   "outputs": [
    {
     "data": {
      "text/html": [
       "<table>\n",
       "<thead>\n",
       "<tr><th>  </th><th style=\"text-align: right;\">   </th><th style=\"text-align: right;\">  H</th><th style=\"text-align: right;\">  E</th><th style=\"text-align: right;\">  A</th><th style=\"text-align: right;\">  G</th><th style=\"text-align: right;\">  A</th><th style=\"text-align: right;\">  W</th><th style=\"text-align: right;\">  G</th><th style=\"text-align: right;\">  H</th><th style=\"text-align: right;\">  E</th><th style=\"text-align: right;\">  E</th></tr>\n",
       "</thead>\n",
       "<tbody>\n",
       "<tr><td>  </td><td style=\"text-align: right;\">  0</td><td style=\"text-align: right;\">  0</td><td style=\"text-align: right;\">  0</td><td style=\"text-align: right;\">  0</td><td style=\"text-align: right;\">  0</td><td style=\"text-align: right;\">  0</td><td style=\"text-align: right;\">  0</td><td style=\"text-align: right;\">  0</td><td style=\"text-align: right;\">  0</td><td style=\"text-align: right;\">  0</td><td style=\"text-align: right;\">  0</td></tr>\n",
       "<tr><td>P </td><td style=\"text-align: right;\">  0</td><td style=\"text-align: right;\">  0</td><td style=\"text-align: right;\">  0</td><td style=\"text-align: right;\">  0</td><td style=\"text-align: right;\">  0</td><td style=\"text-align: right;\">  0</td><td style=\"text-align: right;\">  0</td><td style=\"text-align: right;\">  0</td><td style=\"text-align: right;\">  0</td><td style=\"text-align: right;\">  0</td><td style=\"text-align: right;\">  0</td></tr>\n",
       "<tr><td>A </td><td style=\"text-align: right;\">  0</td><td style=\"text-align: right;\">  0</td><td style=\"text-align: right;\">  0</td><td style=\"text-align: right;\">  0</td><td style=\"text-align: right;\">  0</td><td style=\"text-align: right;\">  0</td><td style=\"text-align: right;\">  0</td><td style=\"text-align: right;\">  0</td><td style=\"text-align: right;\">  0</td><td style=\"text-align: right;\">  0</td><td style=\"text-align: right;\">  0</td></tr>\n",
       "<tr><td>W </td><td style=\"text-align: right;\">  0</td><td style=\"text-align: right;\">  0</td><td style=\"text-align: right;\">  0</td><td style=\"text-align: right;\">  0</td><td style=\"text-align: right;\">  0</td><td style=\"text-align: right;\">  0</td><td style=\"text-align: right;\">  0</td><td style=\"text-align: right;\">  0</td><td style=\"text-align: right;\">  0</td><td style=\"text-align: right;\">  0</td><td style=\"text-align: right;\">  0</td></tr>\n",
       "<tr><td>H </td><td style=\"text-align: right;\">  0</td><td style=\"text-align: right;\">  0</td><td style=\"text-align: right;\">  0</td><td style=\"text-align: right;\">  0</td><td style=\"text-align: right;\">  0</td><td style=\"text-align: right;\">  0</td><td style=\"text-align: right;\">  0</td><td style=\"text-align: right;\">  0</td><td style=\"text-align: right;\">  0</td><td style=\"text-align: right;\">  0</td><td style=\"text-align: right;\">  0</td></tr>\n",
       "<tr><td>E </td><td style=\"text-align: right;\">  0</td><td style=\"text-align: right;\">  0</td><td style=\"text-align: right;\">  0</td><td style=\"text-align: right;\">  0</td><td style=\"text-align: right;\">  0</td><td style=\"text-align: right;\">  0</td><td style=\"text-align: right;\">  0</td><td style=\"text-align: right;\">  0</td><td style=\"text-align: right;\">  0</td><td style=\"text-align: right;\">  0</td><td style=\"text-align: right;\">  0</td></tr>\n",
       "<tr><td>A </td><td style=\"text-align: right;\">  0</td><td style=\"text-align: right;\">  0</td><td style=\"text-align: right;\">  0</td><td style=\"text-align: right;\">  0</td><td style=\"text-align: right;\">  0</td><td style=\"text-align: right;\">  0</td><td style=\"text-align: right;\">  0</td><td style=\"text-align: right;\">  0</td><td style=\"text-align: right;\">  0</td><td style=\"text-align: right;\">  0</td><td style=\"text-align: right;\">  0</td></tr>\n",
       "<tr><td>E </td><td style=\"text-align: right;\">  0</td><td style=\"text-align: right;\">  0</td><td style=\"text-align: right;\">  0</td><td style=\"text-align: right;\">  0</td><td style=\"text-align: right;\">  0</td><td style=\"text-align: right;\">  0</td><td style=\"text-align: right;\">  0</td><td style=\"text-align: right;\">  0</td><td style=\"text-align: right;\">  0</td><td style=\"text-align: right;\">  0</td><td style=\"text-align: right;\">  0</td></tr>\n",
       "</tbody>\n",
       "</table>"
      ],
      "text/plain": [
       "'<table>\\n<thead>\\n<tr><th>  </th><th style=\"text-align: right;\">   </th><th style=\"text-align: right;\">  H</th><th style=\"text-align: right;\">  E</th><th style=\"text-align: right;\">  A</th><th style=\"text-align: right;\">  G</th><th style=\"text-align: right;\">  A</th><th style=\"text-align: right;\">  W</th><th style=\"text-align: right;\">  G</th><th style=\"text-align: right;\">  H</th><th style=\"text-align: right;\">  E</th><th style=\"text-align: right;\">  E</th></tr>\\n</thead>\\n<tbody>\\n<tr><td>  </td><td style=\"text-align: right;\">  0</td><td style=\"text-align: right;\">  0</td><td style=\"text-align: right;\">  0</td><td style=\"text-align: right;\">  0</td><td style=\"text-align: right;\">  0</td><td style=\"text-align: right;\">  0</td><td style=\"text-align: right;\">  0</td><td style=\"text-align: right;\">  0</td><td style=\"text-align: right;\">  0</td><td style=\"text-align: right;\">  0</td><td style=\"text-align: right;\">  0</td></tr>\\n<tr><td>P </td><td style=\"text-align: right;\">  0</td><td style=\"text-align: right;\">  0</td><td style=\"text-align: right;\">  0</td><td style=\"text-align: right;\">  0</td><td style=\"text-align: right;\">  0</td><td style=\"text-align: right;\">  0</td><td style=\"text-align: right;\">  0</td><td style=\"text-align: right;\">  0</td><td style=\"text-align: right;\">  0</td><td style=\"text-align: right;\">  0</td><td style=\"text-align: right;\">  0</td></tr>\\n<tr><td>A </td><td style=\"text-align: right;\">  0</td><td style=\"text-align: right;\">  0</td><td style=\"text-align: right;\">  0</td><td style=\"text-align: right;\">  0</td><td style=\"text-align: right;\">  0</td><td style=\"text-align: right;\">  0</td><td style=\"text-align: right;\">  0</td><td style=\"text-align: right;\">  0</td><td style=\"text-align: right;\">  0</td><td style=\"text-align: right;\">  0</td><td style=\"text-align: right;\">  0</td></tr>\\n<tr><td>W </td><td style=\"text-align: right;\">  0</td><td style=\"text-align: right;\">  0</td><td style=\"text-align: right;\">  0</td><td style=\"text-align: right;\">  0</td><td style=\"text-align: right;\">  0</td><td style=\"text-align: right;\">  0</td><td style=\"text-align: right;\">  0</td><td style=\"text-align: right;\">  0</td><td style=\"text-align: right;\">  0</td><td style=\"text-align: right;\">  0</td><td style=\"text-align: right;\">  0</td></tr>\\n<tr><td>H </td><td style=\"text-align: right;\">  0</td><td style=\"text-align: right;\">  0</td><td style=\"text-align: right;\">  0</td><td style=\"text-align: right;\">  0</td><td style=\"text-align: right;\">  0</td><td style=\"text-align: right;\">  0</td><td style=\"text-align: right;\">  0</td><td style=\"text-align: right;\">  0</td><td style=\"text-align: right;\">  0</td><td style=\"text-align: right;\">  0</td><td style=\"text-align: right;\">  0</td></tr>\\n<tr><td>E </td><td style=\"text-align: right;\">  0</td><td style=\"text-align: right;\">  0</td><td style=\"text-align: right;\">  0</td><td style=\"text-align: right;\">  0</td><td style=\"text-align: right;\">  0</td><td style=\"text-align: right;\">  0</td><td style=\"text-align: right;\">  0</td><td style=\"text-align: right;\">  0</td><td style=\"text-align: right;\">  0</td><td style=\"text-align: right;\">  0</td><td style=\"text-align: right;\">  0</td></tr>\\n<tr><td>A </td><td style=\"text-align: right;\">  0</td><td style=\"text-align: right;\">  0</td><td style=\"text-align: right;\">  0</td><td style=\"text-align: right;\">  0</td><td style=\"text-align: right;\">  0</td><td style=\"text-align: right;\">  0</td><td style=\"text-align: right;\">  0</td><td style=\"text-align: right;\">  0</td><td style=\"text-align: right;\">  0</td><td style=\"text-align: right;\">  0</td><td style=\"text-align: right;\">  0</td></tr>\\n<tr><td>E </td><td style=\"text-align: right;\">  0</td><td style=\"text-align: right;\">  0</td><td style=\"text-align: right;\">  0</td><td style=\"text-align: right;\">  0</td><td style=\"text-align: right;\">  0</td><td style=\"text-align: right;\">  0</td><td style=\"text-align: right;\">  0</td><td style=\"text-align: right;\">  0</td><td style=\"text-align: right;\">  0</td><td style=\"text-align: right;\">  0</td><td style=\"text-align: right;\">  0</td></tr>\\n</tbody>\\n</table>'"
      ]
     },
     "execution_count": 18,
     "metadata": {},
     "output_type": "execute_result"
    }
   ],
   "source": [
    "# Crie matrizes vazias\n",
    "num_linhas = len(seqB) + 1\n",
    "num_colunas = len(seqA) + 1\n",
    "\n",
    "# Uma para o cálculo da maior diagonal (F)\n",
    "F = np.zeros(shape=(num_linhas, num_colunas), dtype=int)\n",
    "show_F(seqA, seqB, F)"
   ]
  },
  {
   "cell_type": "markdown",
   "id": "3b0accaf-20c3-4fc7-a699-299f8fbd8972",
   "metadata": {},
   "source": [
    "Percebe algo de diferente? Aqui a matriz F tem uma linha e uma coluna a mais, no início das sequências. No algoritmo é importante possuir uma linha e coluna independentes do resíduo inicial."
   ]
  },
  {
   "cell_type": "code",
   "execution_count": 19,
   "id": "4716975f-82a6-4cea-a2d2-2fb6dad20a8c",
   "metadata": {},
   "outputs": [
    {
     "data": {
      "text/html": [
       "<table>\n",
       "<thead>\n",
       "<tr><th>  </th><th>   </th><th>H  </th><th>E  </th><th>A  </th><th>G  </th><th>A  </th><th>W  </th><th>G  </th><th>H  </th><th>E  </th><th>E  </th></tr>\n",
       "</thead>\n",
       "<tbody>\n",
       "<tr><td>  </td><td>   </td><td>   </td><td>   </td><td>   </td><td>   </td><td>   </td><td>   </td><td>   </td><td>   </td><td>   </td><td>   </td></tr>\n",
       "<tr><td>P </td><td>   </td><td>   </td><td>   </td><td>   </td><td>   </td><td>   </td><td>   </td><td>   </td><td>   </td><td>   </td><td>   </td></tr>\n",
       "<tr><td>A </td><td>   </td><td>   </td><td>   </td><td>   </td><td>   </td><td>   </td><td>   </td><td>   </td><td>   </td><td>   </td><td>   </td></tr>\n",
       "<tr><td>W </td><td>   </td><td>   </td><td>   </td><td>   </td><td>   </td><td>   </td><td>   </td><td>   </td><td>   </td><td>   </td><td>   </td></tr>\n",
       "<tr><td>H </td><td>   </td><td>   </td><td>   </td><td>   </td><td>   </td><td>   </td><td>   </td><td>   </td><td>   </td><td>   </td><td>   </td></tr>\n",
       "<tr><td>E </td><td>   </td><td>   </td><td>   </td><td>   </td><td>   </td><td>   </td><td>   </td><td>   </td><td>   </td><td>   </td><td>   </td></tr>\n",
       "<tr><td>A </td><td>   </td><td>   </td><td>   </td><td>   </td><td>   </td><td>   </td><td>   </td><td>   </td><td>   </td><td>   </td><td>   </td></tr>\n",
       "<tr><td>E </td><td>   </td><td>   </td><td>   </td><td>   </td><td>   </td><td>   </td><td>   </td><td>   </td><td>   </td><td>   </td><td>   </td></tr>\n",
       "</tbody>\n",
       "</table>"
      ],
      "text/plain": [
       "'<table>\\n<thead>\\n<tr><th>  </th><th>   </th><th>H  </th><th>E  </th><th>A  </th><th>G  </th><th>A  </th><th>W  </th><th>G  </th><th>H  </th><th>E  </th><th>E  </th></tr>\\n</thead>\\n<tbody>\\n<tr><td>  </td><td>   </td><td>   </td><td>   </td><td>   </td><td>   </td><td>   </td><td>   </td><td>   </td><td>   </td><td>   </td><td>   </td></tr>\\n<tr><td>P </td><td>   </td><td>   </td><td>   </td><td>   </td><td>   </td><td>   </td><td>   </td><td>   </td><td>   </td><td>   </td><td>   </td></tr>\\n<tr><td>A </td><td>   </td><td>   </td><td>   </td><td>   </td><td>   </td><td>   </td><td>   </td><td>   </td><td>   </td><td>   </td><td>   </td></tr>\\n<tr><td>W </td><td>   </td><td>   </td><td>   </td><td>   </td><td>   </td><td>   </td><td>   </td><td>   </td><td>   </td><td>   </td><td>   </td></tr>\\n<tr><td>H </td><td>   </td><td>   </td><td>   </td><td>   </td><td>   </td><td>   </td><td>   </td><td>   </td><td>   </td><td>   </td><td>   </td></tr>\\n<tr><td>E </td><td>   </td><td>   </td><td>   </td><td>   </td><td>   </td><td>   </td><td>   </td><td>   </td><td>   </td><td>   </td><td>   </td></tr>\\n<tr><td>A </td><td>   </td><td>   </td><td>   </td><td>   </td><td>   </td><td>   </td><td>   </td><td>   </td><td>   </td><td>   </td><td>   </td></tr>\\n<tr><td>E </td><td>   </td><td>   </td><td>   </td><td>   </td><td>   </td><td>   </td><td>   </td><td>   </td><td>   </td><td>   </td><td>   </td></tr>\\n</tbody>\\n</table>'"
      ]
     },
     "execution_count": 19,
     "metadata": {},
     "output_type": "execute_result"
    }
   ],
   "source": [
    "from intro_bioinfo_unir.iab import show_T\n",
    "\n",
    "# Outra para a transcrição das sequências alinhadas (T)\n",
    "T = np.full(shape=(num_linhas, num_colunas), fill_value=\" \", dtype=str)\n",
    "show_T(seqA, seqB, T)"
   ]
  },
  {
   "cell_type": "markdown",
   "id": "f448e276-1409-41bd-bf06-cfd808b9bc76",
   "metadata": {},
   "source": [
    "Os valores na primeira coluna e linha serão inicializados da seguinte forma:\n",
    "\n",
    "$F(0,0) = 0$ \n",
    "\n",
    "$F(i,0) = F(i-1,0) - d$\n",
    "\n",
    "$F(0,j) = F(0,j-1) - d$\n",
    "\n",
    "Sendo $d$ um valor para penalização por inserção de gaps, esse valor será subtraído do escore sempre que um gap for inserido no alinhamento. Aqui vamos usar `d=8` e assim temos:"
   ]
  },
  {
   "cell_type": "code",
   "execution_count": 20,
   "id": "3b9c6469-a4c4-4db5-b0e6-3334c106446c",
   "metadata": {},
   "outputs": [
    {
     "data": {
      "text/html": [
       "<table>\n",
       "<thead>\n",
       "<tr><th>  </th><th style=\"text-align: right;\">   </th><th style=\"text-align: right;\">  H</th><th style=\"text-align: right;\">  E</th><th style=\"text-align: right;\">  A</th><th style=\"text-align: right;\">  G</th><th style=\"text-align: right;\">  A</th><th style=\"text-align: right;\">  W</th><th style=\"text-align: right;\">  G</th><th style=\"text-align: right;\">  H</th><th style=\"text-align: right;\">  E</th><th style=\"text-align: right;\">  E</th></tr>\n",
       "</thead>\n",
       "<tbody>\n",
       "<tr><td>  </td><td style=\"text-align: right;\">  0</td><td style=\"text-align: right;\"> -8</td><td style=\"text-align: right;\">-16</td><td style=\"text-align: right;\">-24</td><td style=\"text-align: right;\">-32</td><td style=\"text-align: right;\">-40</td><td style=\"text-align: right;\">-48</td><td style=\"text-align: right;\">-56</td><td style=\"text-align: right;\">-64</td><td style=\"text-align: right;\">-72</td><td style=\"text-align: right;\">-80</td></tr>\n",
       "<tr><td>P </td><td style=\"text-align: right;\"> -8</td><td style=\"text-align: right;\">  0</td><td style=\"text-align: right;\">  0</td><td style=\"text-align: right;\">  0</td><td style=\"text-align: right;\">  0</td><td style=\"text-align: right;\">  0</td><td style=\"text-align: right;\">  0</td><td style=\"text-align: right;\">  0</td><td style=\"text-align: right;\">  0</td><td style=\"text-align: right;\">  0</td><td style=\"text-align: right;\">  0</td></tr>\n",
       "<tr><td>A </td><td style=\"text-align: right;\">-16</td><td style=\"text-align: right;\">  0</td><td style=\"text-align: right;\">  0</td><td style=\"text-align: right;\">  0</td><td style=\"text-align: right;\">  0</td><td style=\"text-align: right;\">  0</td><td style=\"text-align: right;\">  0</td><td style=\"text-align: right;\">  0</td><td style=\"text-align: right;\">  0</td><td style=\"text-align: right;\">  0</td><td style=\"text-align: right;\">  0</td></tr>\n",
       "<tr><td>W </td><td style=\"text-align: right;\">-24</td><td style=\"text-align: right;\">  0</td><td style=\"text-align: right;\">  0</td><td style=\"text-align: right;\">  0</td><td style=\"text-align: right;\">  0</td><td style=\"text-align: right;\">  0</td><td style=\"text-align: right;\">  0</td><td style=\"text-align: right;\">  0</td><td style=\"text-align: right;\">  0</td><td style=\"text-align: right;\">  0</td><td style=\"text-align: right;\">  0</td></tr>\n",
       "<tr><td>H </td><td style=\"text-align: right;\">-32</td><td style=\"text-align: right;\">  0</td><td style=\"text-align: right;\">  0</td><td style=\"text-align: right;\">  0</td><td style=\"text-align: right;\">  0</td><td style=\"text-align: right;\">  0</td><td style=\"text-align: right;\">  0</td><td style=\"text-align: right;\">  0</td><td style=\"text-align: right;\">  0</td><td style=\"text-align: right;\">  0</td><td style=\"text-align: right;\">  0</td></tr>\n",
       "<tr><td>E </td><td style=\"text-align: right;\">-40</td><td style=\"text-align: right;\">  0</td><td style=\"text-align: right;\">  0</td><td style=\"text-align: right;\">  0</td><td style=\"text-align: right;\">  0</td><td style=\"text-align: right;\">  0</td><td style=\"text-align: right;\">  0</td><td style=\"text-align: right;\">  0</td><td style=\"text-align: right;\">  0</td><td style=\"text-align: right;\">  0</td><td style=\"text-align: right;\">  0</td></tr>\n",
       "<tr><td>A </td><td style=\"text-align: right;\">-48</td><td style=\"text-align: right;\">  0</td><td style=\"text-align: right;\">  0</td><td style=\"text-align: right;\">  0</td><td style=\"text-align: right;\">  0</td><td style=\"text-align: right;\">  0</td><td style=\"text-align: right;\">  0</td><td style=\"text-align: right;\">  0</td><td style=\"text-align: right;\">  0</td><td style=\"text-align: right;\">  0</td><td style=\"text-align: right;\">  0</td></tr>\n",
       "<tr><td>E </td><td style=\"text-align: right;\">-56</td><td style=\"text-align: right;\">  0</td><td style=\"text-align: right;\">  0</td><td style=\"text-align: right;\">  0</td><td style=\"text-align: right;\">  0</td><td style=\"text-align: right;\">  0</td><td style=\"text-align: right;\">  0</td><td style=\"text-align: right;\">  0</td><td style=\"text-align: right;\">  0</td><td style=\"text-align: right;\">  0</td><td style=\"text-align: right;\">  0</td></tr>\n",
       "</tbody>\n",
       "</table>"
      ],
      "text/plain": [
       "'<table>\\n<thead>\\n<tr><th>  </th><th style=\"text-align: right;\">   </th><th style=\"text-align: right;\">  H</th><th style=\"text-align: right;\">  E</th><th style=\"text-align: right;\">  A</th><th style=\"text-align: right;\">  G</th><th style=\"text-align: right;\">  A</th><th style=\"text-align: right;\">  W</th><th style=\"text-align: right;\">  G</th><th style=\"text-align: right;\">  H</th><th style=\"text-align: right;\">  E</th><th style=\"text-align: right;\">  E</th></tr>\\n</thead>\\n<tbody>\\n<tr><td>  </td><td style=\"text-align: right;\">  0</td><td style=\"text-align: right;\"> -8</td><td style=\"text-align: right;\">-16</td><td style=\"text-align: right;\">-24</td><td style=\"text-align: right;\">-32</td><td style=\"text-align: right;\">-40</td><td style=\"text-align: right;\">-48</td><td style=\"text-align: right;\">-56</td><td style=\"text-align: right;\">-64</td><td style=\"text-align: right;\">-72</td><td style=\"text-align: right;\">-80</td></tr>\\n<tr><td>P </td><td style=\"text-align: right;\"> -8</td><td style=\"text-align: right;\">  0</td><td style=\"text-align: right;\">  0</td><td style=\"text-align: right;\">  0</td><td style=\"text-align: right;\">  0</td><td style=\"text-align: right;\">  0</td><td style=\"text-align: right;\">  0</td><td style=\"text-align: right;\">  0</td><td style=\"text-align: right;\">  0</td><td style=\"text-align: right;\">  0</td><td style=\"text-align: right;\">  0</td></tr>\\n<tr><td>A </td><td style=\"text-align: right;\">-16</td><td style=\"text-align: right;\">  0</td><td style=\"text-align: right;\">  0</td><td style=\"text-align: right;\">  0</td><td style=\"text-align: right;\">  0</td><td style=\"text-align: right;\">  0</td><td style=\"text-align: right;\">  0</td><td style=\"text-align: right;\">  0</td><td style=\"text-align: right;\">  0</td><td style=\"text-align: right;\">  0</td><td style=\"text-align: right;\">  0</td></tr>\\n<tr><td>W </td><td style=\"text-align: right;\">-24</td><td style=\"text-align: right;\">  0</td><td style=\"text-align: right;\">  0</td><td style=\"text-align: right;\">  0</td><td style=\"text-align: right;\">  0</td><td style=\"text-align: right;\">  0</td><td style=\"text-align: right;\">  0</td><td style=\"text-align: right;\">  0</td><td style=\"text-align: right;\">  0</td><td style=\"text-align: right;\">  0</td><td style=\"text-align: right;\">  0</td></tr>\\n<tr><td>H </td><td style=\"text-align: right;\">-32</td><td style=\"text-align: right;\">  0</td><td style=\"text-align: right;\">  0</td><td style=\"text-align: right;\">  0</td><td style=\"text-align: right;\">  0</td><td style=\"text-align: right;\">  0</td><td style=\"text-align: right;\">  0</td><td style=\"text-align: right;\">  0</td><td style=\"text-align: right;\">  0</td><td style=\"text-align: right;\">  0</td><td style=\"text-align: right;\">  0</td></tr>\\n<tr><td>E </td><td style=\"text-align: right;\">-40</td><td style=\"text-align: right;\">  0</td><td style=\"text-align: right;\">  0</td><td style=\"text-align: right;\">  0</td><td style=\"text-align: right;\">  0</td><td style=\"text-align: right;\">  0</td><td style=\"text-align: right;\">  0</td><td style=\"text-align: right;\">  0</td><td style=\"text-align: right;\">  0</td><td style=\"text-align: right;\">  0</td><td style=\"text-align: right;\">  0</td></tr>\\n<tr><td>A </td><td style=\"text-align: right;\">-48</td><td style=\"text-align: right;\">  0</td><td style=\"text-align: right;\">  0</td><td style=\"text-align: right;\">  0</td><td style=\"text-align: right;\">  0</td><td style=\"text-align: right;\">  0</td><td style=\"text-align: right;\">  0</td><td style=\"text-align: right;\">  0</td><td style=\"text-align: right;\">  0</td><td style=\"text-align: right;\">  0</td><td style=\"text-align: right;\">  0</td></tr>\\n<tr><td>E </td><td style=\"text-align: right;\">-56</td><td style=\"text-align: right;\">  0</td><td style=\"text-align: right;\">  0</td><td style=\"text-align: right;\">  0</td><td style=\"text-align: right;\">  0</td><td style=\"text-align: right;\">  0</td><td style=\"text-align: right;\">  0</td><td style=\"text-align: right;\">  0</td><td style=\"text-align: right;\">  0</td><td style=\"text-align: right;\">  0</td><td style=\"text-align: right;\">  0</td></tr>\\n</tbody>\\n</table>'"
      ]
     },
     "execution_count": 20,
     "metadata": {},
     "output_type": "execute_result"
    }
   ],
   "source": [
    "d = 8\n",
    "F[0][0] = 0\n",
    "for i in range(1, num_linhas):\n",
    "    F[i][0] = F[i-1][0] - d\n",
    "\n",
    "for j in range(1, num_colunas):\n",
    "    F[0][j] = F[0][j-1] - d\n",
    "\n",
    "show_F(seqA, seqB, F)"
   ]
  },
  {
   "cell_type": "markdown",
   "id": "81318aaf-1004-4c8a-88a7-cfee98ff2585",
   "metadata": {},
   "source": [
    "- De quem dependem os escores da primeira coluna? E os da primeira linha?\n",
    "\n",
    "![]()\n",
    "\n",
    "Isso pode ser representado na matriz T da seguinte maneira:"
   ]
  },
  {
   "cell_type": "code",
   "execution_count": 21,
   "id": "3f13da97-5b90-468b-a0f4-e15ddd6a5919",
   "metadata": {},
   "outputs": [
    {
     "data": {
      "text/html": [
       "<table>\n",
       "<thead>\n",
       "<tr><th>  </th><th>   </th><th>H  </th><th>E  </th><th>A  </th><th>G  </th><th>A  </th><th>W  </th><th>G  </th><th>H  </th><th>E  </th><th>E  </th></tr>\n",
       "</thead>\n",
       "<tbody>\n",
       "<tr><td>  </td><td>•  </td><td>←  </td><td>←  </td><td>←  </td><td>←  </td><td>←  </td><td>←  </td><td>←  </td><td>←  </td><td>←  </td><td>←  </td></tr>\n",
       "<tr><td>P </td><td>↑  </td><td>   </td><td>   </td><td>   </td><td>   </td><td>   </td><td>   </td><td>   </td><td>   </td><td>   </td><td>   </td></tr>\n",
       "<tr><td>A </td><td>↑  </td><td>   </td><td>   </td><td>   </td><td>   </td><td>   </td><td>   </td><td>   </td><td>   </td><td>   </td><td>   </td></tr>\n",
       "<tr><td>W </td><td>↑  </td><td>   </td><td>   </td><td>   </td><td>   </td><td>   </td><td>   </td><td>   </td><td>   </td><td>   </td><td>   </td></tr>\n",
       "<tr><td>H </td><td>↑  </td><td>   </td><td>   </td><td>   </td><td>   </td><td>   </td><td>   </td><td>   </td><td>   </td><td>   </td><td>   </td></tr>\n",
       "<tr><td>E </td><td>↑  </td><td>   </td><td>   </td><td>   </td><td>   </td><td>   </td><td>   </td><td>   </td><td>   </td><td>   </td><td>   </td></tr>\n",
       "<tr><td>A </td><td>↑  </td><td>   </td><td>   </td><td>   </td><td>   </td><td>   </td><td>   </td><td>   </td><td>   </td><td>   </td><td>   </td></tr>\n",
       "<tr><td>E </td><td>↑  </td><td>   </td><td>   </td><td>   </td><td>   </td><td>   </td><td>   </td><td>   </td><td>   </td><td>   </td><td>   </td></tr>\n",
       "</tbody>\n",
       "</table>"
      ],
      "text/plain": [
       "'<table>\\n<thead>\\n<tr><th>  </th><th>   </th><th>H  </th><th>E  </th><th>A  </th><th>G  </th><th>A  </th><th>W  </th><th>G  </th><th>H  </th><th>E  </th><th>E  </th></tr>\\n</thead>\\n<tbody>\\n<tr><td>  </td><td>•  </td><td>←  </td><td>←  </td><td>←  </td><td>←  </td><td>←  </td><td>←  </td><td>←  </td><td>←  </td><td>←  </td><td>←  </td></tr>\\n<tr><td>P </td><td>↑  </td><td>   </td><td>   </td><td>   </td><td>   </td><td>   </td><td>   </td><td>   </td><td>   </td><td>   </td><td>   </td></tr>\\n<tr><td>A </td><td>↑  </td><td>   </td><td>   </td><td>   </td><td>   </td><td>   </td><td>   </td><td>   </td><td>   </td><td>   </td><td>   </td></tr>\\n<tr><td>W </td><td>↑  </td><td>   </td><td>   </td><td>   </td><td>   </td><td>   </td><td>   </td><td>   </td><td>   </td><td>   </td><td>   </td></tr>\\n<tr><td>H </td><td>↑  </td><td>   </td><td>   </td><td>   </td><td>   </td><td>   </td><td>   </td><td>   </td><td>   </td><td>   </td><td>   </td></tr>\\n<tr><td>E </td><td>↑  </td><td>   </td><td>   </td><td>   </td><td>   </td><td>   </td><td>   </td><td>   </td><td>   </td><td>   </td><td>   </td></tr>\\n<tr><td>A </td><td>↑  </td><td>   </td><td>   </td><td>   </td><td>   </td><td>   </td><td>   </td><td>   </td><td>   </td><td>   </td><td>   </td></tr>\\n<tr><td>E </td><td>↑  </td><td>   </td><td>   </td><td>   </td><td>   </td><td>   </td><td>   </td><td>   </td><td>   </td><td>   </td><td>   </td></tr>\\n</tbody>\\n</table>'"
      ]
     },
     "execution_count": 21,
     "metadata": {},
     "output_type": "execute_result"
    }
   ],
   "source": [
    "T[0][0] = \"•\"\n",
    "for i in range(1, num_linhas):\n",
    "    T[i][0] = \"↑\"\n",
    "\n",
    "for j in range(1, num_colunas):\n",
    "    T[0][j] = \"←\"\n",
    "\n",
    "show_T(seqA, seqB, T)"
   ]
  },
  {
   "cell_type": "markdown",
   "id": "b20cddbc-4a50-4e28-915f-2fb17574f9b7",
   "metadata": {},
   "source": [
    "Para computar os valores das demais células, o algoritmo deve encontrar o maior valor possíveis dentre três possibilidades que se baseiam nas células ao redor.\n",
    "\n",
    "\\begin{equation}\n",
    "       F(i,j) = \\max\n",
    "       \\begin{pmatrix}\n",
    "           F(i-1,j-1) + s(c_i,c_j) \\\\\n",
    "           F(i-1,j) - d \\\\\n",
    "           F(i,j-1) - d\n",
    "       \\end{pmatrix}\n",
    "\\end{equation} \n",
    "\n",
    "Em que $s$ é a matriz de substituição e $c_i$ e $c_j$ são os resíduos na `seqA` e `seqB`.\n",
    "\n",
    "É esse o trabalho que será realizado pela função a seguir:"
   ]
  },
  {
   "cell_type": "code",
   "execution_count": 22,
   "id": "983929b3-6d12-4e8c-ad4a-3583a290f532",
   "metadata": {},
   "outputs": [
    {
     "data": {
      "text/html": [
       "<table>\n",
       "<thead>\n",
       "<tr><th>  </th><th style=\"text-align: right;\">   </th><th style=\"text-align: right;\">  H</th><th style=\"text-align: right;\">  E</th><th style=\"text-align: right;\">  A</th><th style=\"text-align: right;\">  G</th><th style=\"text-align: right;\">  A</th><th style=\"text-align: right;\">  W</th><th style=\"text-align: right;\">  G</th><th style=\"text-align: right;\">  H</th><th style=\"text-align: right;\">  E</th><th style=\"text-align: right;\">  E</th></tr>\n",
       "</thead>\n",
       "<tbody>\n",
       "<tr><td>  </td><td style=\"text-align: right;\">  0</td><td style=\"text-align: right;\"> -8</td><td style=\"text-align: right;\">-16</td><td style=\"text-align: right;\">-24</td><td style=\"text-align: right;\">-32</td><td style=\"text-align: right;\">-40</td><td style=\"text-align: right;\">-48</td><td style=\"text-align: right;\">-56</td><td style=\"text-align: right;\">-64</td><td style=\"text-align: right;\">-72</td><td style=\"text-align: right;\">-80</td></tr>\n",
       "<tr><td>P </td><td style=\"text-align: right;\"> -8</td><td style=\"text-align: right;\"> -2</td><td style=\"text-align: right;\"> -9</td><td style=\"text-align: right;\">-17</td><td style=\"text-align: right;\">-25</td><td style=\"text-align: right;\">-33</td><td style=\"text-align: right;\">-41</td><td style=\"text-align: right;\">-49</td><td style=\"text-align: right;\">-57</td><td style=\"text-align: right;\">-65</td><td style=\"text-align: right;\">-73</td></tr>\n",
       "<tr><td>A </td><td style=\"text-align: right;\">-16</td><td style=\"text-align: right;\">-10</td><td style=\"text-align: right;\"> -3</td><td style=\"text-align: right;\"> -4</td><td style=\"text-align: right;\">-12</td><td style=\"text-align: right;\">-20</td><td style=\"text-align: right;\">-28</td><td style=\"text-align: right;\">-36</td><td style=\"text-align: right;\">-44</td><td style=\"text-align: right;\">-52</td><td style=\"text-align: right;\">-60</td></tr>\n",
       "<tr><td>W </td><td style=\"text-align: right;\">-24</td><td style=\"text-align: right;\">-18</td><td style=\"text-align: right;\">-11</td><td style=\"text-align: right;\"> -6</td><td style=\"text-align: right;\"> -7</td><td style=\"text-align: right;\">-15</td><td style=\"text-align: right;\"> -5</td><td style=\"text-align: right;\">-13</td><td style=\"text-align: right;\">-21</td><td style=\"text-align: right;\">-29</td><td style=\"text-align: right;\">-37</td></tr>\n",
       "<tr><td>H </td><td style=\"text-align: right;\">-32</td><td style=\"text-align: right;\">-14</td><td style=\"text-align: right;\">-18</td><td style=\"text-align: right;\">-13</td><td style=\"text-align: right;\"> -8</td><td style=\"text-align: right;\"> -9</td><td style=\"text-align: right;\">-13</td><td style=\"text-align: right;\"> -7</td><td style=\"text-align: right;\"> -3</td><td style=\"text-align: right;\">-11</td><td style=\"text-align: right;\">-19</td></tr>\n",
       "<tr><td>E </td><td style=\"text-align: right;\">-40</td><td style=\"text-align: right;\">-22</td><td style=\"text-align: right;\"> -8</td><td style=\"text-align: right;\">-16</td><td style=\"text-align: right;\">-16</td><td style=\"text-align: right;\"> -9</td><td style=\"text-align: right;\">-12</td><td style=\"text-align: right;\">-15</td><td style=\"text-align: right;\"> -7</td><td style=\"text-align: right;\">  3</td><td style=\"text-align: right;\"> -5</td></tr>\n",
       "<tr><td>A </td><td style=\"text-align: right;\">-48</td><td style=\"text-align: right;\">-30</td><td style=\"text-align: right;\">-16</td><td style=\"text-align: right;\"> -3</td><td style=\"text-align: right;\">-11</td><td style=\"text-align: right;\">-11</td><td style=\"text-align: right;\">-12</td><td style=\"text-align: right;\">-12</td><td style=\"text-align: right;\">-15</td><td style=\"text-align: right;\"> -5</td><td style=\"text-align: right;\">  2</td></tr>\n",
       "<tr><td>E </td><td style=\"text-align: right;\">-56</td><td style=\"text-align: right;\">-38</td><td style=\"text-align: right;\">-24</td><td style=\"text-align: right;\">-11</td><td style=\"text-align: right;\"> -6</td><td style=\"text-align: right;\">-12</td><td style=\"text-align: right;\">-14</td><td style=\"text-align: right;\">-15</td><td style=\"text-align: right;\">-12</td><td style=\"text-align: right;\"> -9</td><td style=\"text-align: right;\">  1</td></tr>\n",
       "</tbody>\n",
       "</table>"
      ],
      "text/plain": [
       "'<table>\\n<thead>\\n<tr><th>  </th><th style=\"text-align: right;\">   </th><th style=\"text-align: right;\">  H</th><th style=\"text-align: right;\">  E</th><th style=\"text-align: right;\">  A</th><th style=\"text-align: right;\">  G</th><th style=\"text-align: right;\">  A</th><th style=\"text-align: right;\">  W</th><th style=\"text-align: right;\">  G</th><th style=\"text-align: right;\">  H</th><th style=\"text-align: right;\">  E</th><th style=\"text-align: right;\">  E</th></tr>\\n</thead>\\n<tbody>\\n<tr><td>  </td><td style=\"text-align: right;\">  0</td><td style=\"text-align: right;\"> -8</td><td style=\"text-align: right;\">-16</td><td style=\"text-align: right;\">-24</td><td style=\"text-align: right;\">-32</td><td style=\"text-align: right;\">-40</td><td style=\"text-align: right;\">-48</td><td style=\"text-align: right;\">-56</td><td style=\"text-align: right;\">-64</td><td style=\"text-align: right;\">-72</td><td style=\"text-align: right;\">-80</td></tr>\\n<tr><td>P </td><td style=\"text-align: right;\"> -8</td><td style=\"text-align: right;\"> -2</td><td style=\"text-align: right;\"> -9</td><td style=\"text-align: right;\">-17</td><td style=\"text-align: right;\">-25</td><td style=\"text-align: right;\">-33</td><td style=\"text-align: right;\">-41</td><td style=\"text-align: right;\">-49</td><td style=\"text-align: right;\">-57</td><td style=\"text-align: right;\">-65</td><td style=\"text-align: right;\">-73</td></tr>\\n<tr><td>A </td><td style=\"text-align: right;\">-16</td><td style=\"text-align: right;\">-10</td><td style=\"text-align: right;\"> -3</td><td style=\"text-align: right;\"> -4</td><td style=\"text-align: right;\">-12</td><td style=\"text-align: right;\">-20</td><td style=\"text-align: right;\">-28</td><td style=\"text-align: right;\">-36</td><td style=\"text-align: right;\">-44</td><td style=\"text-align: right;\">-52</td><td style=\"text-align: right;\">-60</td></tr>\\n<tr><td>W </td><td style=\"text-align: right;\">-24</td><td style=\"text-align: right;\">-18</td><td style=\"text-align: right;\">-11</td><td style=\"text-align: right;\"> -6</td><td style=\"text-align: right;\"> -7</td><td style=\"text-align: right;\">-15</td><td style=\"text-align: right;\"> -5</td><td style=\"text-align: right;\">-13</td><td style=\"text-align: right;\">-21</td><td style=\"text-align: right;\">-29</td><td style=\"text-align: right;\">-37</td></tr>\\n<tr><td>H </td><td style=\"text-align: right;\">-32</td><td style=\"text-align: right;\">-14</td><td style=\"text-align: right;\">-18</td><td style=\"text-align: right;\">-13</td><td style=\"text-align: right;\"> -8</td><td style=\"text-align: right;\"> -9</td><td style=\"text-align: right;\">-13</td><td style=\"text-align: right;\"> -7</td><td style=\"text-align: right;\"> -3</td><td style=\"text-align: right;\">-11</td><td style=\"text-align: right;\">-19</td></tr>\\n<tr><td>E </td><td style=\"text-align: right;\">-40</td><td style=\"text-align: right;\">-22</td><td style=\"text-align: right;\"> -8</td><td style=\"text-align: right;\">-16</td><td style=\"text-align: right;\">-16</td><td style=\"text-align: right;\"> -9</td><td style=\"text-align: right;\">-12</td><td style=\"text-align: right;\">-15</td><td style=\"text-align: right;\"> -7</td><td style=\"text-align: right;\">  3</td><td style=\"text-align: right;\"> -5</td></tr>\\n<tr><td>A </td><td style=\"text-align: right;\">-48</td><td style=\"text-align: right;\">-30</td><td style=\"text-align: right;\">-16</td><td style=\"text-align: right;\"> -3</td><td style=\"text-align: right;\">-11</td><td style=\"text-align: right;\">-11</td><td style=\"text-align: right;\">-12</td><td style=\"text-align: right;\">-12</td><td style=\"text-align: right;\">-15</td><td style=\"text-align: right;\"> -5</td><td style=\"text-align: right;\">  2</td></tr>\\n<tr><td>E </td><td style=\"text-align: right;\">-56</td><td style=\"text-align: right;\">-38</td><td style=\"text-align: right;\">-24</td><td style=\"text-align: right;\">-11</td><td style=\"text-align: right;\"> -6</td><td style=\"text-align: right;\">-12</td><td style=\"text-align: right;\">-14</td><td style=\"text-align: right;\">-15</td><td style=\"text-align: right;\">-12</td><td style=\"text-align: right;\"> -9</td><td style=\"text-align: right;\">  1</td></tr>\\n</tbody>\\n</table>'"
      ]
     },
     "execution_count": 22,
     "metadata": {},
     "output_type": "execute_result"
    }
   ],
   "source": [
    "from skbio.alignment._pairwise import _compute_score_and_traceback_matrices\n",
    "from skbio.alignment import TabularMSA\n",
    "\n",
    "seqA = TabularMSA([seqA])\n",
    "seqB = TabularMSA([seqB])\n",
    "\n",
    "matriz_nw, matriz_rastreio = _compute_score_and_traceback_matrices(seqA, seqB, 8, 8, blosum50)\n",
    "\n",
    "show_F(seqA[0], seqB[0], matriz_nw)"
   ]
  },
  {
   "cell_type": "code",
   "execution_count": 23,
   "id": "ae3587e9-be18-48d9-84e9-21b23448bf36",
   "metadata": {},
   "outputs": [
    {
     "data": {
      "text/html": [
       "<table>\n",
       "<thead>\n",
       "<tr><th>  </th><th>   </th><th>H  </th><th>E  </th><th>A  </th><th>G  </th><th>A  </th><th>W  </th><th>G  </th><th>H  </th><th>E  </th><th>E  </th></tr>\n",
       "</thead>\n",
       "<tbody>\n",
       "<tr><td>  </td><td>•  </td><td>←  </td><td>←  </td><td>←  </td><td>←  </td><td>←  </td><td>←  </td><td>←  </td><td>←  </td><td>←  </td><td>←  </td></tr>\n",
       "<tr><td>P </td><td>↑  </td><td>↖  </td><td>↖  </td><td>←  </td><td>←  </td><td>←  </td><td>←  </td><td>←  </td><td>←  </td><td>←  </td><td>←  </td></tr>\n",
       "<tr><td>A </td><td>↑  </td><td>↖  </td><td>↖  </td><td>↖  </td><td>←  </td><td>←  </td><td>←  </td><td>←  </td><td>←  </td><td>←  </td><td>←  </td></tr>\n",
       "<tr><td>W </td><td>↑  </td><td>↑  </td><td>↑  </td><td>↖  </td><td>↖  </td><td>←  </td><td>↖  </td><td>←  </td><td>←  </td><td>←  </td><td>←  </td></tr>\n",
       "<tr><td>H </td><td>↑  </td><td>↖  </td><td>↖  </td><td>↖  </td><td>↖  </td><td>↖  </td><td>↑  </td><td>↖  </td><td>↖  </td><td>←  </td><td>←  </td></tr>\n",
       "<tr><td>E </td><td>↑  </td><td>↑  </td><td>↖  </td><td>←  </td><td>↖  </td><td>↖  </td><td>↖  </td><td>↑  </td><td>↖  </td><td>↖  </td><td>←  </td></tr>\n",
       "<tr><td>A </td><td>↑  </td><td>↑  </td><td>↑  </td><td>↖  </td><td>←  </td><td>↖  </td><td>↖  </td><td>↖  </td><td>↑  </td><td>↑  </td><td>↖  </td></tr>\n",
       "<tr><td>E </td><td>↑  </td><td>↑  </td><td>↖  </td><td>↑  </td><td>↖  </td><td>↖  </td><td>↖  </td><td>↖  </td><td>↖  </td><td>↖  </td><td>↖  </td></tr>\n",
       "</tbody>\n",
       "</table>"
      ],
      "text/plain": [
       "'<table>\\n<thead>\\n<tr><th>  </th><th>   </th><th>H  </th><th>E  </th><th>A  </th><th>G  </th><th>A  </th><th>W  </th><th>G  </th><th>H  </th><th>E  </th><th>E  </th></tr>\\n</thead>\\n<tbody>\\n<tr><td>  </td><td>•  </td><td>←  </td><td>←  </td><td>←  </td><td>←  </td><td>←  </td><td>←  </td><td>←  </td><td>←  </td><td>←  </td><td>←  </td></tr>\\n<tr><td>P </td><td>↑  </td><td>↖  </td><td>↖  </td><td>←  </td><td>←  </td><td>←  </td><td>←  </td><td>←  </td><td>←  </td><td>←  </td><td>←  </td></tr>\\n<tr><td>A </td><td>↑  </td><td>↖  </td><td>↖  </td><td>↖  </td><td>←  </td><td>←  </td><td>←  </td><td>←  </td><td>←  </td><td>←  </td><td>←  </td></tr>\\n<tr><td>W </td><td>↑  </td><td>↑  </td><td>↑  </td><td>↖  </td><td>↖  </td><td>←  </td><td>↖  </td><td>←  </td><td>←  </td><td>←  </td><td>←  </td></tr>\\n<tr><td>H </td><td>↑  </td><td>↖  </td><td>↖  </td><td>↖  </td><td>↖  </td><td>↖  </td><td>↑  </td><td>↖  </td><td>↖  </td><td>←  </td><td>←  </td></tr>\\n<tr><td>E </td><td>↑  </td><td>↑  </td><td>↖  </td><td>←  </td><td>↖  </td><td>↖  </td><td>↖  </td><td>↑  </td><td>↖  </td><td>↖  </td><td>←  </td></tr>\\n<tr><td>A </td><td>↑  </td><td>↑  </td><td>↑  </td><td>↖  </td><td>←  </td><td>↖  </td><td>↖  </td><td>↖  </td><td>↑  </td><td>↑  </td><td>↖  </td></tr>\\n<tr><td>E </td><td>↑  </td><td>↑  </td><td>↖  </td><td>↑  </td><td>↖  </td><td>↖  </td><td>↖  </td><td>↖  </td><td>↖  </td><td>↖  </td><td>↖  </td></tr>\\n</tbody>\\n</table>'"
      ]
     },
     "execution_count": 23,
     "metadata": {},
     "output_type": "execute_result"
    }
   ],
   "source": [
    "show_T(seqA[0], seqB[0], matriz_rastreio)"
   ]
  },
  {
   "cell_type": "code",
   "execution_count": 24,
   "id": "4e5c5851-ef77-4e18-a4c6-d460b03ef749",
   "metadata": {},
   "outputs": [
    {
     "name": "stdout",
     "output_type": "stream",
     "text": [
      "HEAGAWGHE-E\n",
      "-PA--W-HEAE\n",
      "1.0\n"
     ]
    }
   ],
   "source": [
    "from skbio.alignment._pairwise import _traceback\n",
    "\n",
    "aln1, aln2, score, _, _ = _traceback(matriz_rastreio,matriz_nw,seqA,seqB, matriz_nw.shape[0]-1, matriz_nw.shape[1]-1)\n",
    "\n",
    "print(aln1[0])\n",
    "print(aln2[0])\n",
    "print(score)"
   ]
  },
  {
   "cell_type": "markdown",
   "id": "f017ec2e-3367-42ee-8b93-0259df3a8f7f",
   "metadata": {},
   "source": [
    "Uma função para realizar todo esse trabalho já está impementada no skbio, e chama-se global_pairwise_align:"
   ]
  },
  {
   "cell_type": "code",
   "execution_count": 25,
   "id": "209f0c26-bc3d-4c3a-b28a-550a243b309a",
   "metadata": {},
   "outputs": [
    {
     "name": "stdout",
     "output_type": "stream",
     "text": [
      "TabularMSA[Protein]\n",
      "----------------------\n",
      "Stats:\n",
      "    sequence count: 2\n",
      "    position count: 11\n",
      "----------------------\n",
      "HEAGAWGHE-E\n",
      "-PA--W-HEAE\n",
      "1.0\n"
     ]
    },
    {
     "name": "stderr",
     "output_type": "stream",
     "text": [
      "/home/tayna/.cache/pypoetry/virtualenvs/intro-bioinfo-unir-DNHDuZ-q-py3.8/lib/python3.8/site-packages/skbio/alignment/_pairwise.py:595: EfficiencyWarning: You're using skbio's python implementation of Needleman-Wunsch alignment. This is known to be very slow (e.g., thousands of times slower than a native C implementation). We'll be adding a faster version soon (see https://github.com/biocore/scikit-bio/issues/254 to track progress on this).\n",
      "  warn(\"You're using skbio's python implementation of Needleman-Wunsch \"\n"
     ]
    }
   ],
   "source": [
    "from skbio.alignment import global_pairwise_align\n",
    "\n",
    "aln, score, _ = global_pairwise_align(Protein(\"HEAGAWGHEE\"), Protein(\"PAWHEAE\"), 8, 8, blosum50, penalize_terminal_gaps=True)\n",
    "\n",
    "print(aln)\n",
    "print(score)"
   ]
  },
  {
   "cell_type": "markdown",
   "id": "247f40cf-4bb3-48e2-ac47-5956abeefa67",
   "metadata": {},
   "source": [
    "Percebe esse Warning? Há ainda uma implementação mais rápida do algoritmo."
   ]
  },
  {
   "cell_type": "markdown",
   "id": "07b4da96-9af8-4f3c-a7f0-124c46e19cab",
   "metadata": {},
   "source": [
    "No caso do alinhamento local, podemos utilizar sequências com sobreposições parciais em suas sequências para identificar a melhor forma de alinhar ao menos uma parte dessa sequência. Uma aplicação de algoritmos de alinhamento local é o [servidor web BLAST](http://blast.ncbi.nlm.nih.gov/Blast.cgi), onde enviamos uma sequência que é comparada com um banco de referência padrão ou de nossa escolha. e recebemos uma ou mais sequências similares, com diversas métricas para avaliação dos alinhamentos."
   ]
  },
  {
   "cell_type": "markdown",
   "id": "d910b7ca-5386-44d0-92fc-27dd9b4a6802",
   "metadata": {},
   "source": [
    "Você pode seguir esse tutorial na referência, a partir do tópico *Smith-Waterman local sequence alignment* do [capítulo de alinhamento](https://readiab.org/pairwise-alignment.html). Por agora é isso!\n",
    "\n",
    "![Bye!](https://media3.giphy.com/media/mP8GermRyOFWV8PQeq/giphy.gif?cid=ecf05e476h1el4ct81t72tnychc2t2dl2ukhdzbat0qkpdk2&rid=giphy.gif&ct=g)"
   ]
  },
  {
   "cell_type": "markdown",
   "id": "1d2efe60-5a57-4809-a4a4-9cb1b670c285",
   "metadata": {},
   "source": [
    "## Referência\n",
    "\n",
    "(2021) **J Gregory Caporaso** [An Introduction to Applied Bioinformatics](https://readiab.org/introduction.html)"
   ]
  }
 ],
 "metadata": {
  "kernelspec": {
   "display_name": "Python 3 (ipykernel)",
   "language": "python",
   "name": "python3"
  },
  "language_info": {
   "codemirror_mode": {
    "name": "ipython",
    "version": 3
   },
   "file_extension": ".py",
   "mimetype": "text/x-python",
   "name": "python",
   "nbconvert_exporter": "python",
   "pygments_lexer": "ipython3",
   "version": "3.8.10"
  }
 },
 "nbformat": 4,
 "nbformat_minor": 5
}
